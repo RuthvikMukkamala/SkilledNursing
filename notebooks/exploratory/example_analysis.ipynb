{
 "cells": [
  {
   "cell_type": "markdown",
   "metadata": {},
   "source": [
    "# SNF REIT Analysis - Exploratory Analysis\n",
    "\n",
    "This notebook demonstrates how to use the SNF REIT Analysis platform for exploratory data analysis."
   ]
  },
  {
   "cell_type": "code",
   "execution_count": 1,
   "metadata": {},
   "outputs": [],
   "source": [
    "import pandas as pd\n",
    "import plotly.express as px\n",
    "from snf_reit_analysis.data.loaders import CMSDataLoader, BLSDataLoader, SECDataLoader\n",
    "from snf_reit_analysis.config import config"
   ]
  },
  {
   "cell_type": "markdown",
   "metadata": {},
   "source": [
    "## 1. Load CMS Nursing Home Data"
   ]
  },
  {
   "cell_type": "code",
   "execution_count": 2,
   "metadata": {},
   "outputs": [
    {
     "name": "stdout",
     "output_type": "stream",
     "text": [
      "Fetched 14,752 provider records\n"
     ]
    },
    {
     "data": {
      "text/html": [
       "<div>\n",
       "<style scoped>\n",
       "    .dataframe tbody tr th:only-of-type {\n",
       "        vertical-align: middle;\n",
       "    }\n",
       "\n",
       "    .dataframe tbody tr th {\n",
       "        vertical-align: top;\n",
       "    }\n",
       "\n",
       "    .dataframe thead th {\n",
       "        text-align: right;\n",
       "    }\n",
       "</style>\n",
       "<table border=\"1\" class=\"dataframe\">\n",
       "  <thead>\n",
       "    <tr style=\"text-align: right;\">\n",
       "      <th></th>\n",
       "      <th>cms_certification_number_ccn</th>\n",
       "      <th>provider_name</th>\n",
       "      <th>provider_address</th>\n",
       "      <th>citytown</th>\n",
       "      <th>state</th>\n",
       "      <th>zip_code</th>\n",
       "      <th>telephone_number</th>\n",
       "      <th>provider_ssa_county_code</th>\n",
       "      <th>countyparish</th>\n",
       "      <th>ownership_type</th>\n",
       "      <th>...</th>\n",
       "      <th>number_of_citations_from_infection_control_inspections</th>\n",
       "      <th>number_of_fines</th>\n",
       "      <th>total_amount_of_fines_in_dollars</th>\n",
       "      <th>number_of_payment_denials</th>\n",
       "      <th>total_number_of_penalties</th>\n",
       "      <th>location</th>\n",
       "      <th>latitude</th>\n",
       "      <th>longitude</th>\n",
       "      <th>geocoding_footnote</th>\n",
       "      <th>processing_date</th>\n",
       "    </tr>\n",
       "  </thead>\n",
       "  <tbody>\n",
       "    <tr>\n",
       "      <th>0</th>\n",
       "      <td>015009</td>\n",
       "      <td>BURNS NURSING HOME, INC.</td>\n",
       "      <td>701 MONROE STREET NW</td>\n",
       "      <td>RUSSELLVILLE</td>\n",
       "      <td>AL</td>\n",
       "      <td>35653</td>\n",
       "      <td>2563324110</td>\n",
       "      <td>290</td>\n",
       "      <td>Franklin</td>\n",
       "      <td>For profit - Corporation</td>\n",
       "      <td>...</td>\n",
       "      <td></td>\n",
       "      <td>1</td>\n",
       "      <td>23989.00</td>\n",
       "      <td>0</td>\n",
       "      <td>1</td>\n",
       "      <td>701 MONROE STREET NW,RUSSELLVILLE,AL,35653</td>\n",
       "      <td>34.5149</td>\n",
       "      <td>-87.736</td>\n",
       "      <td></td>\n",
       "      <td>2025-09-01</td>\n",
       "    </tr>\n",
       "    <tr>\n",
       "      <th>1</th>\n",
       "      <td>015010</td>\n",
       "      <td>COOSA VALLEY HEALTHCARE CENTER</td>\n",
       "      <td>260 WEST WALNUT STREET</td>\n",
       "      <td>SYLACAUGA</td>\n",
       "      <td>AL</td>\n",
       "      <td>35150</td>\n",
       "      <td>2562495604</td>\n",
       "      <td>600</td>\n",
       "      <td>Talladega</td>\n",
       "      <td>For profit - Corporation</td>\n",
       "      <td>...</td>\n",
       "      <td>0</td>\n",
       "      <td>0</td>\n",
       "      <td>0.00</td>\n",
       "      <td>0</td>\n",
       "      <td>0</td>\n",
       "      <td>260 WEST WALNUT STREET,SYLACAUGA,AL,35150</td>\n",
       "      <td>33.1637</td>\n",
       "      <td>-86.254</td>\n",
       "      <td></td>\n",
       "      <td>2025-09-01</td>\n",
       "    </tr>\n",
       "    <tr>\n",
       "      <th>2</th>\n",
       "      <td>015012</td>\n",
       "      <td>HIGHLANDS HEALTH AND REHAB</td>\n",
       "      <td>380 WOODS COVE ROAD</td>\n",
       "      <td>SCOTTSBORO</td>\n",
       "      <td>AL</td>\n",
       "      <td>35768</td>\n",
       "      <td>2562183708</td>\n",
       "      <td>350</td>\n",
       "      <td>Jackson</td>\n",
       "      <td>Government - County</td>\n",
       "      <td>...</td>\n",
       "      <td></td>\n",
       "      <td>0</td>\n",
       "      <td>0.00</td>\n",
       "      <td>0</td>\n",
       "      <td>0</td>\n",
       "      <td>380 WOODS COVE ROAD,SCOTTSBORO,AL,35768</td>\n",
       "      <td>34.6611</td>\n",
       "      <td>-86.047</td>\n",
       "      <td></td>\n",
       "      <td>2025-09-01</td>\n",
       "    </tr>\n",
       "    <tr>\n",
       "      <th>3</th>\n",
       "      <td>015014</td>\n",
       "      <td>EASTVIEW REHABILITATION &amp; HEALTHCARE CENTER</td>\n",
       "      <td>7755 FOURTH AVENUE SOUTH</td>\n",
       "      <td>BIRMINGHAM</td>\n",
       "      <td>AL</td>\n",
       "      <td>35206</td>\n",
       "      <td>2058330146</td>\n",
       "      <td>360</td>\n",
       "      <td>Jefferson</td>\n",
       "      <td>For profit - Individual</td>\n",
       "      <td>...</td>\n",
       "      <td>0</td>\n",
       "      <td>0</td>\n",
       "      <td>0.00</td>\n",
       "      <td>0</td>\n",
       "      <td>0</td>\n",
       "      <td>7755 FOURTH AVENUE SOUTH,BIRMINGHAM,AL,35206</td>\n",
       "      <td>33.5595</td>\n",
       "      <td>-86.722</td>\n",
       "      <td></td>\n",
       "      <td>2025-09-01</td>\n",
       "    </tr>\n",
       "    <tr>\n",
       "      <th>4</th>\n",
       "      <td>015015</td>\n",
       "      <td>PLANTATION MANOR NURSING HOME</td>\n",
       "      <td>6450 OLD TUSCALOOSA HIGHWAY</td>\n",
       "      <td>MC CALLA</td>\n",
       "      <td>AL</td>\n",
       "      <td>35111</td>\n",
       "      <td>2054776161</td>\n",
       "      <td>360</td>\n",
       "      <td>Jefferson</td>\n",
       "      <td>For profit - Individual</td>\n",
       "      <td>...</td>\n",
       "      <td></td>\n",
       "      <td>0</td>\n",
       "      <td>0.00</td>\n",
       "      <td>0</td>\n",
       "      <td>0</td>\n",
       "      <td>6450 OLD TUSCALOOSA HIGHWAY,MC CALLA,AL,35111</td>\n",
       "      <td>33.3222</td>\n",
       "      <td>-87.034</td>\n",
       "      <td></td>\n",
       "      <td>2025-09-01</td>\n",
       "    </tr>\n",
       "  </tbody>\n",
       "</table>\n",
       "<p>5 rows × 100 columns</p>\n",
       "</div>"
      ],
      "text/plain": [
       "  cms_certification_number_ccn                                provider_name  \\\n",
       "0                       015009                     BURNS NURSING HOME, INC.   \n",
       "1                       015010               COOSA VALLEY HEALTHCARE CENTER   \n",
       "2                       015012                   HIGHLANDS HEALTH AND REHAB   \n",
       "3                       015014  EASTVIEW REHABILITATION & HEALTHCARE CENTER   \n",
       "4                       015015                PLANTATION MANOR NURSING HOME   \n",
       "\n",
       "              provider_address      citytown state zip_code telephone_number  \\\n",
       "0         701 MONROE STREET NW  RUSSELLVILLE    AL    35653       2563324110   \n",
       "1       260 WEST WALNUT STREET     SYLACAUGA    AL    35150       2562495604   \n",
       "2          380 WOODS COVE ROAD    SCOTTSBORO    AL    35768       2562183708   \n",
       "3     7755 FOURTH AVENUE SOUTH    BIRMINGHAM    AL    35206       2058330146   \n",
       "4  6450 OLD TUSCALOOSA HIGHWAY      MC CALLA    AL    35111       2054776161   \n",
       "\n",
       "  provider_ssa_county_code countyparish            ownership_type  ...  \\\n",
       "0                      290     Franklin  For profit - Corporation  ...   \n",
       "1                      600    Talladega  For profit - Corporation  ...   \n",
       "2                      350      Jackson       Government - County  ...   \n",
       "3                      360    Jefferson   For profit - Individual  ...   \n",
       "4                      360    Jefferson   For profit - Individual  ...   \n",
       "\n",
       "  number_of_citations_from_infection_control_inspections number_of_fines  \\\n",
       "0                                                                      1   \n",
       "1                                                  0                   0   \n",
       "2                                                                      0   \n",
       "3                                                  0                   0   \n",
       "4                                                                      0   \n",
       "\n",
       "  total_amount_of_fines_in_dollars number_of_payment_denials  \\\n",
       "0                         23989.00                         0   \n",
       "1                             0.00                         0   \n",
       "2                             0.00                         0   \n",
       "3                             0.00                         0   \n",
       "4                             0.00                         0   \n",
       "\n",
       "  total_number_of_penalties                                       location  \\\n",
       "0                         1     701 MONROE STREET NW,RUSSELLVILLE,AL,35653   \n",
       "1                         0      260 WEST WALNUT STREET,SYLACAUGA,AL,35150   \n",
       "2                         0        380 WOODS COVE ROAD,SCOTTSBORO,AL,35768   \n",
       "3                         0   7755 FOURTH AVENUE SOUTH,BIRMINGHAM,AL,35206   \n",
       "4                         0  6450 OLD TUSCALOOSA HIGHWAY,MC CALLA,AL,35111   \n",
       "\n",
       "  latitude longitude geocoding_footnote processing_date  \n",
       "0  34.5149   -87.736                         2025-09-01  \n",
       "1  33.1637   -86.254                         2025-09-01  \n",
       "2  34.6611   -86.047                         2025-09-01  \n",
       "3  33.5595   -86.722                         2025-09-01  \n",
       "4  33.3222   -87.034                         2025-09-01  \n",
       "\n",
       "[5 rows x 100 columns]"
      ]
     },
     "execution_count": 2,
     "metadata": {},
     "output_type": "execute_result"
    }
   ],
   "source": [
    "# Initialize CMS data loader\n",
    "cms = CMSDataLoader()\n",
    "\n",
    "# Fetch provider information for high-rated facilities\n",
    "providers = cms.get_provider_info(min_rating=4, use_polars=False)\n",
    "print(f\"Fetched {len(providers):,} provider records\")\n",
    "providers.head()"
   ]
  },
  {
   "cell_type": "markdown",
   "metadata": {},
   "source": [
    "## 2. Load BLS Economic Indicators"
   ]
  },
  {
   "cell_type": "code",
   "execution_count": 3,
   "metadata": {},
   "outputs": [
    {
     "name": "stdout",
     "output_type": "stream",
     "text": [
      "Fetched 195 PPI records\n"
     ]
    },
    {
     "data": {
      "text/html": [
       "<div>\n",
       "<style scoped>\n",
       "    .dataframe tbody tr th:only-of-type {\n",
       "        vertical-align: middle;\n",
       "    }\n",
       "\n",
       "    .dataframe tbody tr th {\n",
       "        vertical-align: top;\n",
       "    }\n",
       "\n",
       "    .dataframe thead th {\n",
       "        text-align: right;\n",
       "    }\n",
       "</style>\n",
       "<table border=\"1\" class=\"dataframe\">\n",
       "  <thead>\n",
       "    <tr style=\"text-align: right;\">\n",
       "      <th></th>\n",
       "      <th>series_id</th>\n",
       "      <th>series_name</th>\n",
       "      <th>year</th>\n",
       "      <th>period</th>\n",
       "      <th>period_name</th>\n",
       "      <th>value</th>\n",
       "      <th>latest</th>\n",
       "    </tr>\n",
       "  </thead>\n",
       "  <tbody>\n",
       "    <tr>\n",
       "      <th>0</th>\n",
       "      <td>PCU623110623110</td>\n",
       "      <td>PPI Overall</td>\n",
       "      <td>2024</td>\n",
       "      <td>M13</td>\n",
       "      <td>Annual</td>\n",
       "      <td>277.772</td>\n",
       "      <td>False</td>\n",
       "    </tr>\n",
       "    <tr>\n",
       "      <th>1</th>\n",
       "      <td>PCU623110623110</td>\n",
       "      <td>PPI Overall</td>\n",
       "      <td>2024</td>\n",
       "      <td>M12</td>\n",
       "      <td>December</td>\n",
       "      <td>283.049</td>\n",
       "      <td>False</td>\n",
       "    </tr>\n",
       "    <tr>\n",
       "      <th>2</th>\n",
       "      <td>PCU623110623110</td>\n",
       "      <td>PPI Overall</td>\n",
       "      <td>2024</td>\n",
       "      <td>M11</td>\n",
       "      <td>November</td>\n",
       "      <td>281.094</td>\n",
       "      <td>False</td>\n",
       "    </tr>\n",
       "    <tr>\n",
       "      <th>3</th>\n",
       "      <td>PCU623110623110</td>\n",
       "      <td>PPI Overall</td>\n",
       "      <td>2024</td>\n",
       "      <td>M10</td>\n",
       "      <td>October</td>\n",
       "      <td>280.816</td>\n",
       "      <td>False</td>\n",
       "    </tr>\n",
       "    <tr>\n",
       "      <th>4</th>\n",
       "      <td>PCU623110623110</td>\n",
       "      <td>PPI Overall</td>\n",
       "      <td>2024</td>\n",
       "      <td>M09</td>\n",
       "      <td>September</td>\n",
       "      <td>277.284</td>\n",
       "      <td>False</td>\n",
       "    </tr>\n",
       "  </tbody>\n",
       "</table>\n",
       "</div>"
      ],
      "text/plain": [
       "         series_id  series_name  year period period_name    value  latest\n",
       "0  PCU623110623110  PPI Overall  2024    M13      Annual  277.772   False\n",
       "1  PCU623110623110  PPI Overall  2024    M12    December  283.049   False\n",
       "2  PCU623110623110  PPI Overall  2024    M11    November  281.094   False\n",
       "3  PCU623110623110  PPI Overall  2024    M10     October  280.816   False\n",
       "4  PCU623110623110  PPI Overall  2024    M09   September  277.284   False"
      ]
     },
     "execution_count": 3,
     "metadata": {},
     "output_type": "execute_result"
    }
   ],
   "source": [
    "# Initialize BLS data loader\n",
    "bls = BLSDataLoader()\n",
    "\n",
    "# Fetch PPI data\n",
    "ppi_data = bls.get_nursing_facility_ppi(start_year=\"2020\", end_year=\"2024\")\n",
    "print(f\"Fetched {len(ppi_data):,} PPI records\")\n",
    "ppi_data.head()"
   ]
  },
  {
   "cell_type": "markdown",
   "metadata": {},
   "source": [
    "## 3. Load SEC REIT Financials"
   ]
  },
  {
   "cell_type": "code",
   "execution_count": 4,
   "metadata": {},
   "outputs": [
    {
     "name": "stdout",
     "output_type": "stream",
     "text": [
      "Fetched 8 financial metrics for OHI\n"
     ]
    },
    {
     "data": {
      "text/html": [
       "<div>\n",
       "<style scoped>\n",
       "    .dataframe tbody tr th:only-of-type {\n",
       "        vertical-align: middle;\n",
       "    }\n",
       "\n",
       "    .dataframe tbody tr th {\n",
       "        vertical-align: top;\n",
       "    }\n",
       "\n",
       "    .dataframe thead th {\n",
       "        text-align: right;\n",
       "    }\n",
       "</style>\n",
       "<table border=\"1\" class=\"dataframe\">\n",
       "  <thead>\n",
       "    <tr style=\"text-align: right;\">\n",
       "      <th></th>\n",
       "      <th>end</th>\n",
       "      <th>val</th>\n",
       "      <th>accn</th>\n",
       "      <th>fy</th>\n",
       "      <th>fp</th>\n",
       "      <th>form</th>\n",
       "      <th>filed</th>\n",
       "      <th>frame</th>\n",
       "    </tr>\n",
       "  </thead>\n",
       "  <tbody>\n",
       "    <tr>\n",
       "      <th>127</th>\n",
       "      <td>2025-06-30</td>\n",
       "      <td>10546476000</td>\n",
       "      <td>0000888491-25-000025</td>\n",
       "      <td>2025.0</td>\n",
       "      <td>Q2</td>\n",
       "      <td>10-Q</td>\n",
       "      <td>2025-08-01</td>\n",
       "      <td>CY2025Q2I</td>\n",
       "    </tr>\n",
       "    <tr>\n",
       "      <th>126</th>\n",
       "      <td>2025-03-31</td>\n",
       "      <td>9705738000</td>\n",
       "      <td>0000888491-25-000016</td>\n",
       "      <td>2025.0</td>\n",
       "      <td>Q1</td>\n",
       "      <td>10-Q</td>\n",
       "      <td>2025-05-02</td>\n",
       "      <td>CY2025Q1I</td>\n",
       "    </tr>\n",
       "    <tr>\n",
       "      <th>125</th>\n",
       "      <td>2024-12-31</td>\n",
       "      <td>9897891000</td>\n",
       "      <td>0000888491-25-000025</td>\n",
       "      <td>2025.0</td>\n",
       "      <td>Q2</td>\n",
       "      <td>10-Q</td>\n",
       "      <td>2025-08-01</td>\n",
       "      <td>CY2024Q4I</td>\n",
       "    </tr>\n",
       "    <tr>\n",
       "      <th>124</th>\n",
       "      <td>2024-12-31</td>\n",
       "      <td>9897891000</td>\n",
       "      <td>0000888491-25-000016</td>\n",
       "      <td>2025.0</td>\n",
       "      <td>Q1</td>\n",
       "      <td>10-Q</td>\n",
       "      <td>2025-05-02</td>\n",
       "      <td>NaN</td>\n",
       "    </tr>\n",
       "    <tr>\n",
       "      <th>123</th>\n",
       "      <td>2024-12-31</td>\n",
       "      <td>9897891000</td>\n",
       "      <td>0000888491-25-000006</td>\n",
       "      <td>2024.0</td>\n",
       "      <td>FY</td>\n",
       "      <td>10-K</td>\n",
       "      <td>2025-02-13</td>\n",
       "      <td>NaN</td>\n",
       "    </tr>\n",
       "  </tbody>\n",
       "</table>\n",
       "</div>"
      ],
      "text/plain": [
       "            end          val                  accn      fy  fp  form  \\\n",
       "127  2025-06-30  10546476000  0000888491-25-000025  2025.0  Q2  10-Q   \n",
       "126  2025-03-31   9705738000  0000888491-25-000016  2025.0  Q1  10-Q   \n",
       "125  2024-12-31   9897891000  0000888491-25-000025  2025.0  Q2  10-Q   \n",
       "124  2024-12-31   9897891000  0000888491-25-000016  2025.0  Q1  10-Q   \n",
       "123  2024-12-31   9897891000  0000888491-25-000006  2024.0  FY  10-K   \n",
       "\n",
       "          filed      frame  \n",
       "127  2025-08-01  CY2025Q2I  \n",
       "126  2025-05-02  CY2025Q1I  \n",
       "125  2025-08-01  CY2024Q4I  \n",
       "124  2025-05-02        NaN  \n",
       "123  2025-02-13        NaN  "
      ]
     },
     "execution_count": 4,
     "metadata": {},
     "output_type": "execute_result"
    }
   ],
   "source": [
    "# Initialize SEC data loader\n",
    "sec = SECDataLoader()\n",
    "\n",
    "# Fetch financial data for Omega Healthcare (OHI)\n",
    "ohi_financials = sec.get_reit_financials(\"OHI\")\n",
    "print(f\"Fetched {len(ohi_financials)} financial metrics for OHI\")\n",
    "\n",
    "# Display total assets\n",
    "ohi_financials[\"Assets\"].head()"
   ]
  },
  {
   "cell_type": "markdown",
   "metadata": {},
   "source": [
    "## 4. Visualization Examples"
   ]
  },
  {
   "cell_type": "code",
   "execution_count": 5,
   "metadata": {},
   "outputs": [
    {
     "data": {
      "application/vnd.plotly.v1+json": {
       "config": {
        "plotlyServerURL": "https://plot.ly"
       },
       "data": [
        {
         "hovertemplate": "series_name=PPI Overall<br>year=%{x}<br>value=%{y}<extra></extra>",
         "legendgroup": "PPI Overall",
         "line": {
          "color": "#636efa",
          "dash": "solid"
         },
         "marker": {
          "symbol": "circle"
         },
         "mode": "lines",
         "name": "PPI Overall",
         "orientation": "v",
         "showlegend": true,
         "type": "scatter",
         "x": [
          "2024",
          "2024",
          "2024",
          "2024",
          "2024",
          "2024",
          "2024",
          "2024",
          "2024",
          "2024",
          "2024",
          "2024",
          "2024",
          "2023",
          "2023",
          "2023",
          "2023",
          "2023",
          "2023",
          "2023",
          "2023",
          "2023",
          "2023",
          "2023",
          "2023",
          "2023",
          "2022",
          "2022",
          "2022",
          "2022",
          "2022",
          "2022",
          "2022",
          "2022",
          "2022",
          "2022",
          "2022",
          "2022",
          "2022",
          "2021",
          "2021",
          "2021",
          "2021",
          "2021",
          "2021",
          "2021",
          "2021",
          "2021",
          "2021",
          "2021",
          "2021",
          "2021",
          "2020",
          "2020",
          "2020",
          "2020",
          "2020",
          "2020",
          "2020",
          "2020",
          "2020",
          "2020",
          "2020",
          "2020",
          "2020"
         ],
         "xaxis": "x",
         "y": [
          277.772,
          283.049,
          281.094,
          280.816,
          277.284,
          276.702,
          275.38,
          275.096,
          275.33,
          275.221,
          277.659,
          277.675,
          277.964,
          268.435,
          276.493,
          273.296,
          272.556,
          269.698,
          269.526,
          268.44,
          265.014,
          265.193,
          265.335,
          266.35,
          265.424,
          263.895,
          253.473,
          260.73,
          260.49,
          259.523,
          256.267,
          255.988,
          254.149,
          249.669,
          249.145,
          249.087,
          248.877,
          248.57,
          249.183,
          246.038,
          248.229,
          248.263,
          247.553,
          246.264,
          246.401,
          245.567,
          244.9,
          244,
          243.7,
          246,
          246,
          245.7,
          241.9,
          245,
          245.1,
          245.3,
          243.1,
          243.6,
          242.8,
          241.7,
          241.3,
          239.6,
          239.3,
          238.5,
          237.9
         ],
         "yaxis": "y"
        },
        {
         "hovertemplate": "series_name=PPI Medicare<br>year=%{x}<br>value=%{y}<extra></extra>",
         "legendgroup": "PPI Medicare",
         "line": {
          "color": "#EF553B",
          "dash": "solid"
         },
         "marker": {
          "symbol": "circle"
         },
         "mode": "lines",
         "name": "PPI Medicare",
         "orientation": "v",
         "showlegend": true,
         "type": "scatter",
         "x": [
          "2024",
          "2024",
          "2024",
          "2024",
          "2024",
          "2024",
          "2024",
          "2024",
          "2024",
          "2024",
          "2024",
          "2024",
          "2024",
          "2023",
          "2023",
          "2023",
          "2023",
          "2023",
          "2023",
          "2023",
          "2023",
          "2023",
          "2023",
          "2023",
          "2023",
          "2023",
          "2022",
          "2022",
          "2022",
          "2022",
          "2022",
          "2022",
          "2022",
          "2022",
          "2022",
          "2022",
          "2022",
          "2022",
          "2022",
          "2021",
          "2021",
          "2021",
          "2021",
          "2021",
          "2021",
          "2021",
          "2021",
          "2021",
          "2021",
          "2021",
          "2021",
          "2021",
          "2020",
          "2020",
          "2020",
          "2020",
          "2020",
          "2020",
          "2020",
          "2020",
          "2020",
          "2020",
          "2020",
          "2020",
          "2020"
         ],
         "xaxis": "x",
         "y": [
          156.807,
          160.038,
          159.756,
          159.899,
          159.4,
          159.32,
          159.077,
          154.481,
          154.384,
          154.398,
          153.684,
          153.572,
          153.682,
          148.41,
          153.456,
          153.639,
          152.726,
          150.502,
          150.256,
          149.502,
          144.17,
          144.395,
          144.704,
          145.738,
          145.826,
          146.002,
          135.645,
          141.494,
          141.56,
          140.546,
          138.965,
          138.338,
          138.031,
          131.84,
          131.467,
          131.204,
          131.265,
          131.068,
          131.957,
          129.006,
          131.525,
          131.718,
          130.903,
          129.869,
          130.011,
          128.955,
          127.7,
          126.6,
          126.3,
          128.2,
          128.2,
          128.2,
          124.1,
          127.4,
          127.4,
          127.5,
          125.7,
          125.7,
          124.7,
          123.2,
          122.9,
          121.9,
          121.5,
          121,
          120.4
         ],
         "yaxis": "y"
        },
        {
         "hovertemplate": "series_name=PPI Medicaid<br>year=%{x}<br>value=%{y}<extra></extra>",
         "legendgroup": "PPI Medicaid",
         "line": {
          "color": "#00cc96",
          "dash": "solid"
         },
         "marker": {
          "symbol": "circle"
         },
         "mode": "lines",
         "name": "PPI Medicaid",
         "orientation": "v",
         "showlegend": true,
         "type": "scatter",
         "x": [
          "2024",
          "2024",
          "2024",
          "2024",
          "2024",
          "2024",
          "2024",
          "2024",
          "2024",
          "2024",
          "2024",
          "2024",
          "2024",
          "2023",
          "2023",
          "2023",
          "2023",
          "2023",
          "2023",
          "2023",
          "2023",
          "2023",
          "2023",
          "2023",
          "2023",
          "2023",
          "2022",
          "2022",
          "2022",
          "2022",
          "2022",
          "2022",
          "2022",
          "2022",
          "2022",
          "2022",
          "2022",
          "2022",
          "2022",
          "2021",
          "2021",
          "2021",
          "2021",
          "2021",
          "2021",
          "2021",
          "2021",
          "2021",
          "2021",
          "2021",
          "2021",
          "2021",
          "2020",
          "2020",
          "2020",
          "2020",
          "2020",
          "2020",
          "2020",
          "2020",
          "2020",
          "2020",
          "2020",
          "2020",
          "2020"
         ],
         "xaxis": "x",
         "y": [
          124.255,
          128.985,
          128.985,
          128.985,
          122.687,
          122.687,
          122.687,
          122.674,
          122.674,
          122.674,
          122.674,
          122.674,
          122.674,
          120.093,
          122.674,
          122.674,
          122.686,
          119.25,
          119.248,
          119.248,
          119.293,
          119.263,
          119.263,
          119.172,
          119.172,
          119.172,
          117.735,
          119.172,
          119.172,
          119.155,
          116.179,
          116.195,
          116.195,
          117.365,
          117.365,
          117.365,
          118.22,
          118.22,
          118.22,
          117.308,
          118.22,
          118.22,
          118.22,
          116.965,
          116.965,
          116.965,
          117,
          117,
          117,
          117.1,
          117.1,
          117.1,
          114.3,
          117.1,
          117.1,
          117.1,
          114.4,
          114.4,
          114.4,
          114.4,
          114.4,
          112.1,
          112.3,
          112.3,
          112.3
         ],
         "yaxis": "y"
        }
       ],
       "layout": {
        "legend": {
         "title": {
          "text": "series_name"
         },
         "tracegroupgap": 0
        },
        "template": {
         "data": {
          "bar": [
           {
            "error_x": {
             "color": "#2a3f5f"
            },
            "error_y": {
             "color": "#2a3f5f"
            },
            "marker": {
             "line": {
              "color": "#E5ECF6",
              "width": 0.5
             },
             "pattern": {
              "fillmode": "overlay",
              "size": 10,
              "solidity": 0.2
             }
            },
            "type": "bar"
           }
          ],
          "barpolar": [
           {
            "marker": {
             "line": {
              "color": "#E5ECF6",
              "width": 0.5
             },
             "pattern": {
              "fillmode": "overlay",
              "size": 10,
              "solidity": 0.2
             }
            },
            "type": "barpolar"
           }
          ],
          "carpet": [
           {
            "aaxis": {
             "endlinecolor": "#2a3f5f",
             "gridcolor": "white",
             "linecolor": "white",
             "minorgridcolor": "white",
             "startlinecolor": "#2a3f5f"
            },
            "baxis": {
             "endlinecolor": "#2a3f5f",
             "gridcolor": "white",
             "linecolor": "white",
             "minorgridcolor": "white",
             "startlinecolor": "#2a3f5f"
            },
            "type": "carpet"
           }
          ],
          "choropleth": [
           {
            "colorbar": {
             "outlinewidth": 0,
             "ticks": ""
            },
            "type": "choropleth"
           }
          ],
          "contour": [
           {
            "colorbar": {
             "outlinewidth": 0,
             "ticks": ""
            },
            "colorscale": [
             [
              0,
              "#0d0887"
             ],
             [
              0.1111111111111111,
              "#46039f"
             ],
             [
              0.2222222222222222,
              "#7201a8"
             ],
             [
              0.3333333333333333,
              "#9c179e"
             ],
             [
              0.4444444444444444,
              "#bd3786"
             ],
             [
              0.5555555555555556,
              "#d8576b"
             ],
             [
              0.6666666666666666,
              "#ed7953"
             ],
             [
              0.7777777777777778,
              "#fb9f3a"
             ],
             [
              0.8888888888888888,
              "#fdca26"
             ],
             [
              1,
              "#f0f921"
             ]
            ],
            "type": "contour"
           }
          ],
          "contourcarpet": [
           {
            "colorbar": {
             "outlinewidth": 0,
             "ticks": ""
            },
            "type": "contourcarpet"
           }
          ],
          "heatmap": [
           {
            "colorbar": {
             "outlinewidth": 0,
             "ticks": ""
            },
            "colorscale": [
             [
              0,
              "#0d0887"
             ],
             [
              0.1111111111111111,
              "#46039f"
             ],
             [
              0.2222222222222222,
              "#7201a8"
             ],
             [
              0.3333333333333333,
              "#9c179e"
             ],
             [
              0.4444444444444444,
              "#bd3786"
             ],
             [
              0.5555555555555556,
              "#d8576b"
             ],
             [
              0.6666666666666666,
              "#ed7953"
             ],
             [
              0.7777777777777778,
              "#fb9f3a"
             ],
             [
              0.8888888888888888,
              "#fdca26"
             ],
             [
              1,
              "#f0f921"
             ]
            ],
            "type": "heatmap"
           }
          ],
          "heatmapgl": [
           {
            "colorbar": {
             "outlinewidth": 0,
             "ticks": ""
            },
            "colorscale": [
             [
              0,
              "#0d0887"
             ],
             [
              0.1111111111111111,
              "#46039f"
             ],
             [
              0.2222222222222222,
              "#7201a8"
             ],
             [
              0.3333333333333333,
              "#9c179e"
             ],
             [
              0.4444444444444444,
              "#bd3786"
             ],
             [
              0.5555555555555556,
              "#d8576b"
             ],
             [
              0.6666666666666666,
              "#ed7953"
             ],
             [
              0.7777777777777778,
              "#fb9f3a"
             ],
             [
              0.8888888888888888,
              "#fdca26"
             ],
             [
              1,
              "#f0f921"
             ]
            ],
            "type": "heatmapgl"
           }
          ],
          "histogram": [
           {
            "marker": {
             "pattern": {
              "fillmode": "overlay",
              "size": 10,
              "solidity": 0.2
             }
            },
            "type": "histogram"
           }
          ],
          "histogram2d": [
           {
            "colorbar": {
             "outlinewidth": 0,
             "ticks": ""
            },
            "colorscale": [
             [
              0,
              "#0d0887"
             ],
             [
              0.1111111111111111,
              "#46039f"
             ],
             [
              0.2222222222222222,
              "#7201a8"
             ],
             [
              0.3333333333333333,
              "#9c179e"
             ],
             [
              0.4444444444444444,
              "#bd3786"
             ],
             [
              0.5555555555555556,
              "#d8576b"
             ],
             [
              0.6666666666666666,
              "#ed7953"
             ],
             [
              0.7777777777777778,
              "#fb9f3a"
             ],
             [
              0.8888888888888888,
              "#fdca26"
             ],
             [
              1,
              "#f0f921"
             ]
            ],
            "type": "histogram2d"
           }
          ],
          "histogram2dcontour": [
           {
            "colorbar": {
             "outlinewidth": 0,
             "ticks": ""
            },
            "colorscale": [
             [
              0,
              "#0d0887"
             ],
             [
              0.1111111111111111,
              "#46039f"
             ],
             [
              0.2222222222222222,
              "#7201a8"
             ],
             [
              0.3333333333333333,
              "#9c179e"
             ],
             [
              0.4444444444444444,
              "#bd3786"
             ],
             [
              0.5555555555555556,
              "#d8576b"
             ],
             [
              0.6666666666666666,
              "#ed7953"
             ],
             [
              0.7777777777777778,
              "#fb9f3a"
             ],
             [
              0.8888888888888888,
              "#fdca26"
             ],
             [
              1,
              "#f0f921"
             ]
            ],
            "type": "histogram2dcontour"
           }
          ],
          "mesh3d": [
           {
            "colorbar": {
             "outlinewidth": 0,
             "ticks": ""
            },
            "type": "mesh3d"
           }
          ],
          "parcoords": [
           {
            "line": {
             "colorbar": {
              "outlinewidth": 0,
              "ticks": ""
             }
            },
            "type": "parcoords"
           }
          ],
          "pie": [
           {
            "automargin": true,
            "type": "pie"
           }
          ],
          "scatter": [
           {
            "fillpattern": {
             "fillmode": "overlay",
             "size": 10,
             "solidity": 0.2
            },
            "type": "scatter"
           }
          ],
          "scatter3d": [
           {
            "line": {
             "colorbar": {
              "outlinewidth": 0,
              "ticks": ""
             }
            },
            "marker": {
             "colorbar": {
              "outlinewidth": 0,
              "ticks": ""
             }
            },
            "type": "scatter3d"
           }
          ],
          "scattercarpet": [
           {
            "marker": {
             "colorbar": {
              "outlinewidth": 0,
              "ticks": ""
             }
            },
            "type": "scattercarpet"
           }
          ],
          "scattergeo": [
           {
            "marker": {
             "colorbar": {
              "outlinewidth": 0,
              "ticks": ""
             }
            },
            "type": "scattergeo"
           }
          ],
          "scattergl": [
           {
            "marker": {
             "colorbar": {
              "outlinewidth": 0,
              "ticks": ""
             }
            },
            "type": "scattergl"
           }
          ],
          "scattermapbox": [
           {
            "marker": {
             "colorbar": {
              "outlinewidth": 0,
              "ticks": ""
             }
            },
            "type": "scattermapbox"
           }
          ],
          "scatterpolar": [
           {
            "marker": {
             "colorbar": {
              "outlinewidth": 0,
              "ticks": ""
             }
            },
            "type": "scatterpolar"
           }
          ],
          "scatterpolargl": [
           {
            "marker": {
             "colorbar": {
              "outlinewidth": 0,
              "ticks": ""
             }
            },
            "type": "scatterpolargl"
           }
          ],
          "scatterternary": [
           {
            "marker": {
             "colorbar": {
              "outlinewidth": 0,
              "ticks": ""
             }
            },
            "type": "scatterternary"
           }
          ],
          "surface": [
           {
            "colorbar": {
             "outlinewidth": 0,
             "ticks": ""
            },
            "colorscale": [
             [
              0,
              "#0d0887"
             ],
             [
              0.1111111111111111,
              "#46039f"
             ],
             [
              0.2222222222222222,
              "#7201a8"
             ],
             [
              0.3333333333333333,
              "#9c179e"
             ],
             [
              0.4444444444444444,
              "#bd3786"
             ],
             [
              0.5555555555555556,
              "#d8576b"
             ],
             [
              0.6666666666666666,
              "#ed7953"
             ],
             [
              0.7777777777777778,
              "#fb9f3a"
             ],
             [
              0.8888888888888888,
              "#fdca26"
             ],
             [
              1,
              "#f0f921"
             ]
            ],
            "type": "surface"
           }
          ],
          "table": [
           {
            "cells": {
             "fill": {
              "color": "#EBF0F8"
             },
             "line": {
              "color": "white"
             }
            },
            "header": {
             "fill": {
              "color": "#C8D4E3"
             },
             "line": {
              "color": "white"
             }
            },
            "type": "table"
           }
          ]
         },
         "layout": {
          "annotationdefaults": {
           "arrowcolor": "#2a3f5f",
           "arrowhead": 0,
           "arrowwidth": 1
          },
          "autotypenumbers": "strict",
          "coloraxis": {
           "colorbar": {
            "outlinewidth": 0,
            "ticks": ""
           }
          },
          "colorscale": {
           "diverging": [
            [
             0,
             "#8e0152"
            ],
            [
             0.1,
             "#c51b7d"
            ],
            [
             0.2,
             "#de77ae"
            ],
            [
             0.3,
             "#f1b6da"
            ],
            [
             0.4,
             "#fde0ef"
            ],
            [
             0.5,
             "#f7f7f7"
            ],
            [
             0.6,
             "#e6f5d0"
            ],
            [
             0.7,
             "#b8e186"
            ],
            [
             0.8,
             "#7fbc41"
            ],
            [
             0.9,
             "#4d9221"
            ],
            [
             1,
             "#276419"
            ]
           ],
           "sequential": [
            [
             0,
             "#0d0887"
            ],
            [
             0.1111111111111111,
             "#46039f"
            ],
            [
             0.2222222222222222,
             "#7201a8"
            ],
            [
             0.3333333333333333,
             "#9c179e"
            ],
            [
             0.4444444444444444,
             "#bd3786"
            ],
            [
             0.5555555555555556,
             "#d8576b"
            ],
            [
             0.6666666666666666,
             "#ed7953"
            ],
            [
             0.7777777777777778,
             "#fb9f3a"
            ],
            [
             0.8888888888888888,
             "#fdca26"
            ],
            [
             1,
             "#f0f921"
            ]
           ],
           "sequentialminus": [
            [
             0,
             "#0d0887"
            ],
            [
             0.1111111111111111,
             "#46039f"
            ],
            [
             0.2222222222222222,
             "#7201a8"
            ],
            [
             0.3333333333333333,
             "#9c179e"
            ],
            [
             0.4444444444444444,
             "#bd3786"
            ],
            [
             0.5555555555555556,
             "#d8576b"
            ],
            [
             0.6666666666666666,
             "#ed7953"
            ],
            [
             0.7777777777777778,
             "#fb9f3a"
            ],
            [
             0.8888888888888888,
             "#fdca26"
            ],
            [
             1,
             "#f0f921"
            ]
           ]
          },
          "colorway": [
           "#636efa",
           "#EF553B",
           "#00cc96",
           "#ab63fa",
           "#FFA15A",
           "#19d3f3",
           "#FF6692",
           "#B6E880",
           "#FF97FF",
           "#FECB52"
          ],
          "font": {
           "color": "#2a3f5f"
          },
          "geo": {
           "bgcolor": "white",
           "lakecolor": "white",
           "landcolor": "#E5ECF6",
           "showlakes": true,
           "showland": true,
           "subunitcolor": "white"
          },
          "hoverlabel": {
           "align": "left"
          },
          "hovermode": "closest",
          "mapbox": {
           "style": "light"
          },
          "paper_bgcolor": "white",
          "plot_bgcolor": "#E5ECF6",
          "polar": {
           "angularaxis": {
            "gridcolor": "white",
            "linecolor": "white",
            "ticks": ""
           },
           "bgcolor": "#E5ECF6",
           "radialaxis": {
            "gridcolor": "white",
            "linecolor": "white",
            "ticks": ""
           }
          },
          "scene": {
           "xaxis": {
            "backgroundcolor": "#E5ECF6",
            "gridcolor": "white",
            "gridwidth": 2,
            "linecolor": "white",
            "showbackground": true,
            "ticks": "",
            "zerolinecolor": "white"
           },
           "yaxis": {
            "backgroundcolor": "#E5ECF6",
            "gridcolor": "white",
            "gridwidth": 2,
            "linecolor": "white",
            "showbackground": true,
            "ticks": "",
            "zerolinecolor": "white"
           },
           "zaxis": {
            "backgroundcolor": "#E5ECF6",
            "gridcolor": "white",
            "gridwidth": 2,
            "linecolor": "white",
            "showbackground": true,
            "ticks": "",
            "zerolinecolor": "white"
           }
          },
          "shapedefaults": {
           "line": {
            "color": "#2a3f5f"
           }
          },
          "ternary": {
           "aaxis": {
            "gridcolor": "white",
            "linecolor": "white",
            "ticks": ""
           },
           "baxis": {
            "gridcolor": "white",
            "linecolor": "white",
            "ticks": ""
           },
           "bgcolor": "#E5ECF6",
           "caxis": {
            "gridcolor": "white",
            "linecolor": "white",
            "ticks": ""
           }
          },
          "title": {
           "x": 0.05
          },
          "xaxis": {
           "automargin": true,
           "gridcolor": "white",
           "linecolor": "white",
           "ticks": "",
           "title": {
            "standoff": 15
           },
           "zerolinecolor": "white",
           "zerolinewidth": 2
          },
          "yaxis": {
           "automargin": true,
           "gridcolor": "white",
           "linecolor": "white",
           "ticks": "",
           "title": {
            "standoff": 15
           },
           "zerolinecolor": "white",
           "zerolinewidth": 2
          }
         }
        },
        "title": {
         "text": "Nursing Facility PPI Trends"
        },
        "xaxis": {
         "anchor": "y",
         "domain": [
          0,
          1
         ],
         "title": {
          "text": "year"
         }
        },
        "yaxis": {
         "anchor": "x",
         "domain": [
          0,
          1
         ],
         "title": {
          "text": "value"
         }
        }
       }
      }
     },
     "metadata": {},
     "output_type": "display_data"
    }
   ],
   "source": [
    "# PPI trends over time\n",
    "fig = px.line(\n",
    "    ppi_data,\n",
    "    x=\"year\",\n",
    "    y=\"value\",\n",
    "    color=\"series_name\",\n",
    "    title=\"Nursing Facility PPI Trends\"\n",
    ")\n",
    "fig.show()"
   ]
  },
  {
   "cell_type": "code",
   "execution_count": 6,
   "metadata": {},
   "outputs": [],
   "source": [
    "# Rating distribution\n",
    "if \"Overall_Rating\" in providers.columns:\n",
    "    rating_counts = providers[\"Overall_Rating\"].value_counts().sort_index()\n",
    "    fig = px.bar(\n",
    "        x=rating_counts.index,\n",
    "        y=rating_counts.values,\n",
    "        labels={\"x\": \"Rating\", \"y\": \"Number of Facilities\"},\n",
    "        title=\"CMS 5-Star Rating Distribution\"\n",
    "    )\n",
    "    fig.show()"
   ]
  },
  {
   "cell_type": "code",
   "execution_count": null,
   "metadata": {},
   "outputs": [],
   "source": []
  }
 ],
 "metadata": {
  "kernelspec": {
   "display_name": "Socrates",
   "language": "python",
   "name": "python3"
  },
  "language_info": {
   "codemirror_mode": {
    "name": "ipython",
    "version": 3
   },
   "file_extension": ".py",
   "mimetype": "text/x-python",
   "name": "python",
   "nbconvert_exporter": "python",
   "pygments_lexer": "ipython3",
   "version": "3.12.4"
  }
 },
 "nbformat": 4,
 "nbformat_minor": 4
}
