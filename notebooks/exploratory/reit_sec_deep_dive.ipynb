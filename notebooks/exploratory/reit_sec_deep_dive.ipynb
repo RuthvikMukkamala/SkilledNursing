{
 "cells": [
  {
   "cell_type": "markdown",
   "metadata": {},
   "source": [
    "# Deep Dive: SEC Financial Analysis of Nursing Home REITs\n",
    "\n",
    "## Comprehensive Comparison: OHI vs CTRE vs SBRA\n",
    "\n",
    "This notebook provides a detailed financial analysis of three skilled nursing facility REITs using SEC data:\n",
    "- **OHI**: Omega Healthcare Investors\n",
    "- **CTRE**: CareTrust REIT\n",
    "- **SBRA**: Sabra Health Care REIT\n",
    "\n",
    "### Analysis Framework:\n",
    "1. **Scale & Size**: Total assets, property portfolio size\n",
    "2. **Revenue Analysis**: Growth trends, stability, seasonality\n",
    "3. **Profitability**: NOI margins, net income trends\n",
    "4. **Balance Sheet Health**: Leverage, debt maturity, equity\n",
    "5. **Growth Profile**: Historical growth rates, momentum\n",
    "6. **Risk Assessment**: Volatility, leverage risk, concentration\n",
    "7. **Valuation Metrics**: Key ratios and comparative analysis"
   ]
  },
  {
   "cell_type": "code",
   "execution_count": 1,
   "metadata": {},
   "outputs": [
    {
     "name": "stdout",
     "output_type": "stream",
     "text": [
      "✅ Libraries loaded successfully\n"
     ]
    }
   ],
   "source": [
    "# Import libraries\n",
    "import pandas as pd\n",
    "import numpy as np\n",
    "import plotly.graph_objects as go\n",
    "import plotly.express as px\n",
    "from plotly.subplots import make_subplots\n",
    "from pathlib import Path\n",
    "import warnings\n",
    "warnings.filterwarnings('ignore')\n",
    "\n",
    "# Configure pandas display\n",
    "pd.set_option('display.max_columns', None)\n",
    "pd.set_option('display.max_rows', 100)\n",
    "pd.set_option('display.float_format', lambda x: f'{x:,.2f}')\n",
    "\n",
    "print(\"✅ Libraries loaded successfully\")"
   ]
  },
  {
   "cell_type": "markdown",
   "metadata": {},
   "source": [
    "## 1. Data Loading & Preparation"
   ]
  },
  {
   "cell_type": "code",
   "execution_count": 2,
   "metadata": {},
   "outputs": [
    {
     "name": "stdout",
     "output_type": "stream",
     "text": [
      "✅ Loaded Revenues for OHI: 103 records\n",
      "✅ Loaded Total Assets for OHI: 122 records\n",
      "✅ Loaded Total Liabilities for OHI: 122 records\n",
      "✅ Loaded Stockholders Equity for OHI: 134 records\n",
      "✅ Loaded Net Income (Loss) for OHI: 112 records\n",
      "✅ Loaded Real Estate Investment Property for OHI: 122 records\n",
      "✅ Loaded Long-term Debt for OHI: 106 records\n",
      "✅ Loaded Operating Income (Loss) for OHI: 138 records\n",
      "✅ Loaded Revenues for CTRE: 203 records\n",
      "✅ Loaded Total Assets for CTRE: 90 records\n",
      "✅ Loaded Total Liabilities for CTRE: 90 records\n",
      "✅ Loaded Stockholders Equity for CTRE: 174 records\n",
      "✅ Loaded Net Income (Loss) for CTRE: 241 records\n",
      "✅ Loaded Real Estate Investment Property for CTRE: 90 records\n",
      "✅ Loaded Long-term Debt for CTRE: 90 records\n",
      "⚠️  Missing Operating Income (Loss) for CTRE\n",
      "✅ Loaded Revenues for SBRA: 181 records\n",
      "✅ Loaded Total Assets for SBRA: 115 records\n",
      "✅ Loaded Total Liabilities for SBRA: 115 records\n",
      "✅ Loaded Stockholders Equity for SBRA: 179 records\n",
      "✅ Loaded Net Income (Loss) for SBRA: 169 records\n",
      "✅ Loaded Real Estate Investment Property for SBRA: 115 records\n",
      "✅ Loaded Long-term Debt for SBRA: 53 records\n",
      "⚠️  Missing Operating Income (Loss) for SBRA\n",
      "\n",
      "✅ All data loaded successfully\n"
     ]
    }
   ],
   "source": [
    "# Load all SEC data for the three REITs\n",
    "data_path = Path('../../data/processed')\n",
    "\n",
    "# Define the metrics we want to analyze\n",
    "metrics = {\n",
    "    'revenues': 'Revenues',\n",
    "    'assets': 'Total Assets',\n",
    "    'liabilities': 'Total Liabilities',\n",
    "    'stockholdersequity': 'Stockholders Equity',\n",
    "    'netincomeloss': 'Net Income (Loss)',\n",
    "    'realestateinvestmentpropertynet': 'Real Estate Investment Property',\n",
    "    'longtermdebt': 'Long-term Debt',\n",
    "    'operatingincomeloss': 'Operating Income (Loss)'\n",
    "}\n",
    "\n",
    "# Load data for each REIT\n",
    "reits = ['ohi', 'ctre', 'sbra']\n",
    "reit_names = {\n",
    "    'ohi': 'Omega Healthcare (OHI)',\n",
    "    'ctre': 'CareTrust REIT (CTRE)',\n",
    "    'sbra': 'Sabra Healthcare (SBRA)'\n",
    "}\n",
    "\n",
    "# Dictionary to store all data\n",
    "reit_data = {}\n",
    "\n",
    "for reit in reits:\n",
    "    reit_data[reit] = {}\n",
    "    for metric_key, metric_name in metrics.items():\n",
    "        file_name = f'sec_{reit}_{metric_key}_latest.csv'\n",
    "        file_path = data_path / file_name\n",
    "        \n",
    "        if file_path.exists():\n",
    "            df = pd.read_csv(file_path)\n",
    "            df['end'] = pd.to_datetime(df['end'])\n",
    "            df = df.sort_values('end', ascending=False)\n",
    "            reit_data[reit][metric_key] = df\n",
    "            print(f\"✅ Loaded {metric_name} for {reit.upper()}: {len(df)} records\")\n",
    "        else:\n",
    "            print(f\"⚠️  Missing {metric_name} for {reit.upper()}\")\n",
    "            reit_data[reit][metric_key] = pd.DataFrame()\n",
    "\n",
    "print(\"\\n✅ All data loaded successfully\")"
   ]
  },
  {
   "cell_type": "markdown",
   "metadata": {},
   "source": [
    "## 2. Scale & Size Comparison\n",
    "\n",
    "Let's start by understanding the relative size of each REIT."
   ]
  },
  {
   "cell_type": "code",
   "execution_count": 3,
   "metadata": {},
   "outputs": [
    {
     "data": {
      "text/html": [
       "<div>\n",
       "<style scoped>\n",
       "    .dataframe tbody tr th:only-of-type {\n",
       "        vertical-align: middle;\n",
       "    }\n",
       "\n",
       "    .dataframe tbody tr th {\n",
       "        vertical-align: top;\n",
       "    }\n",
       "\n",
       "    .dataframe thead th {\n",
       "        text-align: right;\n",
       "    }\n",
       "</style>\n",
       "<table border=\"1\" class=\"dataframe\">\n",
       "  <thead>\n",
       "    <tr style=\"text-align: right;\">\n",
       "      <th></th>\n",
       "      <th>REIT</th>\n",
       "      <th>Name</th>\n",
       "      <th>Total Assets ($B)</th>\n",
       "      <th>Real Estate ($B)</th>\n",
       "      <th>TTM Revenue ($M)</th>\n",
       "    </tr>\n",
       "  </thead>\n",
       "  <tbody>\n",
       "    <tr>\n",
       "      <th>0</th>\n",
       "      <td>OHI</td>\n",
       "      <td>Omega Healthcare (OHI)</td>\n",
       "      <td>10.55</td>\n",
       "      <td>6.80</td>\n",
       "      <td>1,394.61</td>\n",
       "    </tr>\n",
       "    <tr>\n",
       "      <th>1</th>\n",
       "      <td>CTRE</td>\n",
       "      <td>CareTrust REIT (CTRE)</td>\n",
       "      <td>4.66</td>\n",
       "      <td>3.26</td>\n",
       "      <td>495.56</td>\n",
       "    </tr>\n",
       "    <tr>\n",
       "      <th>2</th>\n",
       "      <td>SBRA</td>\n",
       "      <td>Sabra Healthcare (SBRA)</td>\n",
       "      <td>5.33</td>\n",
       "      <td>4.48</td>\n",
       "      <td>923.39</td>\n",
       "    </tr>\n",
       "  </tbody>\n",
       "</table>\n",
       "</div>"
      ],
      "text/plain": [
       "   REIT                     Name  Total Assets ($B)  Real Estate ($B)  \\\n",
       "0   OHI   Omega Healthcare (OHI)              10.55              6.80   \n",
       "1  CTRE    CareTrust REIT (CTRE)               4.66              3.26   \n",
       "2  SBRA  Sabra Healthcare (SBRA)               5.33              4.48   \n",
       "\n",
       "   TTM Revenue ($M)  \n",
       "0          1,394.61  \n",
       "1            495.56  \n",
       "2            923.39  "
      ]
     },
     "execution_count": 3,
     "metadata": {},
     "output_type": "execute_result"
    }
   ],
   "source": [
    "# Get latest metrics for each REIT\n",
    "size_metrics = []\n",
    "\n",
    "for reit in reits:\n",
    "    # Get latest assets\n",
    "    assets_df = reit_data[reit]['assets']\n",
    "    if len(assets_df) > 0:\n",
    "        latest_assets = assets_df.iloc[0]['val']\n",
    "    else:\n",
    "        latest_assets = None\n",
    "    \n",
    "    # Get latest real estate property\n",
    "    re_df = reit_data[reit]['realestateinvestmentpropertynet']\n",
    "    if len(re_df) > 0:\n",
    "        latest_re = re_df.iloc[0]['val']\n",
    "    else:\n",
    "        latest_re = None\n",
    "    \n",
    "    # Get latest revenue (TTM)\n",
    "    rev_df = reit_data[reit]['revenues']\n",
    "    quarterly = rev_df[rev_df['fp'].str.startswith('Q')].copy() if len(rev_df) > 0 else pd.DataFrame()\n",
    "    if len(quarterly) >= 4:\n",
    "        ttm_revenue = quarterly.iloc[0:4]['val'].sum()\n",
    "    else:\n",
    "        ttm_revenue = None\n",
    "    \n",
    "    size_metrics.append({\n",
    "        'REIT': reit.upper(),\n",
    "        'Name': reit_names[reit],\n",
    "        'Total Assets ($B)': latest_assets / 1e9 if latest_assets else None,\n",
    "        'Real Estate ($B)': latest_re / 1e9 if latest_re else None,\n",
    "        'TTM Revenue ($M)': ttm_revenue / 1e6 if ttm_revenue else None\n",
    "    })\n",
    "\n",
    "size_df = pd.DataFrame(size_metrics)\n",
    "size_df"
   ]
  },
  {
   "cell_type": "code",
   "execution_count": 4,
   "metadata": {},
   "outputs": [
    {
     "data": {
      "application/vnd.plotly.v1+json": {
       "config": {
        "plotlyServerURL": "https://plot.ly"
       },
       "data": [
        {
         "marker": {
          "color": "#1f77b4"
         },
         "name": "Total Assets",
         "type": "bar",
         "x": [
          "OHI",
          "CTRE",
          "SBRA"
         ],
         "xaxis": "x",
         "y": [
          10.546476,
          4.656531,
          5.327997
         ],
         "yaxis": "y"
        },
        {
         "marker": {
          "color": "#2ca02c"
         },
         "name": "Real Estate",
         "type": "bar",
         "x": [
          "OHI",
          "CTRE",
          "SBRA"
         ],
         "xaxis": "x2",
         "y": [
          6.795148,
          3.256024,
          4.479291
         ],
         "yaxis": "y2"
        },
        {
         "marker": {
          "color": "#ff7f0e"
         },
         "name": "TTM Revenue",
         "type": "bar",
         "x": [
          "OHI",
          "CTRE",
          "SBRA"
         ],
         "xaxis": "x3",
         "y": [
          1394.61,
          495.561,
          923.387
         ],
         "yaxis": "y3"
        }
       ],
       "layout": {
        "annotations": [
         {
          "font": {
           "size": 16
          },
          "showarrow": false,
          "text": "Total Assets",
          "x": 0.14444444444444446,
          "xanchor": "center",
          "xref": "paper",
          "y": 1,
          "yanchor": "bottom",
          "yref": "paper"
         },
         {
          "font": {
           "size": 16
          },
          "showarrow": false,
          "text": "Real Estate Portfolio",
          "x": 0.5,
          "xanchor": "center",
          "xref": "paper",
          "y": 1,
          "yanchor": "bottom",
          "yref": "paper"
         },
         {
          "font": {
           "size": 16
          },
          "showarrow": false,
          "text": "TTM Revenue",
          "x": 0.8555555555555556,
          "xanchor": "center",
          "xref": "paper",
          "y": 1,
          "yanchor": "bottom",
          "yref": "paper"
         }
        ],
        "height": 400,
        "showlegend": false,
        "template": {
         "data": {
          "bar": [
           {
            "error_x": {
             "color": "#2a3f5f"
            },
            "error_y": {
             "color": "#2a3f5f"
            },
            "marker": {
             "line": {
              "color": "#E5ECF6",
              "width": 0.5
             },
             "pattern": {
              "fillmode": "overlay",
              "size": 10,
              "solidity": 0.2
             }
            },
            "type": "bar"
           }
          ],
          "barpolar": [
           {
            "marker": {
             "line": {
              "color": "#E5ECF6",
              "width": 0.5
             },
             "pattern": {
              "fillmode": "overlay",
              "size": 10,
              "solidity": 0.2
             }
            },
            "type": "barpolar"
           }
          ],
          "carpet": [
           {
            "aaxis": {
             "endlinecolor": "#2a3f5f",
             "gridcolor": "white",
             "linecolor": "white",
             "minorgridcolor": "white",
             "startlinecolor": "#2a3f5f"
            },
            "baxis": {
             "endlinecolor": "#2a3f5f",
             "gridcolor": "white",
             "linecolor": "white",
             "minorgridcolor": "white",
             "startlinecolor": "#2a3f5f"
            },
            "type": "carpet"
           }
          ],
          "choropleth": [
           {
            "colorbar": {
             "outlinewidth": 0,
             "ticks": ""
            },
            "type": "choropleth"
           }
          ],
          "contour": [
           {
            "colorbar": {
             "outlinewidth": 0,
             "ticks": ""
            },
            "colorscale": [
             [
              0,
              "#0d0887"
             ],
             [
              0.1111111111111111,
              "#46039f"
             ],
             [
              0.2222222222222222,
              "#7201a8"
             ],
             [
              0.3333333333333333,
              "#9c179e"
             ],
             [
              0.4444444444444444,
              "#bd3786"
             ],
             [
              0.5555555555555556,
              "#d8576b"
             ],
             [
              0.6666666666666666,
              "#ed7953"
             ],
             [
              0.7777777777777778,
              "#fb9f3a"
             ],
             [
              0.8888888888888888,
              "#fdca26"
             ],
             [
              1,
              "#f0f921"
             ]
            ],
            "type": "contour"
           }
          ],
          "contourcarpet": [
           {
            "colorbar": {
             "outlinewidth": 0,
             "ticks": ""
            },
            "type": "contourcarpet"
           }
          ],
          "heatmap": [
           {
            "colorbar": {
             "outlinewidth": 0,
             "ticks": ""
            },
            "colorscale": [
             [
              0,
              "#0d0887"
             ],
             [
              0.1111111111111111,
              "#46039f"
             ],
             [
              0.2222222222222222,
              "#7201a8"
             ],
             [
              0.3333333333333333,
              "#9c179e"
             ],
             [
              0.4444444444444444,
              "#bd3786"
             ],
             [
              0.5555555555555556,
              "#d8576b"
             ],
             [
              0.6666666666666666,
              "#ed7953"
             ],
             [
              0.7777777777777778,
              "#fb9f3a"
             ],
             [
              0.8888888888888888,
              "#fdca26"
             ],
             [
              1,
              "#f0f921"
             ]
            ],
            "type": "heatmap"
           }
          ],
          "heatmapgl": [
           {
            "colorbar": {
             "outlinewidth": 0,
             "ticks": ""
            },
            "colorscale": [
             [
              0,
              "#0d0887"
             ],
             [
              0.1111111111111111,
              "#46039f"
             ],
             [
              0.2222222222222222,
              "#7201a8"
             ],
             [
              0.3333333333333333,
              "#9c179e"
             ],
             [
              0.4444444444444444,
              "#bd3786"
             ],
             [
              0.5555555555555556,
              "#d8576b"
             ],
             [
              0.6666666666666666,
              "#ed7953"
             ],
             [
              0.7777777777777778,
              "#fb9f3a"
             ],
             [
              0.8888888888888888,
              "#fdca26"
             ],
             [
              1,
              "#f0f921"
             ]
            ],
            "type": "heatmapgl"
           }
          ],
          "histogram": [
           {
            "marker": {
             "pattern": {
              "fillmode": "overlay",
              "size": 10,
              "solidity": 0.2
             }
            },
            "type": "histogram"
           }
          ],
          "histogram2d": [
           {
            "colorbar": {
             "outlinewidth": 0,
             "ticks": ""
            },
            "colorscale": [
             [
              0,
              "#0d0887"
             ],
             [
              0.1111111111111111,
              "#46039f"
             ],
             [
              0.2222222222222222,
              "#7201a8"
             ],
             [
              0.3333333333333333,
              "#9c179e"
             ],
             [
              0.4444444444444444,
              "#bd3786"
             ],
             [
              0.5555555555555556,
              "#d8576b"
             ],
             [
              0.6666666666666666,
              "#ed7953"
             ],
             [
              0.7777777777777778,
              "#fb9f3a"
             ],
             [
              0.8888888888888888,
              "#fdca26"
             ],
             [
              1,
              "#f0f921"
             ]
            ],
            "type": "histogram2d"
           }
          ],
          "histogram2dcontour": [
           {
            "colorbar": {
             "outlinewidth": 0,
             "ticks": ""
            },
            "colorscale": [
             [
              0,
              "#0d0887"
             ],
             [
              0.1111111111111111,
              "#46039f"
             ],
             [
              0.2222222222222222,
              "#7201a8"
             ],
             [
              0.3333333333333333,
              "#9c179e"
             ],
             [
              0.4444444444444444,
              "#bd3786"
             ],
             [
              0.5555555555555556,
              "#d8576b"
             ],
             [
              0.6666666666666666,
              "#ed7953"
             ],
             [
              0.7777777777777778,
              "#fb9f3a"
             ],
             [
              0.8888888888888888,
              "#fdca26"
             ],
             [
              1,
              "#f0f921"
             ]
            ],
            "type": "histogram2dcontour"
           }
          ],
          "mesh3d": [
           {
            "colorbar": {
             "outlinewidth": 0,
             "ticks": ""
            },
            "type": "mesh3d"
           }
          ],
          "parcoords": [
           {
            "line": {
             "colorbar": {
              "outlinewidth": 0,
              "ticks": ""
             }
            },
            "type": "parcoords"
           }
          ],
          "pie": [
           {
            "automargin": true,
            "type": "pie"
           }
          ],
          "scatter": [
           {
            "fillpattern": {
             "fillmode": "overlay",
             "size": 10,
             "solidity": 0.2
            },
            "type": "scatter"
           }
          ],
          "scatter3d": [
           {
            "line": {
             "colorbar": {
              "outlinewidth": 0,
              "ticks": ""
             }
            },
            "marker": {
             "colorbar": {
              "outlinewidth": 0,
              "ticks": ""
             }
            },
            "type": "scatter3d"
           }
          ],
          "scattercarpet": [
           {
            "marker": {
             "colorbar": {
              "outlinewidth": 0,
              "ticks": ""
             }
            },
            "type": "scattercarpet"
           }
          ],
          "scattergeo": [
           {
            "marker": {
             "colorbar": {
              "outlinewidth": 0,
              "ticks": ""
             }
            },
            "type": "scattergeo"
           }
          ],
          "scattergl": [
           {
            "marker": {
             "colorbar": {
              "outlinewidth": 0,
              "ticks": ""
             }
            },
            "type": "scattergl"
           }
          ],
          "scattermapbox": [
           {
            "marker": {
             "colorbar": {
              "outlinewidth": 0,
              "ticks": ""
             }
            },
            "type": "scattermapbox"
           }
          ],
          "scatterpolar": [
           {
            "marker": {
             "colorbar": {
              "outlinewidth": 0,
              "ticks": ""
             }
            },
            "type": "scatterpolar"
           }
          ],
          "scatterpolargl": [
           {
            "marker": {
             "colorbar": {
              "outlinewidth": 0,
              "ticks": ""
             }
            },
            "type": "scatterpolargl"
           }
          ],
          "scatterternary": [
           {
            "marker": {
             "colorbar": {
              "outlinewidth": 0,
              "ticks": ""
             }
            },
            "type": "scatterternary"
           }
          ],
          "surface": [
           {
            "colorbar": {
             "outlinewidth": 0,
             "ticks": ""
            },
            "colorscale": [
             [
              0,
              "#0d0887"
             ],
             [
              0.1111111111111111,
              "#46039f"
             ],
             [
              0.2222222222222222,
              "#7201a8"
             ],
             [
              0.3333333333333333,
              "#9c179e"
             ],
             [
              0.4444444444444444,
              "#bd3786"
             ],
             [
              0.5555555555555556,
              "#d8576b"
             ],
             [
              0.6666666666666666,
              "#ed7953"
             ],
             [
              0.7777777777777778,
              "#fb9f3a"
             ],
             [
              0.8888888888888888,
              "#fdca26"
             ],
             [
              1,
              "#f0f921"
             ]
            ],
            "type": "surface"
           }
          ],
          "table": [
           {
            "cells": {
             "fill": {
              "color": "#EBF0F8"
             },
             "line": {
              "color": "white"
             }
            },
            "header": {
             "fill": {
              "color": "#C8D4E3"
             },
             "line": {
              "color": "white"
             }
            },
            "type": "table"
           }
          ]
         },
         "layout": {
          "annotationdefaults": {
           "arrowcolor": "#2a3f5f",
           "arrowhead": 0,
           "arrowwidth": 1
          },
          "autotypenumbers": "strict",
          "coloraxis": {
           "colorbar": {
            "outlinewidth": 0,
            "ticks": ""
           }
          },
          "colorscale": {
           "diverging": [
            [
             0,
             "#8e0152"
            ],
            [
             0.1,
             "#c51b7d"
            ],
            [
             0.2,
             "#de77ae"
            ],
            [
             0.3,
             "#f1b6da"
            ],
            [
             0.4,
             "#fde0ef"
            ],
            [
             0.5,
             "#f7f7f7"
            ],
            [
             0.6,
             "#e6f5d0"
            ],
            [
             0.7,
             "#b8e186"
            ],
            [
             0.8,
             "#7fbc41"
            ],
            [
             0.9,
             "#4d9221"
            ],
            [
             1,
             "#276419"
            ]
           ],
           "sequential": [
            [
             0,
             "#0d0887"
            ],
            [
             0.1111111111111111,
             "#46039f"
            ],
            [
             0.2222222222222222,
             "#7201a8"
            ],
            [
             0.3333333333333333,
             "#9c179e"
            ],
            [
             0.4444444444444444,
             "#bd3786"
            ],
            [
             0.5555555555555556,
             "#d8576b"
            ],
            [
             0.6666666666666666,
             "#ed7953"
            ],
            [
             0.7777777777777778,
             "#fb9f3a"
            ],
            [
             0.8888888888888888,
             "#fdca26"
            ],
            [
             1,
             "#f0f921"
            ]
           ],
           "sequentialminus": [
            [
             0,
             "#0d0887"
            ],
            [
             0.1111111111111111,
             "#46039f"
            ],
            [
             0.2222222222222222,
             "#7201a8"
            ],
            [
             0.3333333333333333,
             "#9c179e"
            ],
            [
             0.4444444444444444,
             "#bd3786"
            ],
            [
             0.5555555555555556,
             "#d8576b"
            ],
            [
             0.6666666666666666,
             "#ed7953"
            ],
            [
             0.7777777777777778,
             "#fb9f3a"
            ],
            [
             0.8888888888888888,
             "#fdca26"
            ],
            [
             1,
             "#f0f921"
            ]
           ]
          },
          "colorway": [
           "#636efa",
           "#EF553B",
           "#00cc96",
           "#ab63fa",
           "#FFA15A",
           "#19d3f3",
           "#FF6692",
           "#B6E880",
           "#FF97FF",
           "#FECB52"
          ],
          "font": {
           "color": "#2a3f5f"
          },
          "geo": {
           "bgcolor": "white",
           "lakecolor": "white",
           "landcolor": "#E5ECF6",
           "showlakes": true,
           "showland": true,
           "subunitcolor": "white"
          },
          "hoverlabel": {
           "align": "left"
          },
          "hovermode": "closest",
          "mapbox": {
           "style": "light"
          },
          "paper_bgcolor": "white",
          "plot_bgcolor": "#E5ECF6",
          "polar": {
           "angularaxis": {
            "gridcolor": "white",
            "linecolor": "white",
            "ticks": ""
           },
           "bgcolor": "#E5ECF6",
           "radialaxis": {
            "gridcolor": "white",
            "linecolor": "white",
            "ticks": ""
           }
          },
          "scene": {
           "xaxis": {
            "backgroundcolor": "#E5ECF6",
            "gridcolor": "white",
            "gridwidth": 2,
            "linecolor": "white",
            "showbackground": true,
            "ticks": "",
            "zerolinecolor": "white"
           },
           "yaxis": {
            "backgroundcolor": "#E5ECF6",
            "gridcolor": "white",
            "gridwidth": 2,
            "linecolor": "white",
            "showbackground": true,
            "ticks": "",
            "zerolinecolor": "white"
           },
           "zaxis": {
            "backgroundcolor": "#E5ECF6",
            "gridcolor": "white",
            "gridwidth": 2,
            "linecolor": "white",
            "showbackground": true,
            "ticks": "",
            "zerolinecolor": "white"
           }
          },
          "shapedefaults": {
           "line": {
            "color": "#2a3f5f"
           }
          },
          "ternary": {
           "aaxis": {
            "gridcolor": "white",
            "linecolor": "white",
            "ticks": ""
           },
           "baxis": {
            "gridcolor": "white",
            "linecolor": "white",
            "ticks": ""
           },
           "bgcolor": "#E5ECF6",
           "caxis": {
            "gridcolor": "white",
            "linecolor": "white",
            "ticks": ""
           }
          },
          "title": {
           "x": 0.05
          },
          "xaxis": {
           "automargin": true,
           "gridcolor": "white",
           "linecolor": "white",
           "ticks": "",
           "title": {
            "standoff": 15
           },
           "zerolinecolor": "white",
           "zerolinewidth": 2
          },
          "yaxis": {
           "automargin": true,
           "gridcolor": "white",
           "linecolor": "white",
           "ticks": "",
           "title": {
            "standoff": 15
           },
           "zerolinecolor": "white",
           "zerolinewidth": 2
          }
         }
        },
        "title": {
         "text": "REIT Size Comparison"
        },
        "xaxis": {
         "anchor": "y",
         "domain": [
          0,
          0.2888888888888889
         ]
        },
        "xaxis2": {
         "anchor": "y2",
         "domain": [
          0.35555555555555557,
          0.6444444444444445
         ]
        },
        "xaxis3": {
         "anchor": "y3",
         "domain": [
          0.7111111111111111,
          1
         ]
        },
        "yaxis": {
         "anchor": "x",
         "domain": [
          0,
          1
         ],
         "title": {
          "text": "Billions USD"
         }
        },
        "yaxis2": {
         "anchor": "x2",
         "domain": [
          0,
          1
         ],
         "title": {
          "text": "Billions USD"
         }
        },
        "yaxis3": {
         "anchor": "x3",
         "domain": [
          0,
          1
         ],
         "title": {
          "text": "Millions USD"
         }
        }
       }
      }
     },
     "metadata": {},
     "output_type": "display_data"
    },
    {
     "name": "stdout",
     "output_type": "stream",
     "text": [
      "\n",
      "📊 Key Insights:\n",
      "Largest by Assets: OHI\n",
      "Largest by Revenue: OHI\n",
      "\n",
      "OHI is 2.3x the size of CTRE by assets\n"
     ]
    }
   ],
   "source": [
    "# Visualize size comparison\n",
    "fig = make_subplots(\n",
    "    rows=1, cols=3,\n",
    "    subplot_titles=('Total Assets', 'Real Estate Portfolio', 'TTM Revenue'),\n",
    "    specs=[[{'type': 'bar'}, {'type': 'bar'}, {'type': 'bar'}]]\n",
    ")\n",
    "\n",
    "# Assets\n",
    "fig.add_trace(\n",
    "    go.Bar(x=size_df['REIT'], y=size_df['Total Assets ($B)'], name='Total Assets', marker_color='#1f77b4'),\n",
    "    row=1, col=1\n",
    ")\n",
    "\n",
    "# Real Estate\n",
    "fig.add_trace(\n",
    "    go.Bar(x=size_df['REIT'], y=size_df['Real Estate ($B)'], name='Real Estate', marker_color='#2ca02c'),\n",
    "    row=1, col=2\n",
    ")\n",
    "\n",
    "# Revenue\n",
    "fig.add_trace(\n",
    "    go.Bar(x=size_df['REIT'], y=size_df['TTM Revenue ($M)'], name='TTM Revenue', marker_color='#ff7f0e'),\n",
    "    row=1, col=3\n",
    ")\n",
    "\n",
    "fig.update_layout(height=400, showlegend=False, title_text=\"REIT Size Comparison\")\n",
    "fig.update_yaxes(title_text=\"Billions USD\", row=1, col=1)\n",
    "fig.update_yaxes(title_text=\"Billions USD\", row=1, col=2)\n",
    "fig.update_yaxes(title_text=\"Millions USD\", row=1, col=3)\n",
    "\n",
    "fig.show()\n",
    "\n",
    "# Key insights\n",
    "largest_assets = size_df.loc[size_df['Total Assets ($B)'].idxmax(), 'REIT']\n",
    "largest_revenue = size_df.loc[size_df['TTM Revenue ($M)'].idxmax(), 'REIT']\n",
    "\n",
    "print(f\"\\n📊 Key Insights:\")\n",
    "print(f\"Largest by Assets: {largest_assets}\")\n",
    "print(f\"Largest by Revenue: {largest_revenue}\")\n",
    "print(f\"\\nOHI is {size_df[size_df['REIT']=='OHI']['Total Assets ($B)'].values[0] / size_df[size_df['REIT']=='CTRE']['Total Assets ($B)'].values[0]:.1f}x the size of CTRE by assets\")"
   ]
  },
  {
   "cell_type": "markdown",
   "metadata": {},
   "source": [
    "## 3. Revenue Analysis\n",
    "\n",
    "Deep dive into revenue trends, growth rates, and stability."
   ]
  },
  {
   "cell_type": "code",
   "execution_count": 5,
   "metadata": {},
   "outputs": [
    {
     "data": {
      "application/vnd.plotly.v1+json": {
       "config": {
        "plotlyServerURL": "https://plot.ly"
       },
       "data": [
        {
         "line": {
          "color": "#1f77b4",
          "width": 3
         },
         "marker": {
          "size": 6
         },
         "mode": "lines+markers",
         "name": "OHI",
         "type": "scatter",
         "x": [
          "2018-03-31T00:00:00",
          "2018-06-30T00:00:00",
          "2018-06-30T00:00:00",
          "2018-09-30T00:00:00",
          "2018-09-30T00:00:00",
          "2019-03-31T00:00:00",
          "2019-03-31T00:00:00",
          "2019-06-30T00:00:00",
          "2019-06-30T00:00:00",
          "2019-06-30T00:00:00",
          "2019-06-30T00:00:00",
          "2019-09-30T00:00:00",
          "2019-09-30T00:00:00",
          "2019-09-30T00:00:00",
          "2019-09-30T00:00:00",
          "2020-03-31T00:00:00",
          "2020-03-31T00:00:00",
          "2020-06-30T00:00:00",
          "2020-06-30T00:00:00",
          "2020-06-30T00:00:00",
          "2020-06-30T00:00:00",
          "2020-09-30T00:00:00",
          "2020-09-30T00:00:00",
          "2020-09-30T00:00:00",
          "2020-09-30T00:00:00",
          "2021-03-31T00:00:00",
          "2021-03-31T00:00:00",
          "2021-06-30T00:00:00",
          "2021-06-30T00:00:00",
          "2021-06-30T00:00:00",
          "2021-06-30T00:00:00",
          "2021-09-30T00:00:00",
          "2021-09-30T00:00:00",
          "2021-09-30T00:00:00",
          "2021-09-30T00:00:00",
          "2022-03-31T00:00:00",
          "2022-03-31T00:00:00",
          "2022-06-30T00:00:00",
          "2022-06-30T00:00:00",
          "2022-06-30T00:00:00",
          "2022-06-30T00:00:00",
          "2022-09-30T00:00:00",
          "2022-09-30T00:00:00",
          "2022-09-30T00:00:00",
          "2022-09-30T00:00:00",
          "2023-03-31T00:00:00",
          "2023-03-31T00:00:00",
          "2023-06-30T00:00:00",
          "2023-06-30T00:00:00",
          "2023-06-30T00:00:00",
          "2023-06-30T00:00:00",
          "2023-09-30T00:00:00",
          "2023-09-30T00:00:00",
          "2023-09-30T00:00:00",
          "2023-09-30T00:00:00",
          "2024-03-31T00:00:00",
          "2024-03-31T00:00:00",
          "2024-06-30T00:00:00",
          "2024-06-30T00:00:00",
          "2024-06-30T00:00:00",
          "2024-06-30T00:00:00",
          "2024-09-30T00:00:00",
          "2024-09-30T00:00:00",
          "2025-03-31T00:00:00",
          "2025-06-30T00:00:00",
          "2025-06-30T00:00:00"
         ],
         "y": [
          220.199,
          219.881,
          440.08,
          661.932,
          221.852,
          223.688,
          223.688,
          225.279,
          448.967,
          448.967,
          225.279,
          233.195,
          682.162,
          682.162,
          233.195,
          253.024,
          253.024,
          256.395,
          509.419,
          509.419,
          256.395,
          119.177,
          119.177,
          628.596,
          628.596,
          273.768,
          273.768,
          531.188,
          531.188,
          257.42,
          257.42,
          812.86,
          812.86,
          281.672,
          281.672,
          249.315,
          249.315,
          493.964,
          493.964,
          244.649,
          244.649,
          733.394,
          733.394,
          239.43,
          239.43,
          218.202,
          218.202,
          250.187,
          250.187,
          468.389,
          468.389,
          710.421,
          710.421,
          242.032,
          242.032,
          243.299,
          243.299,
          252.745,
          496.044,
          496.044,
          252.745,
          772.072,
          276.028,
          276.785,
          559.291,
          282.506
         ]
        },
        {
         "line": {
          "color": "#ff7f0e",
          "width": 3
         },
         "marker": {
          "size": 6
         },
         "mode": "lines+markers",
         "name": "CTRE",
         "type": "scatter",
         "x": [
          "2013-06-30T00:00:00",
          "2013-06-30T00:00:00",
          "2013-09-30T00:00:00",
          "2013-09-30T00:00:00",
          "2014-03-31T00:00:00",
          "2014-06-30T00:00:00",
          "2014-06-30T00:00:00",
          "2014-06-30T00:00:00",
          "2014-06-30T00:00:00",
          "2014-09-30T00:00:00",
          "2014-09-30T00:00:00",
          "2014-09-30T00:00:00",
          "2014-09-30T00:00:00",
          "2015-03-31T00:00:00",
          "2015-03-31T00:00:00",
          "2015-06-30T00:00:00",
          "2015-06-30T00:00:00",
          "2015-06-30T00:00:00",
          "2015-06-30T00:00:00",
          "2015-09-30T00:00:00",
          "2015-09-30T00:00:00",
          "2015-09-30T00:00:00",
          "2015-09-30T00:00:00",
          "2016-03-31T00:00:00",
          "2016-03-31T00:00:00",
          "2016-06-30T00:00:00",
          "2016-06-30T00:00:00",
          "2016-06-30T00:00:00",
          "2016-06-30T00:00:00",
          "2016-09-30T00:00:00",
          "2016-09-30T00:00:00",
          "2016-09-30T00:00:00",
          "2016-09-30T00:00:00",
          "2017-03-31T00:00:00",
          "2017-03-31T00:00:00",
          "2017-06-30T00:00:00",
          "2017-06-30T00:00:00",
          "2017-06-30T00:00:00",
          "2017-06-30T00:00:00",
          "2017-09-30T00:00:00",
          "2017-09-30T00:00:00",
          "2017-09-30T00:00:00",
          "2017-09-30T00:00:00",
          "2018-03-31T00:00:00",
          "2018-03-31T00:00:00",
          "2018-06-30T00:00:00",
          "2018-06-30T00:00:00",
          "2018-06-30T00:00:00",
          "2018-06-30T00:00:00",
          "2018-09-30T00:00:00",
          "2018-09-30T00:00:00",
          "2018-09-30T00:00:00",
          "2018-09-30T00:00:00",
          "2019-03-31T00:00:00",
          "2019-03-31T00:00:00",
          "2019-06-30T00:00:00",
          "2019-06-30T00:00:00",
          "2019-06-30T00:00:00",
          "2019-06-30T00:00:00",
          "2019-09-30T00:00:00",
          "2019-09-30T00:00:00",
          "2019-09-30T00:00:00",
          "2019-09-30T00:00:00",
          "2020-03-31T00:00:00",
          "2020-03-31T00:00:00",
          "2020-06-30T00:00:00",
          "2020-06-30T00:00:00",
          "2020-06-30T00:00:00",
          "2020-06-30T00:00:00",
          "2020-09-30T00:00:00",
          "2020-09-30T00:00:00",
          "2020-09-30T00:00:00",
          "2020-09-30T00:00:00",
          "2021-03-31T00:00:00",
          "2021-03-31T00:00:00",
          "2021-06-30T00:00:00",
          "2021-06-30T00:00:00",
          "2021-06-30T00:00:00",
          "2021-06-30T00:00:00",
          "2021-09-30T00:00:00",
          "2021-09-30T00:00:00",
          "2021-09-30T00:00:00",
          "2021-09-30T00:00:00",
          "2022-03-31T00:00:00",
          "2022-03-31T00:00:00",
          "2022-06-30T00:00:00",
          "2022-06-30T00:00:00",
          "2022-06-30T00:00:00",
          "2022-06-30T00:00:00",
          "2022-09-30T00:00:00",
          "2022-09-30T00:00:00",
          "2022-09-30T00:00:00",
          "2022-09-30T00:00:00",
          "2023-03-31T00:00:00",
          "2023-03-31T00:00:00",
          "2023-06-30T00:00:00",
          "2023-06-30T00:00:00",
          "2023-06-30T00:00:00",
          "2023-06-30T00:00:00",
          "2023-09-30T00:00:00",
          "2023-09-30T00:00:00",
          "2023-09-30T00:00:00",
          "2023-09-30T00:00:00",
          "2024-03-31T00:00:00",
          "2024-03-31T00:00:00",
          "2024-06-30T00:00:00",
          "2024-06-30T00:00:00",
          "2024-06-30T00:00:00",
          "2024-06-30T00:00:00",
          "2024-09-30T00:00:00",
          "2024-09-30T00:00:00",
          "2025-03-31T00:00:00",
          "2025-06-30T00:00:00",
          "2025-06-30T00:00:00"
         ],
         "y": [
          12.052,
          23.388,
          12.558,
          35.946,
          12.872,
          26.936,
          26.936,
          14.065,
          14.065,
          15.884,
          42.82,
          42.82,
          15.884,
          16.958,
          16.958,
          34.334,
          17.376,
          34.334,
          17.376,
          52.319,
          52.319,
          17.985,
          17.985,
          23.629,
          23.629,
          49.33,
          49.33,
          25.701,
          25.701,
          27.106,
          76.436,
          76.436,
          27.106,
          30.608,
          30.608,
          32.829,
          63.437,
          32.829,
          63.437,
          32.948,
          96.385,
          96.385,
          32.948,
          38.101,
          38.101,
          38.969,
          77.07,
          77.07,
          38.969,
          116.58,
          39.51,
          116.58,
          39.51,
          39.658,
          39.658,
          85.859,
          85.859,
          46.201,
          46.201,
          33.314,
          119.173,
          33.314,
          119.173,
          44.34,
          44.34,
          44.168,
          88.508,
          44.168,
          88.508,
          45.687,
          45.687,
          134.195,
          134.195,
          45.751,
          45.751,
          48.258,
          94.009,
          94.009,
          48.258,
          142.614,
          142.614,
          48.605,
          48.605,
          46.476,
          46.476,
          94.029,
          47.553,
          94.029,
          47.553,
          144.322,
          144.322,
          50.293,
          50.293,
          50.606,
          50.606,
          102.159,
          102.159,
          51.553,
          51.553,
          55.877,
          158.036,
          55.877,
          158.036,
          63.07,
          63.07,
          131.961,
          131.961,
          68.891,
          68.891,
          209.342,
          77.381,
          96.621,
          209.09,
          112.469
         ]
        },
        {
         "line": {
          "color": "#2ca02c",
          "width": 3
         },
         "marker": {
          "size": 6
         },
         "mode": "lines+markers",
         "name": "SBRA",
         "type": "scatter",
         "x": [
          "2011-03-31T00:00:00",
          "2011-06-30T00:00:00",
          "2011-06-30T00:00:00",
          "2011-06-30T00:00:00",
          "2011-06-30T00:00:00",
          "2011-09-30T00:00:00",
          "2011-09-30T00:00:00",
          "2011-09-30T00:00:00",
          "2011-09-30T00:00:00",
          "2012-03-31T00:00:00",
          "2012-03-31T00:00:00",
          "2012-06-30T00:00:00",
          "2012-06-30T00:00:00",
          "2012-06-30T00:00:00",
          "2012-06-30T00:00:00",
          "2012-09-30T00:00:00",
          "2012-09-30T00:00:00",
          "2012-09-30T00:00:00",
          "2012-09-30T00:00:00",
          "2013-03-31T00:00:00",
          "2013-03-31T00:00:00",
          "2013-06-30T00:00:00",
          "2013-06-30T00:00:00",
          "2013-06-30T00:00:00",
          "2013-06-30T00:00:00",
          "2013-09-30T00:00:00",
          "2013-09-30T00:00:00",
          "2013-09-30T00:00:00",
          "2013-09-30T00:00:00",
          "2014-03-31T00:00:00",
          "2014-03-31T00:00:00",
          "2014-06-30T00:00:00",
          "2014-06-30T00:00:00",
          "2014-06-30T00:00:00",
          "2014-06-30T00:00:00",
          "2014-09-30T00:00:00",
          "2014-09-30T00:00:00",
          "2014-09-30T00:00:00",
          "2014-09-30T00:00:00",
          "2015-03-31T00:00:00",
          "2015-03-31T00:00:00",
          "2015-06-30T00:00:00",
          "2015-06-30T00:00:00",
          "2015-06-30T00:00:00",
          "2015-06-30T00:00:00",
          "2015-09-30T00:00:00",
          "2015-09-30T00:00:00",
          "2015-09-30T00:00:00",
          "2015-09-30T00:00:00",
          "2016-03-31T00:00:00",
          "2016-03-31T00:00:00",
          "2016-06-30T00:00:00",
          "2016-06-30T00:00:00",
          "2016-06-30T00:00:00",
          "2016-06-30T00:00:00",
          "2016-09-30T00:00:00",
          "2016-09-30T00:00:00",
          "2016-09-30T00:00:00",
          "2016-09-30T00:00:00",
          "2017-03-31T00:00:00",
          "2017-03-31T00:00:00",
          "2017-06-30T00:00:00",
          "2017-06-30T00:00:00",
          "2017-06-30T00:00:00",
          "2017-06-30T00:00:00",
          "2017-09-30T00:00:00",
          "2017-09-30T00:00:00",
          "2017-09-30T00:00:00",
          "2017-09-30T00:00:00",
          "2018-03-31T00:00:00",
          "2018-03-31T00:00:00",
          "2018-06-30T00:00:00",
          "2018-06-30T00:00:00",
          "2018-06-30T00:00:00",
          "2018-06-30T00:00:00",
          "2018-09-30T00:00:00",
          "2018-09-30T00:00:00",
          "2018-09-30T00:00:00",
          "2018-09-30T00:00:00",
          "2019-03-31T00:00:00",
          "2019-03-31T00:00:00",
          "2019-06-30T00:00:00",
          "2019-06-30T00:00:00",
          "2019-06-30T00:00:00",
          "2019-06-30T00:00:00",
          "2019-09-30T00:00:00",
          "2019-09-30T00:00:00",
          "2019-09-30T00:00:00",
          "2019-09-30T00:00:00",
          "2020-03-31T00:00:00",
          "2020-03-31T00:00:00",
          "2020-06-30T00:00:00",
          "2020-06-30T00:00:00",
          "2020-06-30T00:00:00",
          "2020-06-30T00:00:00",
          "2020-09-30T00:00:00",
          "2020-09-30T00:00:00",
          "2020-09-30T00:00:00",
          "2020-09-30T00:00:00",
          "2021-03-31T00:00:00",
          "2021-03-31T00:00:00",
          "2021-06-30T00:00:00",
          "2021-06-30T00:00:00",
          "2021-06-30T00:00:00",
          "2021-06-30T00:00:00",
          "2021-09-30T00:00:00",
          "2021-09-30T00:00:00",
          "2021-09-30T00:00:00",
          "2021-09-30T00:00:00",
          "2022-03-31T00:00:00",
          "2022-03-31T00:00:00",
          "2022-06-30T00:00:00",
          "2022-06-30T00:00:00",
          "2022-06-30T00:00:00",
          "2022-06-30T00:00:00",
          "2022-09-30T00:00:00",
          "2022-09-30T00:00:00",
          "2022-09-30T00:00:00",
          "2022-09-30T00:00:00",
          "2023-03-31T00:00:00",
          "2023-03-31T00:00:00",
          "2023-06-30T00:00:00",
          "2023-06-30T00:00:00",
          "2023-06-30T00:00:00",
          "2023-06-30T00:00:00",
          "2023-09-30T00:00:00",
          "2023-09-30T00:00:00",
          "2023-09-30T00:00:00",
          "2023-09-30T00:00:00",
          "2024-03-31T00:00:00",
          "2024-03-31T00:00:00",
          "2024-06-30T00:00:00",
          "2024-06-30T00:00:00",
          "2024-06-30T00:00:00",
          "2024-06-30T00:00:00",
          "2024-09-30T00:00:00",
          "2024-09-30T00:00:00",
          "2025-03-31T00:00:00",
          "2025-06-30T00:00:00",
          "2025-06-30T00:00:00"
         ],
         "y": [
          17.601,
          18.805,
          36.407,
          36.407,
          18.805,
          21.47,
          57.876,
          57.876,
          21.47,
          23.727,
          23.727,
          48.844,
          48.844,
          25.117,
          25.117,
          74.882,
          74.882,
          26.038,
          26.038,
          32.022,
          32.022,
          32.275,
          64.297,
          64.297,
          32.275,
          32.926,
          97.223,
          97.223,
          32.926,
          40.85,
          40.85,
          83.823,
          83.823,
          42.973,
          42.973,
          43.984,
          127.807,
          43.984,
          127.807,
          55.572,
          55.572,
          112.158,
          112.158,
          56.586,
          56.586,
          172.092,
          172.092,
          59.934,
          59.934,
          62.559,
          62.559,
          74.249,
          74.249,
          136.808,
          136.808,
          198.735,
          198.735,
          61.927,
          61.927,
          62.65,
          62.65,
          64.736,
          127.386,
          64.736,
          127.386,
          111.789,
          111.789,
          239.175,
          239.175,
          166.086,
          166.086,
          332.398,
          166.312,
          332.398,
          166.312,
          151.802,
          151.802,
          484.2,
          484.2,
          136.773,
          136.773,
          356.139,
          356.139,
          219.366,
          219.366,
          505.973,
          505.973,
          149.834,
          149.834,
          149.346,
          149.346,
          153.917,
          153.917,
          303.263,
          303.263,
          143.252,
          446.515,
          446.515,
          143.252,
          152.365,
          152.365,
          305.297,
          305.297,
          152.932,
          152.932,
          433.888,
          128.591,
          433.888,
          128.591,
          163.105,
          163.105,
          319.062,
          155.957,
          155.957,
          319.062,
          459.826,
          459.826,
          140.764,
          140.764,
          161.324,
          161.324,
          161.166,
          161.166,
          322.49,
          322.49,
          484.117,
          484.117,
          161.627,
          161.627,
          166.747,
          166.747,
          176.141,
          342.888,
          342.888,
          176.141,
          520.889,
          178.001,
          183.543,
          372.693,
          189.15
         ]
        }
       ],
       "layout": {
        "height": 500,
        "hovermode": "x unified",
        "template": {
         "data": {
          "bar": [
           {
            "error_x": {
             "color": "#2a3f5f"
            },
            "error_y": {
             "color": "#2a3f5f"
            },
            "marker": {
             "line": {
              "color": "#E5ECF6",
              "width": 0.5
             },
             "pattern": {
              "fillmode": "overlay",
              "size": 10,
              "solidity": 0.2
             }
            },
            "type": "bar"
           }
          ],
          "barpolar": [
           {
            "marker": {
             "line": {
              "color": "#E5ECF6",
              "width": 0.5
             },
             "pattern": {
              "fillmode": "overlay",
              "size": 10,
              "solidity": 0.2
             }
            },
            "type": "barpolar"
           }
          ],
          "carpet": [
           {
            "aaxis": {
             "endlinecolor": "#2a3f5f",
             "gridcolor": "white",
             "linecolor": "white",
             "minorgridcolor": "white",
             "startlinecolor": "#2a3f5f"
            },
            "baxis": {
             "endlinecolor": "#2a3f5f",
             "gridcolor": "white",
             "linecolor": "white",
             "minorgridcolor": "white",
             "startlinecolor": "#2a3f5f"
            },
            "type": "carpet"
           }
          ],
          "choropleth": [
           {
            "colorbar": {
             "outlinewidth": 0,
             "ticks": ""
            },
            "type": "choropleth"
           }
          ],
          "contour": [
           {
            "colorbar": {
             "outlinewidth": 0,
             "ticks": ""
            },
            "colorscale": [
             [
              0,
              "#0d0887"
             ],
             [
              0.1111111111111111,
              "#46039f"
             ],
             [
              0.2222222222222222,
              "#7201a8"
             ],
             [
              0.3333333333333333,
              "#9c179e"
             ],
             [
              0.4444444444444444,
              "#bd3786"
             ],
             [
              0.5555555555555556,
              "#d8576b"
             ],
             [
              0.6666666666666666,
              "#ed7953"
             ],
             [
              0.7777777777777778,
              "#fb9f3a"
             ],
             [
              0.8888888888888888,
              "#fdca26"
             ],
             [
              1,
              "#f0f921"
             ]
            ],
            "type": "contour"
           }
          ],
          "contourcarpet": [
           {
            "colorbar": {
             "outlinewidth": 0,
             "ticks": ""
            },
            "type": "contourcarpet"
           }
          ],
          "heatmap": [
           {
            "colorbar": {
             "outlinewidth": 0,
             "ticks": ""
            },
            "colorscale": [
             [
              0,
              "#0d0887"
             ],
             [
              0.1111111111111111,
              "#46039f"
             ],
             [
              0.2222222222222222,
              "#7201a8"
             ],
             [
              0.3333333333333333,
              "#9c179e"
             ],
             [
              0.4444444444444444,
              "#bd3786"
             ],
             [
              0.5555555555555556,
              "#d8576b"
             ],
             [
              0.6666666666666666,
              "#ed7953"
             ],
             [
              0.7777777777777778,
              "#fb9f3a"
             ],
             [
              0.8888888888888888,
              "#fdca26"
             ],
             [
              1,
              "#f0f921"
             ]
            ],
            "type": "heatmap"
           }
          ],
          "heatmapgl": [
           {
            "colorbar": {
             "outlinewidth": 0,
             "ticks": ""
            },
            "colorscale": [
             [
              0,
              "#0d0887"
             ],
             [
              0.1111111111111111,
              "#46039f"
             ],
             [
              0.2222222222222222,
              "#7201a8"
             ],
             [
              0.3333333333333333,
              "#9c179e"
             ],
             [
              0.4444444444444444,
              "#bd3786"
             ],
             [
              0.5555555555555556,
              "#d8576b"
             ],
             [
              0.6666666666666666,
              "#ed7953"
             ],
             [
              0.7777777777777778,
              "#fb9f3a"
             ],
             [
              0.8888888888888888,
              "#fdca26"
             ],
             [
              1,
              "#f0f921"
             ]
            ],
            "type": "heatmapgl"
           }
          ],
          "histogram": [
           {
            "marker": {
             "pattern": {
              "fillmode": "overlay",
              "size": 10,
              "solidity": 0.2
             }
            },
            "type": "histogram"
           }
          ],
          "histogram2d": [
           {
            "colorbar": {
             "outlinewidth": 0,
             "ticks": ""
            },
            "colorscale": [
             [
              0,
              "#0d0887"
             ],
             [
              0.1111111111111111,
              "#46039f"
             ],
             [
              0.2222222222222222,
              "#7201a8"
             ],
             [
              0.3333333333333333,
              "#9c179e"
             ],
             [
              0.4444444444444444,
              "#bd3786"
             ],
             [
              0.5555555555555556,
              "#d8576b"
             ],
             [
              0.6666666666666666,
              "#ed7953"
             ],
             [
              0.7777777777777778,
              "#fb9f3a"
             ],
             [
              0.8888888888888888,
              "#fdca26"
             ],
             [
              1,
              "#f0f921"
             ]
            ],
            "type": "histogram2d"
           }
          ],
          "histogram2dcontour": [
           {
            "colorbar": {
             "outlinewidth": 0,
             "ticks": ""
            },
            "colorscale": [
             [
              0,
              "#0d0887"
             ],
             [
              0.1111111111111111,
              "#46039f"
             ],
             [
              0.2222222222222222,
              "#7201a8"
             ],
             [
              0.3333333333333333,
              "#9c179e"
             ],
             [
              0.4444444444444444,
              "#bd3786"
             ],
             [
              0.5555555555555556,
              "#d8576b"
             ],
             [
              0.6666666666666666,
              "#ed7953"
             ],
             [
              0.7777777777777778,
              "#fb9f3a"
             ],
             [
              0.8888888888888888,
              "#fdca26"
             ],
             [
              1,
              "#f0f921"
             ]
            ],
            "type": "histogram2dcontour"
           }
          ],
          "mesh3d": [
           {
            "colorbar": {
             "outlinewidth": 0,
             "ticks": ""
            },
            "type": "mesh3d"
           }
          ],
          "parcoords": [
           {
            "line": {
             "colorbar": {
              "outlinewidth": 0,
              "ticks": ""
             }
            },
            "type": "parcoords"
           }
          ],
          "pie": [
           {
            "automargin": true,
            "type": "pie"
           }
          ],
          "scatter": [
           {
            "fillpattern": {
             "fillmode": "overlay",
             "size": 10,
             "solidity": 0.2
            },
            "type": "scatter"
           }
          ],
          "scatter3d": [
           {
            "line": {
             "colorbar": {
              "outlinewidth": 0,
              "ticks": ""
             }
            },
            "marker": {
             "colorbar": {
              "outlinewidth": 0,
              "ticks": ""
             }
            },
            "type": "scatter3d"
           }
          ],
          "scattercarpet": [
           {
            "marker": {
             "colorbar": {
              "outlinewidth": 0,
              "ticks": ""
             }
            },
            "type": "scattercarpet"
           }
          ],
          "scattergeo": [
           {
            "marker": {
             "colorbar": {
              "outlinewidth": 0,
              "ticks": ""
             }
            },
            "type": "scattergeo"
           }
          ],
          "scattergl": [
           {
            "marker": {
             "colorbar": {
              "outlinewidth": 0,
              "ticks": ""
             }
            },
            "type": "scattergl"
           }
          ],
          "scattermapbox": [
           {
            "marker": {
             "colorbar": {
              "outlinewidth": 0,
              "ticks": ""
             }
            },
            "type": "scattermapbox"
           }
          ],
          "scatterpolar": [
           {
            "marker": {
             "colorbar": {
              "outlinewidth": 0,
              "ticks": ""
             }
            },
            "type": "scatterpolar"
           }
          ],
          "scatterpolargl": [
           {
            "marker": {
             "colorbar": {
              "outlinewidth": 0,
              "ticks": ""
             }
            },
            "type": "scatterpolargl"
           }
          ],
          "scatterternary": [
           {
            "marker": {
             "colorbar": {
              "outlinewidth": 0,
              "ticks": ""
             }
            },
            "type": "scatterternary"
           }
          ],
          "surface": [
           {
            "colorbar": {
             "outlinewidth": 0,
             "ticks": ""
            },
            "colorscale": [
             [
              0,
              "#0d0887"
             ],
             [
              0.1111111111111111,
              "#46039f"
             ],
             [
              0.2222222222222222,
              "#7201a8"
             ],
             [
              0.3333333333333333,
              "#9c179e"
             ],
             [
              0.4444444444444444,
              "#bd3786"
             ],
             [
              0.5555555555555556,
              "#d8576b"
             ],
             [
              0.6666666666666666,
              "#ed7953"
             ],
             [
              0.7777777777777778,
              "#fb9f3a"
             ],
             [
              0.8888888888888888,
              "#fdca26"
             ],
             [
              1,
              "#f0f921"
             ]
            ],
            "type": "surface"
           }
          ],
          "table": [
           {
            "cells": {
             "fill": {
              "color": "#EBF0F8"
             },
             "line": {
              "color": "white"
             }
            },
            "header": {
             "fill": {
              "color": "#C8D4E3"
             },
             "line": {
              "color": "white"
             }
            },
            "type": "table"
           }
          ]
         },
         "layout": {
          "annotationdefaults": {
           "arrowcolor": "#2a3f5f",
           "arrowhead": 0,
           "arrowwidth": 1
          },
          "autotypenumbers": "strict",
          "coloraxis": {
           "colorbar": {
            "outlinewidth": 0,
            "ticks": ""
           }
          },
          "colorscale": {
           "diverging": [
            [
             0,
             "#8e0152"
            ],
            [
             0.1,
             "#c51b7d"
            ],
            [
             0.2,
             "#de77ae"
            ],
            [
             0.3,
             "#f1b6da"
            ],
            [
             0.4,
             "#fde0ef"
            ],
            [
             0.5,
             "#f7f7f7"
            ],
            [
             0.6,
             "#e6f5d0"
            ],
            [
             0.7,
             "#b8e186"
            ],
            [
             0.8,
             "#7fbc41"
            ],
            [
             0.9,
             "#4d9221"
            ],
            [
             1,
             "#276419"
            ]
           ],
           "sequential": [
            [
             0,
             "#0d0887"
            ],
            [
             0.1111111111111111,
             "#46039f"
            ],
            [
             0.2222222222222222,
             "#7201a8"
            ],
            [
             0.3333333333333333,
             "#9c179e"
            ],
            [
             0.4444444444444444,
             "#bd3786"
            ],
            [
             0.5555555555555556,
             "#d8576b"
            ],
            [
             0.6666666666666666,
             "#ed7953"
            ],
            [
             0.7777777777777778,
             "#fb9f3a"
            ],
            [
             0.8888888888888888,
             "#fdca26"
            ],
            [
             1,
             "#f0f921"
            ]
           ],
           "sequentialminus": [
            [
             0,
             "#0d0887"
            ],
            [
             0.1111111111111111,
             "#46039f"
            ],
            [
             0.2222222222222222,
             "#7201a8"
            ],
            [
             0.3333333333333333,
             "#9c179e"
            ],
            [
             0.4444444444444444,
             "#bd3786"
            ],
            [
             0.5555555555555556,
             "#d8576b"
            ],
            [
             0.6666666666666666,
             "#ed7953"
            ],
            [
             0.7777777777777778,
             "#fb9f3a"
            ],
            [
             0.8888888888888888,
             "#fdca26"
            ],
            [
             1,
             "#f0f921"
            ]
           ]
          },
          "colorway": [
           "#636efa",
           "#EF553B",
           "#00cc96",
           "#ab63fa",
           "#FFA15A",
           "#19d3f3",
           "#FF6692",
           "#B6E880",
           "#FF97FF",
           "#FECB52"
          ],
          "font": {
           "color": "#2a3f5f"
          },
          "geo": {
           "bgcolor": "white",
           "lakecolor": "white",
           "landcolor": "#E5ECF6",
           "showlakes": true,
           "showland": true,
           "subunitcolor": "white"
          },
          "hoverlabel": {
           "align": "left"
          },
          "hovermode": "closest",
          "mapbox": {
           "style": "light"
          },
          "paper_bgcolor": "white",
          "plot_bgcolor": "#E5ECF6",
          "polar": {
           "angularaxis": {
            "gridcolor": "white",
            "linecolor": "white",
            "ticks": ""
           },
           "bgcolor": "#E5ECF6",
           "radialaxis": {
            "gridcolor": "white",
            "linecolor": "white",
            "ticks": ""
           }
          },
          "scene": {
           "xaxis": {
            "backgroundcolor": "#E5ECF6",
            "gridcolor": "white",
            "gridwidth": 2,
            "linecolor": "white",
            "showbackground": true,
            "ticks": "",
            "zerolinecolor": "white"
           },
           "yaxis": {
            "backgroundcolor": "#E5ECF6",
            "gridcolor": "white",
            "gridwidth": 2,
            "linecolor": "white",
            "showbackground": true,
            "ticks": "",
            "zerolinecolor": "white"
           },
           "zaxis": {
            "backgroundcolor": "#E5ECF6",
            "gridcolor": "white",
            "gridwidth": 2,
            "linecolor": "white",
            "showbackground": true,
            "ticks": "",
            "zerolinecolor": "white"
           }
          },
          "shapedefaults": {
           "line": {
            "color": "#2a3f5f"
           }
          },
          "ternary": {
           "aaxis": {
            "gridcolor": "white",
            "linecolor": "white",
            "ticks": ""
           },
           "baxis": {
            "gridcolor": "white",
            "linecolor": "white",
            "ticks": ""
           },
           "bgcolor": "#E5ECF6",
           "caxis": {
            "gridcolor": "white",
            "linecolor": "white",
            "ticks": ""
           }
          },
          "title": {
           "x": 0.05
          },
          "xaxis": {
           "automargin": true,
           "gridcolor": "white",
           "linecolor": "white",
           "ticks": "",
           "title": {
            "standoff": 15
           },
           "zerolinecolor": "white",
           "zerolinewidth": 2
          },
          "yaxis": {
           "automargin": true,
           "gridcolor": "white",
           "linecolor": "white",
           "ticks": "",
           "title": {
            "standoff": 15
           },
           "zerolinecolor": "white",
           "zerolinewidth": 2
          }
         }
        },
        "title": {
         "text": "Quarterly Revenue Trends (2010-2025)"
        },
        "xaxis": {
         "title": {
          "text": "Quarter End Date"
         }
        },
        "yaxis": {
         "title": {
          "text": "Revenue (Millions USD)"
         }
        }
       }
      }
     },
     "metadata": {},
     "output_type": "display_data"
    }
   ],
   "source": [
    "# Plot quarterly revenue trends for all three REITs\n",
    "fig = go.Figure()\n",
    "\n",
    "colors = {'ohi': '#1f77b4', 'ctre': '#ff7f0e', 'sbra': '#2ca02c'}\n",
    "\n",
    "for reit in reits:\n",
    "    rev_df = reit_data[reit]['revenues']\n",
    "    quarterly = rev_df[rev_df['fp'].str.startswith('Q')].copy()\n",
    "    quarterly = quarterly.sort_values('end')\n",
    "    \n",
    "    fig.add_trace(go.Scatter(\n",
    "        x=quarterly['end'],\n",
    "        y=quarterly['val'] / 1e6,\n",
    "        mode='lines+markers',\n",
    "        name=reit.upper(),\n",
    "        line=dict(width=3, color=colors[reit]),\n",
    "        marker=dict(size=6)\n",
    "    ))\n",
    "\n",
    "fig.update_layout(\n",
    "    title='Quarterly Revenue Trends (2010-2025)',\n",
    "    xaxis_title='Quarter End Date',\n",
    "    yaxis_title='Revenue (Millions USD)',\n",
    "    hovermode='x unified',\n",
    "    height=500\n",
    ")\n",
    "\n",
    "fig.show()"
   ]
  },
  {
   "cell_type": "code",
   "execution_count": 6,
   "metadata": {},
   "outputs": [
    {
     "data": {
      "text/html": [
       "<div>\n",
       "<style scoped>\n",
       "    .dataframe tbody tr th:only-of-type {\n",
       "        vertical-align: middle;\n",
       "    }\n",
       "\n",
       "    .dataframe tbody tr th {\n",
       "        vertical-align: top;\n",
       "    }\n",
       "\n",
       "    .dataframe thead th {\n",
       "        text-align: right;\n",
       "    }\n",
       "</style>\n",
       "<table border=\"1\" class=\"dataframe\">\n",
       "  <thead>\n",
       "    <tr style=\"text-align: right;\">\n",
       "      <th></th>\n",
       "      <th>REIT</th>\n",
       "      <th>TTM Revenue ($M)</th>\n",
       "      <th>YoY Growth (%)</th>\n",
       "      <th>3Y CAGR (%)</th>\n",
       "      <th>5Y CAGR (%)</th>\n",
       "      <th>Revenue Volatility (%)</th>\n",
       "    </tr>\n",
       "  </thead>\n",
       "  <tbody>\n",
       "    <tr>\n",
       "      <th>0</th>\n",
       "      <td>OHI</td>\n",
       "      <td>1,394.61</td>\n",
       "      <td>-21.37</td>\n",
       "      <td>-13.18</td>\n",
       "      <td>-0.51</td>\n",
       "      <td>84.84</td>\n",
       "    </tr>\n",
       "    <tr>\n",
       "      <th>1</th>\n",
       "      <td>CTRE</td>\n",
       "      <td>627.52</td>\n",
       "      <td>80.78</td>\n",
       "      <td>24.99</td>\n",
       "      <td>16.25</td>\n",
       "      <td>80.33</td>\n",
       "    </tr>\n",
       "    <tr>\n",
       "      <th>2</th>\n",
       "      <td>SBRA</td>\n",
       "      <td>923.39</td>\n",
       "      <td>-24.07</td>\n",
       "      <td>-14.01</td>\n",
       "      <td>0.45</td>\n",
       "      <td>73.36</td>\n",
       "    </tr>\n",
       "  </tbody>\n",
       "</table>\n",
       "</div>"
      ],
      "text/plain": [
       "   REIT  TTM Revenue ($M)  YoY Growth (%)  3Y CAGR (%)  5Y CAGR (%)  \\\n",
       "0   OHI          1,394.61          -21.37       -13.18        -0.51   \n",
       "1  CTRE            627.52           80.78        24.99        16.25   \n",
       "2  SBRA            923.39          -24.07       -14.01         0.45   \n",
       "\n",
       "   Revenue Volatility (%)  \n",
       "0                   84.84  \n",
       "1                   80.33  \n",
       "2                   73.36  "
      ]
     },
     "execution_count": 6,
     "metadata": {},
     "output_type": "execute_result"
    }
   ],
   "source": [
    "# Calculate growth rates\n",
    "growth_analysis = []\n",
    "\n",
    "for reit in reits:\n",
    "    rev_df = reit_data[reit]['revenues']\n",
    "    quarterly = rev_df[rev_df['fp'].str.startswith('Q')].copy()\n",
    "    quarterly = quarterly.sort_values('end', ascending=False)\n",
    "    \n",
    "    if len(quarterly) >= 8:\n",
    "        # Latest 4 quarters (TTM)\n",
    "        latest_ttm = quarterly.iloc[0:4]['val'].sum()\n",
    "        \n",
    "        # Prior 4 quarters\n",
    "        prior_ttm = quarterly.iloc[4:8]['val'].sum()\n",
    "        \n",
    "        # YoY growth\n",
    "        yoy_growth = ((latest_ttm / prior_ttm) - 1) * 100\n",
    "        \n",
    "        # Calculate 3-year CAGR\n",
    "        if len(quarterly) >= 16:\n",
    "            ttm_3y_ago = quarterly.iloc[12:16]['val'].sum()\n",
    "            cagr_3y = (((latest_ttm / ttm_3y_ago) ** (1/3)) - 1) * 100\n",
    "        else:\n",
    "            cagr_3y = None\n",
    "        \n",
    "        # Calculate 5-year CAGR\n",
    "        if len(quarterly) >= 24:\n",
    "            ttm_5y_ago = quarterly.iloc[20:24]['val'].sum()\n",
    "            cagr_5y = (((latest_ttm / ttm_5y_ago) ** (1/5)) - 1) * 100\n",
    "        else:\n",
    "            cagr_5y = None\n",
    "        \n",
    "        # Calculate revenue volatility (std dev of QoQ growth)\n",
    "        quarterly['qoq_growth'] = quarterly['val'].pct_change(-1) * 100\n",
    "        volatility = quarterly['qoq_growth'].std()\n",
    "        \n",
    "        growth_analysis.append({\n",
    "            'REIT': reit.upper(),\n",
    "            'TTM Revenue ($M)': latest_ttm / 1e6,\n",
    "            'YoY Growth (%)': yoy_growth,\n",
    "            '3Y CAGR (%)': cagr_3y,\n",
    "            '5Y CAGR (%)': cagr_5y,\n",
    "            'Revenue Volatility (%)': volatility\n",
    "        })\n",
    "\n",
    "growth_df = pd.DataFrame(growth_analysis)\n",
    "growth_df"
   ]
  },
  {
   "cell_type": "code",
   "execution_count": 7,
   "metadata": {},
   "outputs": [
    {
     "data": {
      "application/vnd.plotly.v1+json": {
       "config": {
        "plotlyServerURL": "https://plot.ly"
       },
       "data": [
        {
         "marker": {
          "color": "#1f77b4"
         },
         "name": "YoY Growth (%)",
         "type": "bar",
         "x": [
          "OHI",
          "CTRE",
          "SBRA"
         ],
         "xaxis": "x",
         "y": [
          -21.36866925348696,
          80.77747433193903,
          -24.06725331583418
         ],
         "yaxis": "y"
        },
        {
         "marker": {
          "color": "#ff7f0e"
         },
         "name": "3Y CAGR (%)",
         "type": "bar",
         "x": [
          "OHI",
          "CTRE",
          "SBRA"
         ],
         "xaxis": "x",
         "y": [
          -13.182906311454445,
          24.993291335538782,
          -14.012090776856034
         ],
         "yaxis": "y"
        },
        {
         "marker": {
          "color": "#2ca02c"
         },
         "name": "5Y CAGR (%)",
         "type": "bar",
         "x": [
          "OHI",
          "CTRE",
          "SBRA"
         ],
         "xaxis": "x",
         "y": [
          -0.5062834086245971,
          16.25460881574867,
          0.45468117001925545
         ],
         "yaxis": "y"
        },
        {
         "marker": {
          "color": "#d62728"
         },
         "name": "Volatility",
         "showlegend": false,
         "type": "bar",
         "x": [
          "OHI",
          "CTRE",
          "SBRA"
         ],
         "xaxis": "x2",
         "y": [
          84.83746890088281,
          80.32573897208555,
          73.35893229609655
         ],
         "yaxis": "y2"
        }
       ],
       "layout": {
        "annotations": [
         {
          "font": {
           "size": 16
          },
          "showarrow": false,
          "text": "Revenue Growth Rates",
          "x": 0.225,
          "xanchor": "center",
          "xref": "paper",
          "y": 1,
          "yanchor": "bottom",
          "yref": "paper"
         },
         {
          "font": {
           "size": 16
          },
          "showarrow": false,
          "text": "Revenue Stability (Lower is Better)",
          "x": 0.775,
          "xanchor": "center",
          "xref": "paper",
          "y": 1,
          "yanchor": "bottom",
          "yref": "paper"
         }
        ],
        "height": 400,
        "template": {
         "data": {
          "bar": [
           {
            "error_x": {
             "color": "#2a3f5f"
            },
            "error_y": {
             "color": "#2a3f5f"
            },
            "marker": {
             "line": {
              "color": "#E5ECF6",
              "width": 0.5
             },
             "pattern": {
              "fillmode": "overlay",
              "size": 10,
              "solidity": 0.2
             }
            },
            "type": "bar"
           }
          ],
          "barpolar": [
           {
            "marker": {
             "line": {
              "color": "#E5ECF6",
              "width": 0.5
             },
             "pattern": {
              "fillmode": "overlay",
              "size": 10,
              "solidity": 0.2
             }
            },
            "type": "barpolar"
           }
          ],
          "carpet": [
           {
            "aaxis": {
             "endlinecolor": "#2a3f5f",
             "gridcolor": "white",
             "linecolor": "white",
             "minorgridcolor": "white",
             "startlinecolor": "#2a3f5f"
            },
            "baxis": {
             "endlinecolor": "#2a3f5f",
             "gridcolor": "white",
             "linecolor": "white",
             "minorgridcolor": "white",
             "startlinecolor": "#2a3f5f"
            },
            "type": "carpet"
           }
          ],
          "choropleth": [
           {
            "colorbar": {
             "outlinewidth": 0,
             "ticks": ""
            },
            "type": "choropleth"
           }
          ],
          "contour": [
           {
            "colorbar": {
             "outlinewidth": 0,
             "ticks": ""
            },
            "colorscale": [
             [
              0,
              "#0d0887"
             ],
             [
              0.1111111111111111,
              "#46039f"
             ],
             [
              0.2222222222222222,
              "#7201a8"
             ],
             [
              0.3333333333333333,
              "#9c179e"
             ],
             [
              0.4444444444444444,
              "#bd3786"
             ],
             [
              0.5555555555555556,
              "#d8576b"
             ],
             [
              0.6666666666666666,
              "#ed7953"
             ],
             [
              0.7777777777777778,
              "#fb9f3a"
             ],
             [
              0.8888888888888888,
              "#fdca26"
             ],
             [
              1,
              "#f0f921"
             ]
            ],
            "type": "contour"
           }
          ],
          "contourcarpet": [
           {
            "colorbar": {
             "outlinewidth": 0,
             "ticks": ""
            },
            "type": "contourcarpet"
           }
          ],
          "heatmap": [
           {
            "colorbar": {
             "outlinewidth": 0,
             "ticks": ""
            },
            "colorscale": [
             [
              0,
              "#0d0887"
             ],
             [
              0.1111111111111111,
              "#46039f"
             ],
             [
              0.2222222222222222,
              "#7201a8"
             ],
             [
              0.3333333333333333,
              "#9c179e"
             ],
             [
              0.4444444444444444,
              "#bd3786"
             ],
             [
              0.5555555555555556,
              "#d8576b"
             ],
             [
              0.6666666666666666,
              "#ed7953"
             ],
             [
              0.7777777777777778,
              "#fb9f3a"
             ],
             [
              0.8888888888888888,
              "#fdca26"
             ],
             [
              1,
              "#f0f921"
             ]
            ],
            "type": "heatmap"
           }
          ],
          "heatmapgl": [
           {
            "colorbar": {
             "outlinewidth": 0,
             "ticks": ""
            },
            "colorscale": [
             [
              0,
              "#0d0887"
             ],
             [
              0.1111111111111111,
              "#46039f"
             ],
             [
              0.2222222222222222,
              "#7201a8"
             ],
             [
              0.3333333333333333,
              "#9c179e"
             ],
             [
              0.4444444444444444,
              "#bd3786"
             ],
             [
              0.5555555555555556,
              "#d8576b"
             ],
             [
              0.6666666666666666,
              "#ed7953"
             ],
             [
              0.7777777777777778,
              "#fb9f3a"
             ],
             [
              0.8888888888888888,
              "#fdca26"
             ],
             [
              1,
              "#f0f921"
             ]
            ],
            "type": "heatmapgl"
           }
          ],
          "histogram": [
           {
            "marker": {
             "pattern": {
              "fillmode": "overlay",
              "size": 10,
              "solidity": 0.2
             }
            },
            "type": "histogram"
           }
          ],
          "histogram2d": [
           {
            "colorbar": {
             "outlinewidth": 0,
             "ticks": ""
            },
            "colorscale": [
             [
              0,
              "#0d0887"
             ],
             [
              0.1111111111111111,
              "#46039f"
             ],
             [
              0.2222222222222222,
              "#7201a8"
             ],
             [
              0.3333333333333333,
              "#9c179e"
             ],
             [
              0.4444444444444444,
              "#bd3786"
             ],
             [
              0.5555555555555556,
              "#d8576b"
             ],
             [
              0.6666666666666666,
              "#ed7953"
             ],
             [
              0.7777777777777778,
              "#fb9f3a"
             ],
             [
              0.8888888888888888,
              "#fdca26"
             ],
             [
              1,
              "#f0f921"
             ]
            ],
            "type": "histogram2d"
           }
          ],
          "histogram2dcontour": [
           {
            "colorbar": {
             "outlinewidth": 0,
             "ticks": ""
            },
            "colorscale": [
             [
              0,
              "#0d0887"
             ],
             [
              0.1111111111111111,
              "#46039f"
             ],
             [
              0.2222222222222222,
              "#7201a8"
             ],
             [
              0.3333333333333333,
              "#9c179e"
             ],
             [
              0.4444444444444444,
              "#bd3786"
             ],
             [
              0.5555555555555556,
              "#d8576b"
             ],
             [
              0.6666666666666666,
              "#ed7953"
             ],
             [
              0.7777777777777778,
              "#fb9f3a"
             ],
             [
              0.8888888888888888,
              "#fdca26"
             ],
             [
              1,
              "#f0f921"
             ]
            ],
            "type": "histogram2dcontour"
           }
          ],
          "mesh3d": [
           {
            "colorbar": {
             "outlinewidth": 0,
             "ticks": ""
            },
            "type": "mesh3d"
           }
          ],
          "parcoords": [
           {
            "line": {
             "colorbar": {
              "outlinewidth": 0,
              "ticks": ""
             }
            },
            "type": "parcoords"
           }
          ],
          "pie": [
           {
            "automargin": true,
            "type": "pie"
           }
          ],
          "scatter": [
           {
            "fillpattern": {
             "fillmode": "overlay",
             "size": 10,
             "solidity": 0.2
            },
            "type": "scatter"
           }
          ],
          "scatter3d": [
           {
            "line": {
             "colorbar": {
              "outlinewidth": 0,
              "ticks": ""
             }
            },
            "marker": {
             "colorbar": {
              "outlinewidth": 0,
              "ticks": ""
             }
            },
            "type": "scatter3d"
           }
          ],
          "scattercarpet": [
           {
            "marker": {
             "colorbar": {
              "outlinewidth": 0,
              "ticks": ""
             }
            },
            "type": "scattercarpet"
           }
          ],
          "scattergeo": [
           {
            "marker": {
             "colorbar": {
              "outlinewidth": 0,
              "ticks": ""
             }
            },
            "type": "scattergeo"
           }
          ],
          "scattergl": [
           {
            "marker": {
             "colorbar": {
              "outlinewidth": 0,
              "ticks": ""
             }
            },
            "type": "scattergl"
           }
          ],
          "scattermapbox": [
           {
            "marker": {
             "colorbar": {
              "outlinewidth": 0,
              "ticks": ""
             }
            },
            "type": "scattermapbox"
           }
          ],
          "scatterpolar": [
           {
            "marker": {
             "colorbar": {
              "outlinewidth": 0,
              "ticks": ""
             }
            },
            "type": "scatterpolar"
           }
          ],
          "scatterpolargl": [
           {
            "marker": {
             "colorbar": {
              "outlinewidth": 0,
              "ticks": ""
             }
            },
            "type": "scatterpolargl"
           }
          ],
          "scatterternary": [
           {
            "marker": {
             "colorbar": {
              "outlinewidth": 0,
              "ticks": ""
             }
            },
            "type": "scatterternary"
           }
          ],
          "surface": [
           {
            "colorbar": {
             "outlinewidth": 0,
             "ticks": ""
            },
            "colorscale": [
             [
              0,
              "#0d0887"
             ],
             [
              0.1111111111111111,
              "#46039f"
             ],
             [
              0.2222222222222222,
              "#7201a8"
             ],
             [
              0.3333333333333333,
              "#9c179e"
             ],
             [
              0.4444444444444444,
              "#bd3786"
             ],
             [
              0.5555555555555556,
              "#d8576b"
             ],
             [
              0.6666666666666666,
              "#ed7953"
             ],
             [
              0.7777777777777778,
              "#fb9f3a"
             ],
             [
              0.8888888888888888,
              "#fdca26"
             ],
             [
              1,
              "#f0f921"
             ]
            ],
            "type": "surface"
           }
          ],
          "table": [
           {
            "cells": {
             "fill": {
              "color": "#EBF0F8"
             },
             "line": {
              "color": "white"
             }
            },
            "header": {
             "fill": {
              "color": "#C8D4E3"
             },
             "line": {
              "color": "white"
             }
            },
            "type": "table"
           }
          ]
         },
         "layout": {
          "annotationdefaults": {
           "arrowcolor": "#2a3f5f",
           "arrowhead": 0,
           "arrowwidth": 1
          },
          "autotypenumbers": "strict",
          "coloraxis": {
           "colorbar": {
            "outlinewidth": 0,
            "ticks": ""
           }
          },
          "colorscale": {
           "diverging": [
            [
             0,
             "#8e0152"
            ],
            [
             0.1,
             "#c51b7d"
            ],
            [
             0.2,
             "#de77ae"
            ],
            [
             0.3,
             "#f1b6da"
            ],
            [
             0.4,
             "#fde0ef"
            ],
            [
             0.5,
             "#f7f7f7"
            ],
            [
             0.6,
             "#e6f5d0"
            ],
            [
             0.7,
             "#b8e186"
            ],
            [
             0.8,
             "#7fbc41"
            ],
            [
             0.9,
             "#4d9221"
            ],
            [
             1,
             "#276419"
            ]
           ],
           "sequential": [
            [
             0,
             "#0d0887"
            ],
            [
             0.1111111111111111,
             "#46039f"
            ],
            [
             0.2222222222222222,
             "#7201a8"
            ],
            [
             0.3333333333333333,
             "#9c179e"
            ],
            [
             0.4444444444444444,
             "#bd3786"
            ],
            [
             0.5555555555555556,
             "#d8576b"
            ],
            [
             0.6666666666666666,
             "#ed7953"
            ],
            [
             0.7777777777777778,
             "#fb9f3a"
            ],
            [
             0.8888888888888888,
             "#fdca26"
            ],
            [
             1,
             "#f0f921"
            ]
           ],
           "sequentialminus": [
            [
             0,
             "#0d0887"
            ],
            [
             0.1111111111111111,
             "#46039f"
            ],
            [
             0.2222222222222222,
             "#7201a8"
            ],
            [
             0.3333333333333333,
             "#9c179e"
            ],
            [
             0.4444444444444444,
             "#bd3786"
            ],
            [
             0.5555555555555556,
             "#d8576b"
            ],
            [
             0.6666666666666666,
             "#ed7953"
            ],
            [
             0.7777777777777778,
             "#fb9f3a"
            ],
            [
             0.8888888888888888,
             "#fdca26"
            ],
            [
             1,
             "#f0f921"
            ]
           ]
          },
          "colorway": [
           "#636efa",
           "#EF553B",
           "#00cc96",
           "#ab63fa",
           "#FFA15A",
           "#19d3f3",
           "#FF6692",
           "#B6E880",
           "#FF97FF",
           "#FECB52"
          ],
          "font": {
           "color": "#2a3f5f"
          },
          "geo": {
           "bgcolor": "white",
           "lakecolor": "white",
           "landcolor": "#E5ECF6",
           "showlakes": true,
           "showland": true,
           "subunitcolor": "white"
          },
          "hoverlabel": {
           "align": "left"
          },
          "hovermode": "closest",
          "mapbox": {
           "style": "light"
          },
          "paper_bgcolor": "white",
          "plot_bgcolor": "#E5ECF6",
          "polar": {
           "angularaxis": {
            "gridcolor": "white",
            "linecolor": "white",
            "ticks": ""
           },
           "bgcolor": "#E5ECF6",
           "radialaxis": {
            "gridcolor": "white",
            "linecolor": "white",
            "ticks": ""
           }
          },
          "scene": {
           "xaxis": {
            "backgroundcolor": "#E5ECF6",
            "gridcolor": "white",
            "gridwidth": 2,
            "linecolor": "white",
            "showbackground": true,
            "ticks": "",
            "zerolinecolor": "white"
           },
           "yaxis": {
            "backgroundcolor": "#E5ECF6",
            "gridcolor": "white",
            "gridwidth": 2,
            "linecolor": "white",
            "showbackground": true,
            "ticks": "",
            "zerolinecolor": "white"
           },
           "zaxis": {
            "backgroundcolor": "#E5ECF6",
            "gridcolor": "white",
            "gridwidth": 2,
            "linecolor": "white",
            "showbackground": true,
            "ticks": "",
            "zerolinecolor": "white"
           }
          },
          "shapedefaults": {
           "line": {
            "color": "#2a3f5f"
           }
          },
          "ternary": {
           "aaxis": {
            "gridcolor": "white",
            "linecolor": "white",
            "ticks": ""
           },
           "baxis": {
            "gridcolor": "white",
            "linecolor": "white",
            "ticks": ""
           },
           "bgcolor": "#E5ECF6",
           "caxis": {
            "gridcolor": "white",
            "linecolor": "white",
            "ticks": ""
           }
          },
          "title": {
           "x": 0.05
          },
          "xaxis": {
           "automargin": true,
           "gridcolor": "white",
           "linecolor": "white",
           "ticks": "",
           "title": {
            "standoff": 15
           },
           "zerolinecolor": "white",
           "zerolinewidth": 2
          },
          "yaxis": {
           "automargin": true,
           "gridcolor": "white",
           "linecolor": "white",
           "ticks": "",
           "title": {
            "standoff": 15
           },
           "zerolinecolor": "white",
           "zerolinewidth": 2
          }
         }
        },
        "title": {
         "text": "Revenue Growth & Stability Analysis"
        },
        "xaxis": {
         "anchor": "y",
         "domain": [
          0,
          0.45
         ]
        },
        "xaxis2": {
         "anchor": "y2",
         "domain": [
          0.55,
          1
         ]
        },
        "yaxis": {
         "anchor": "x",
         "domain": [
          0,
          1
         ],
         "title": {
          "text": "Growth Rate (%)"
         }
        },
        "yaxis2": {
         "anchor": "x2",
         "domain": [
          0,
          1
         ],
         "title": {
          "text": "Std Dev of QoQ Growth (%)"
         }
        }
       }
      }
     },
     "metadata": {},
     "output_type": "display_data"
    },
    {
     "name": "stdout",
     "output_type": "stream",
     "text": [
      "\n",
      "📊 Key Insights:\n",
      "Fastest Growing (3Y CAGR): CTRE\n",
      "Most Stable Revenue: SBRA\n"
     ]
    }
   ],
   "source": [
    "# Visualize growth comparison\n",
    "fig = make_subplots(\n",
    "    rows=1, cols=2,\n",
    "    subplot_titles=('Revenue Growth Rates', 'Revenue Stability (Lower is Better)'),\n",
    "    specs=[[{'type': 'bar'}, {'type': 'bar'}]]\n",
    ")\n",
    "\n",
    "# Growth rates\n",
    "for col, color in [('YoY Growth (%)', '#1f77b4'), ('3Y CAGR (%)', '#ff7f0e'), ('5Y CAGR (%)', '#2ca02c')]:\n",
    "    fig.add_trace(\n",
    "        go.Bar(x=growth_df['REIT'], y=growth_df[col], name=col, marker_color=color),\n",
    "        row=1, col=1\n",
    "    )\n",
    "\n",
    "# Volatility\n",
    "fig.add_trace(\n",
    "    go.Bar(x=growth_df['REIT'], y=growth_df['Revenue Volatility (%)'], name='Volatility', marker_color='#d62728', showlegend=False),\n",
    "    row=1, col=2\n",
    ")\n",
    "\n",
    "fig.update_layout(height=400, title_text=\"Revenue Growth & Stability Analysis\")\n",
    "fig.update_yaxes(title_text=\"Growth Rate (%)\", row=1, col=1)\n",
    "fig.update_yaxes(title_text=\"Std Dev of QoQ Growth (%)\", row=1, col=2)\n",
    "\n",
    "fig.show()\n",
    "\n",
    "# Key insights\n",
    "fastest_growing = growth_df.loc[growth_df['3Y CAGR (%)'].idxmax(), 'REIT']\n",
    "most_stable = growth_df.loc[growth_df['Revenue Volatility (%)'].idxmin(), 'REIT']\n",
    "\n",
    "print(f\"\\n📊 Key Insights:\")\n",
    "print(f\"Fastest Growing (3Y CAGR): {fastest_growing}\")\n",
    "print(f\"Most Stable Revenue: {most_stable}\")"
   ]
  },
  {
   "cell_type": "markdown",
   "metadata": {},
   "source": [
    "## 4. Profitability Analysis\n",
    "\n",
    "Analyze net income, operating income, and profit margins."
   ]
  },
  {
   "cell_type": "code",
   "execution_count": 8,
   "metadata": {},
   "outputs": [
    {
     "data": {
      "application/vnd.plotly.v1+json": {
       "config": {
        "plotlyServerURL": "https://plot.ly"
       },
       "data": [
        {
         "line": {
          "color": "#1f77b4",
          "width": 3
         },
         "marker": {
          "size": 6
         },
         "mode": "lines+markers",
         "name": "OHI",
         "type": "scatter",
         "x": [
          "2009-06-30T00:00:00",
          "2009-06-30T00:00:00",
          "2009-09-30T00:00:00",
          "2009-09-30T00:00:00",
          "2010-03-31T00:00:00",
          "2010-06-30T00:00:00",
          "2010-06-30T00:00:00",
          "2010-06-30T00:00:00",
          "2010-06-30T00:00:00",
          "2010-09-30T00:00:00",
          "2010-09-30T00:00:00",
          "2010-09-30T00:00:00",
          "2010-09-30T00:00:00",
          "2011-03-31T00:00:00",
          "2011-03-31T00:00:00",
          "2011-06-30T00:00:00",
          "2011-06-30T00:00:00",
          "2011-06-30T00:00:00",
          "2011-06-30T00:00:00",
          "2011-09-30T00:00:00",
          "2011-09-30T00:00:00",
          "2011-09-30T00:00:00",
          "2011-09-30T00:00:00",
          "2012-03-31T00:00:00",
          "2012-03-31T00:00:00",
          "2012-06-30T00:00:00",
          "2012-06-30T00:00:00",
          "2012-06-30T00:00:00",
          "2012-06-30T00:00:00",
          "2012-09-30T00:00:00",
          "2012-09-30T00:00:00",
          "2012-09-30T00:00:00",
          "2012-09-30T00:00:00",
          "2013-03-31T00:00:00",
          "2013-03-31T00:00:00",
          "2013-06-30T00:00:00",
          "2013-06-30T00:00:00",
          "2013-06-30T00:00:00",
          "2013-06-30T00:00:00",
          "2013-09-30T00:00:00",
          "2013-09-30T00:00:00",
          "2013-09-30T00:00:00",
          "2013-09-30T00:00:00",
          "2014-03-31T00:00:00",
          "2014-03-31T00:00:00",
          "2014-06-30T00:00:00",
          "2014-06-30T00:00:00",
          "2014-06-30T00:00:00",
          "2014-06-30T00:00:00",
          "2014-09-30T00:00:00",
          "2014-09-30T00:00:00",
          "2014-09-30T00:00:00",
          "2014-09-30T00:00:00",
          "2015-03-31T00:00:00",
          "2015-06-30T00:00:00",
          "2015-06-30T00:00:00",
          "2015-09-30T00:00:00",
          "2015-09-30T00:00:00",
          "2024-03-31T00:00:00",
          "2024-06-30T00:00:00",
          "2024-06-30T00:00:00",
          "2025-03-31T00:00:00",
          "2025-06-30T00:00:00",
          "2025-06-30T00:00:00"
         ],
         "y": [
          44.734,
          19.822,
          21.138,
          65.872,
          20.951,
          36.46,
          36.46,
          15.509,
          15.509,
          17.007,
          53.467,
          17.007,
          53.467,
          -5.913,
          -5.913,
          17.79,
          17.79,
          11.877,
          11.877,
          33.313,
          33.313,
          21.436,
          21.436,
          26.084,
          26.084,
          56.656,
          56.656,
          30.572,
          30.572,
          30.119,
          86.775,
          30.119,
          86.775,
          38.12,
          38.12,
          49.058,
          87.178,
          87.178,
          49.058,
          38.137,
          38.137,
          125.315,
          125.315,
          55.829,
          55.829,
          102.646,
          102.646,
          46.817,
          46.817,
          164.359,
          61.713,
          61.713,
          164.359,
          43.052,
          84.48,
          41.428,
          79.402,
          163.882,
          67.361,
          113.862,
          181.223,
          109.032,
          245.631,
          136.599
         ]
        },
        {
         "line": {
          "color": "#ff7f0e",
          "width": 3
         },
         "marker": {
          "size": 6
         },
         "mode": "lines+markers",
         "name": "CTRE",
         "type": "scatter",
         "x": [
          "2013-06-30T00:00:00",
          "2013-06-30T00:00:00",
          "2013-09-30T00:00:00",
          "2013-09-30T00:00:00",
          "2014-03-31T00:00:00",
          "2014-06-30T00:00:00",
          "2014-06-30T00:00:00",
          "2014-06-30T00:00:00",
          "2014-06-30T00:00:00",
          "2014-09-30T00:00:00",
          "2014-09-30T00:00:00",
          "2014-09-30T00:00:00",
          "2014-09-30T00:00:00",
          "2014-12-31T00:00:00",
          "2014-12-31T00:00:00",
          "2014-12-31T00:00:00",
          "2015-03-31T00:00:00",
          "2015-03-31T00:00:00",
          "2015-06-30T00:00:00",
          "2015-06-30T00:00:00",
          "2015-06-30T00:00:00",
          "2015-06-30T00:00:00",
          "2015-09-30T00:00:00",
          "2015-09-30T00:00:00",
          "2015-09-30T00:00:00",
          "2015-09-30T00:00:00",
          "2015-12-31T00:00:00",
          "2015-12-31T00:00:00",
          "2015-12-31T00:00:00",
          "2016-03-31T00:00:00",
          "2016-03-31T00:00:00",
          "2016-06-30T00:00:00",
          "2016-06-30T00:00:00",
          "2016-06-30T00:00:00",
          "2016-06-30T00:00:00",
          "2016-09-30T00:00:00",
          "2016-09-30T00:00:00",
          "2016-09-30T00:00:00",
          "2016-09-30T00:00:00",
          "2016-12-31T00:00:00",
          "2016-12-31T00:00:00",
          "2016-12-31T00:00:00",
          "2017-03-31T00:00:00",
          "2017-03-31T00:00:00",
          "2017-06-30T00:00:00",
          "2017-06-30T00:00:00",
          "2017-06-30T00:00:00",
          "2017-06-30T00:00:00",
          "2017-09-30T00:00:00",
          "2017-09-30T00:00:00",
          "2017-09-30T00:00:00",
          "2017-09-30T00:00:00",
          "2017-12-31T00:00:00",
          "2017-12-31T00:00:00",
          "2017-12-31T00:00:00",
          "2018-03-31T00:00:00",
          "2018-03-31T00:00:00",
          "2018-03-31T00:00:00",
          "2018-03-31T00:00:00",
          "2018-06-30T00:00:00",
          "2018-06-30T00:00:00",
          "2018-06-30T00:00:00",
          "2018-06-30T00:00:00",
          "2018-06-30T00:00:00",
          "2018-09-30T00:00:00",
          "2018-09-30T00:00:00",
          "2018-09-30T00:00:00",
          "2018-09-30T00:00:00",
          "2019-03-31T00:00:00",
          "2019-03-31T00:00:00",
          "2019-03-31T00:00:00",
          "2019-03-31T00:00:00",
          "2019-03-31T00:00:00",
          "2019-03-31T00:00:00",
          "2019-06-30T00:00:00",
          "2019-06-30T00:00:00",
          "2019-06-30T00:00:00",
          "2019-06-30T00:00:00",
          "2019-06-30T00:00:00",
          "2019-06-30T00:00:00",
          "2019-09-30T00:00:00",
          "2019-09-30T00:00:00",
          "2019-09-30T00:00:00",
          "2019-09-30T00:00:00",
          "2020-03-31T00:00:00",
          "2020-03-31T00:00:00",
          "2020-03-31T00:00:00",
          "2020-03-31T00:00:00",
          "2020-03-31T00:00:00",
          "2020-03-31T00:00:00",
          "2020-06-30T00:00:00",
          "2020-06-30T00:00:00",
          "2020-06-30T00:00:00",
          "2020-06-30T00:00:00",
          "2020-06-30T00:00:00",
          "2020-06-30T00:00:00",
          "2020-09-30T00:00:00",
          "2020-09-30T00:00:00",
          "2020-09-30T00:00:00",
          "2020-09-30T00:00:00",
          "2021-03-31T00:00:00",
          "2021-03-31T00:00:00",
          "2021-03-31T00:00:00",
          "2021-03-31T00:00:00",
          "2021-03-31T00:00:00",
          "2021-03-31T00:00:00",
          "2021-06-30T00:00:00",
          "2021-06-30T00:00:00",
          "2021-06-30T00:00:00",
          "2021-06-30T00:00:00",
          "2021-06-30T00:00:00",
          "2021-06-30T00:00:00",
          "2021-09-30T00:00:00",
          "2021-09-30T00:00:00",
          "2021-09-30T00:00:00",
          "2021-09-30T00:00:00",
          "2022-03-31T00:00:00",
          "2022-03-31T00:00:00",
          "2022-03-31T00:00:00",
          "2022-03-31T00:00:00",
          "2022-03-31T00:00:00",
          "2022-06-30T00:00:00",
          "2022-06-30T00:00:00",
          "2022-06-30T00:00:00",
          "2022-06-30T00:00:00",
          "2022-06-30T00:00:00",
          "2022-09-30T00:00:00",
          "2022-09-30T00:00:00",
          "2022-09-30T00:00:00",
          "2022-09-30T00:00:00",
          "2023-03-31T00:00:00",
          "2023-03-31T00:00:00",
          "2023-03-31T00:00:00",
          "2023-06-30T00:00:00",
          "2023-06-30T00:00:00",
          "2023-06-30T00:00:00",
          "2023-06-30T00:00:00",
          "2023-09-30T00:00:00",
          "2023-09-30T00:00:00",
          "2023-09-30T00:00:00",
          "2023-09-30T00:00:00",
          "2024-03-31T00:00:00",
          "2024-03-31T00:00:00",
          "2024-06-30T00:00:00",
          "2024-06-30T00:00:00",
          "2024-06-30T00:00:00",
          "2024-06-30T00:00:00",
          "2024-09-30T00:00:00",
          "2024-09-30T00:00:00",
          "2025-03-31T00:00:00",
          "2025-06-30T00:00:00",
          "2025-06-30T00:00:00"
         ],
         "y": [
          0.541,
          1.066,
          -0.273,
          0.793,
          -0.4,
          -10.74,
          -10.342,
          -10.74,
          -10.342,
          -8.773,
          -8.773,
          1.967,
          1.967,
          -8.143,
          -8.143,
          -8.143,
          2.038,
          2.038,
          4.304,
          4.304,
          2.266,
          2.266,
          5.031,
          0.727,
          0.727,
          5.031,
          10.034,
          10.034,
          10.034,
          5.502,
          5.502,
          13.133,
          13.133,
          7.631,
          7.631,
          7.832,
          20.965,
          7.832,
          20.965,
          29.353,
          29.353,
          29.353,
          10.281,
          10.281,
          2.03,
          12.311,
          12.311,
          2.03,
          23.622,
          23.622,
          11.311,
          11.311,
          25.874,
          25.874,
          25.874,
          14.607,
          14.607,
          14.607,
          14.607,
          13.267,
          13.267,
          27.874,
          27.874,
          13.267,
          42.384,
          42.384,
          14.51,
          14.51,
          16.053,
          16.053,
          16.053,
          16.053,
          16.053,
          16.053,
          19.698,
          35.751,
          19.698,
          19.698,
          35.751,
          19.698,
          -10.054,
          25.697,
          25.697,
          -10.054,
          19.325,
          19.325,
          19.325,
          19.325,
          19.325,
          19.325,
          18.935,
          18.935,
          18.935,
          38.26,
          18.935,
          38.26,
          59.812,
          59.812,
          21.552,
          21.552,
          20.486,
          20.486,
          20.486,
          20.486,
          20.486,
          20.486,
          41.803,
          41.803,
          21.317,
          21.317,
          21.317,
          21.317,
          11.918,
          11.918,
          53.721,
          53.721,
          -43.264,
          -43.264,
          -43.264,
          -43.264,
          -43.264,
          20.669,
          20.669,
          -22.595,
          20.669,
          -22.595,
          -21.886,
          -21.886,
          0.709,
          0.709,
          19.227,
          19.227,
          19.227,
          -0.484,
          18.743,
          18.743,
          -0.484,
          27.439,
          27.439,
          8.696,
          8.696,
          28.746,
          28.746,
          10.758,
          39.504,
          39.504,
          10.758,
          72.945,
          33.441,
          65.802,
          134.347,
          68.545
         ]
        },
        {
         "line": {
          "color": "#2ca02c",
          "width": 3
         },
         "marker": {
          "size": 6
         },
         "mode": "lines+markers",
         "name": "SBRA",
         "type": "scatter",
         "x": [
          "2011-03-31T00:00:00",
          "2011-06-30T00:00:00",
          "2011-06-30T00:00:00",
          "2011-06-30T00:00:00",
          "2011-06-30T00:00:00",
          "2011-09-30T00:00:00",
          "2011-09-30T00:00:00",
          "2011-09-30T00:00:00",
          "2011-09-30T00:00:00",
          "2012-03-31T00:00:00",
          "2012-03-31T00:00:00",
          "2012-06-30T00:00:00",
          "2012-06-30T00:00:00",
          "2012-06-30T00:00:00",
          "2012-06-30T00:00:00",
          "2012-09-30T00:00:00",
          "2012-09-30T00:00:00",
          "2012-09-30T00:00:00",
          "2012-09-30T00:00:00",
          "2013-03-31T00:00:00",
          "2013-03-31T00:00:00",
          "2013-06-30T00:00:00",
          "2013-06-30T00:00:00",
          "2013-06-30T00:00:00",
          "2013-06-30T00:00:00",
          "2013-09-30T00:00:00",
          "2013-09-30T00:00:00",
          "2013-09-30T00:00:00",
          "2013-09-30T00:00:00",
          "2014-03-31T00:00:00",
          "2014-03-31T00:00:00",
          "2014-06-30T00:00:00",
          "2014-06-30T00:00:00",
          "2014-06-30T00:00:00",
          "2014-06-30T00:00:00",
          "2014-09-30T00:00:00",
          "2014-09-30T00:00:00",
          "2014-09-30T00:00:00",
          "2014-09-30T00:00:00",
          "2015-03-31T00:00:00",
          "2015-03-31T00:00:00",
          "2015-06-30T00:00:00",
          "2015-06-30T00:00:00",
          "2015-06-30T00:00:00",
          "2015-06-30T00:00:00",
          "2015-09-30T00:00:00",
          "2015-09-30T00:00:00",
          "2015-09-30T00:00:00",
          "2015-09-30T00:00:00",
          "2016-03-31T00:00:00",
          "2016-03-31T00:00:00",
          "2016-06-30T00:00:00",
          "2016-06-30T00:00:00",
          "2016-06-30T00:00:00",
          "2016-06-30T00:00:00",
          "2016-09-30T00:00:00",
          "2016-09-30T00:00:00",
          "2016-09-30T00:00:00",
          "2016-09-30T00:00:00",
          "2017-03-31T00:00:00",
          "2017-03-31T00:00:00",
          "2017-06-30T00:00:00",
          "2017-06-30T00:00:00",
          "2017-06-30T00:00:00",
          "2017-06-30T00:00:00",
          "2017-09-30T00:00:00",
          "2017-09-30T00:00:00",
          "2017-09-30T00:00:00",
          "2017-09-30T00:00:00",
          "2018-03-31T00:00:00",
          "2018-03-31T00:00:00",
          "2018-06-30T00:00:00",
          "2018-06-30T00:00:00",
          "2018-06-30T00:00:00",
          "2018-06-30T00:00:00",
          "2018-09-30T00:00:00",
          "2018-09-30T00:00:00",
          "2018-09-30T00:00:00",
          "2018-09-30T00:00:00",
          "2019-03-31T00:00:00",
          "2019-06-30T00:00:00",
          "2019-06-30T00:00:00",
          "2019-09-30T00:00:00",
          "2019-09-30T00:00:00",
          "2020-06-30T00:00:00",
          "2020-06-30T00:00:00",
          "2020-09-30T00:00:00",
          "2020-09-30T00:00:00",
          "2021-03-31T00:00:00",
          "2021-06-30T00:00:00",
          "2021-06-30T00:00:00",
          "2021-06-30T00:00:00",
          "2021-06-30T00:00:00",
          "2021-09-30T00:00:00",
          "2021-09-30T00:00:00",
          "2021-09-30T00:00:00",
          "2021-09-30T00:00:00",
          "2022-03-31T00:00:00",
          "2022-03-31T00:00:00",
          "2022-06-30T00:00:00",
          "2022-06-30T00:00:00",
          "2022-06-30T00:00:00",
          "2022-06-30T00:00:00",
          "2022-09-30T00:00:00",
          "2022-09-30T00:00:00",
          "2022-09-30T00:00:00",
          "2022-09-30T00:00:00",
          "2023-03-31T00:00:00",
          "2023-03-31T00:00:00",
          "2023-06-30T00:00:00",
          "2023-06-30T00:00:00",
          "2023-06-30T00:00:00",
          "2023-06-30T00:00:00",
          "2023-09-30T00:00:00",
          "2023-09-30T00:00:00",
          "2023-09-30T00:00:00",
          "2023-09-30T00:00:00",
          "2024-03-31T00:00:00",
          "2024-03-31T00:00:00",
          "2024-06-30T00:00:00",
          "2024-06-30T00:00:00",
          "2024-06-30T00:00:00",
          "2024-06-30T00:00:00",
          "2024-09-30T00:00:00",
          "2024-09-30T00:00:00",
          "2025-03-31T00:00:00",
          "2025-06-30T00:00:00",
          "2025-06-30T00:00:00"
         ],
         "y": [
          1.248,
          2.087,
          2.087,
          3.335,
          3.335,
          2.344,
          2.344,
          5.678,
          5.678,
          4.405,
          4.405,
          10.328,
          10.328,
          5.923,
          5.923,
          5.226,
          5.226,
          15.554,
          15.554,
          9.557,
          9.557,
          -0.662,
          8.895,
          8.895,
          -0.662,
          11.821,
          20.716,
          20.716,
          11.821,
          -7.303,
          -7.303,
          7.498,
          14.801,
          14.801,
          7.498,
          17.204,
          17.204,
          24.702,
          24.702,
          19.45,
          19.45,
          36.285,
          36.285,
          16.835,
          16.835,
          18.061,
          18.061,
          54.346,
          54.346,
          -15.711,
          -15.711,
          37.475,
          37.475,
          21.764,
          21.764,
          25.337,
          25.337,
          47.101,
          47.101,
          18.823,
          18.823,
          20.52,
          20.52,
          39.343,
          39.343,
          15.095,
          15.095,
          54.438,
          54.438,
          62.471,
          62.471,
          263.258,
          263.258,
          200.787,
          200.787,
          298.476,
          298.476,
          35.218,
          35.218,
          -77.704,
          5.973,
          83.677,
          29.255,
          23.282,
          29.623,
          64.84,
          36.46,
          101.3,
          33.447,
          -99.126,
          -99.126,
          -132.573,
          -132.573,
          -88.903,
          -88.903,
          10.223,
          10.223,
          40.602,
          40.602,
          57.407,
          57.407,
          16.805,
          16.805,
          7.343,
          -50.064,
          -50.064,
          7.343,
          -9.487,
          -9.487,
          21.188,
          11.701,
          21.188,
          11.701,
          -15.101,
          -3.4,
          -3.4,
          -15.101,
          26.254,
          26.254,
          23.975,
          50.229,
          50.229,
          23.975,
          80.017,
          29.788,
          40.304,
          105.846,
          65.542
         ]
        }
       ],
       "layout": {
        "height": 500,
        "hovermode": "x unified",
        "template": {
         "data": {
          "bar": [
           {
            "error_x": {
             "color": "#2a3f5f"
            },
            "error_y": {
             "color": "#2a3f5f"
            },
            "marker": {
             "line": {
              "color": "#E5ECF6",
              "width": 0.5
             },
             "pattern": {
              "fillmode": "overlay",
              "size": 10,
              "solidity": 0.2
             }
            },
            "type": "bar"
           }
          ],
          "barpolar": [
           {
            "marker": {
             "line": {
              "color": "#E5ECF6",
              "width": 0.5
             },
             "pattern": {
              "fillmode": "overlay",
              "size": 10,
              "solidity": 0.2
             }
            },
            "type": "barpolar"
           }
          ],
          "carpet": [
           {
            "aaxis": {
             "endlinecolor": "#2a3f5f",
             "gridcolor": "white",
             "linecolor": "white",
             "minorgridcolor": "white",
             "startlinecolor": "#2a3f5f"
            },
            "baxis": {
             "endlinecolor": "#2a3f5f",
             "gridcolor": "white",
             "linecolor": "white",
             "minorgridcolor": "white",
             "startlinecolor": "#2a3f5f"
            },
            "type": "carpet"
           }
          ],
          "choropleth": [
           {
            "colorbar": {
             "outlinewidth": 0,
             "ticks": ""
            },
            "type": "choropleth"
           }
          ],
          "contour": [
           {
            "colorbar": {
             "outlinewidth": 0,
             "ticks": ""
            },
            "colorscale": [
             [
              0,
              "#0d0887"
             ],
             [
              0.1111111111111111,
              "#46039f"
             ],
             [
              0.2222222222222222,
              "#7201a8"
             ],
             [
              0.3333333333333333,
              "#9c179e"
             ],
             [
              0.4444444444444444,
              "#bd3786"
             ],
             [
              0.5555555555555556,
              "#d8576b"
             ],
             [
              0.6666666666666666,
              "#ed7953"
             ],
             [
              0.7777777777777778,
              "#fb9f3a"
             ],
             [
              0.8888888888888888,
              "#fdca26"
             ],
             [
              1,
              "#f0f921"
             ]
            ],
            "type": "contour"
           }
          ],
          "contourcarpet": [
           {
            "colorbar": {
             "outlinewidth": 0,
             "ticks": ""
            },
            "type": "contourcarpet"
           }
          ],
          "heatmap": [
           {
            "colorbar": {
             "outlinewidth": 0,
             "ticks": ""
            },
            "colorscale": [
             [
              0,
              "#0d0887"
             ],
             [
              0.1111111111111111,
              "#46039f"
             ],
             [
              0.2222222222222222,
              "#7201a8"
             ],
             [
              0.3333333333333333,
              "#9c179e"
             ],
             [
              0.4444444444444444,
              "#bd3786"
             ],
             [
              0.5555555555555556,
              "#d8576b"
             ],
             [
              0.6666666666666666,
              "#ed7953"
             ],
             [
              0.7777777777777778,
              "#fb9f3a"
             ],
             [
              0.8888888888888888,
              "#fdca26"
             ],
             [
              1,
              "#f0f921"
             ]
            ],
            "type": "heatmap"
           }
          ],
          "heatmapgl": [
           {
            "colorbar": {
             "outlinewidth": 0,
             "ticks": ""
            },
            "colorscale": [
             [
              0,
              "#0d0887"
             ],
             [
              0.1111111111111111,
              "#46039f"
             ],
             [
              0.2222222222222222,
              "#7201a8"
             ],
             [
              0.3333333333333333,
              "#9c179e"
             ],
             [
              0.4444444444444444,
              "#bd3786"
             ],
             [
              0.5555555555555556,
              "#d8576b"
             ],
             [
              0.6666666666666666,
              "#ed7953"
             ],
             [
              0.7777777777777778,
              "#fb9f3a"
             ],
             [
              0.8888888888888888,
              "#fdca26"
             ],
             [
              1,
              "#f0f921"
             ]
            ],
            "type": "heatmapgl"
           }
          ],
          "histogram": [
           {
            "marker": {
             "pattern": {
              "fillmode": "overlay",
              "size": 10,
              "solidity": 0.2
             }
            },
            "type": "histogram"
           }
          ],
          "histogram2d": [
           {
            "colorbar": {
             "outlinewidth": 0,
             "ticks": ""
            },
            "colorscale": [
             [
              0,
              "#0d0887"
             ],
             [
              0.1111111111111111,
              "#46039f"
             ],
             [
              0.2222222222222222,
              "#7201a8"
             ],
             [
              0.3333333333333333,
              "#9c179e"
             ],
             [
              0.4444444444444444,
              "#bd3786"
             ],
             [
              0.5555555555555556,
              "#d8576b"
             ],
             [
              0.6666666666666666,
              "#ed7953"
             ],
             [
              0.7777777777777778,
              "#fb9f3a"
             ],
             [
              0.8888888888888888,
              "#fdca26"
             ],
             [
              1,
              "#f0f921"
             ]
            ],
            "type": "histogram2d"
           }
          ],
          "histogram2dcontour": [
           {
            "colorbar": {
             "outlinewidth": 0,
             "ticks": ""
            },
            "colorscale": [
             [
              0,
              "#0d0887"
             ],
             [
              0.1111111111111111,
              "#46039f"
             ],
             [
              0.2222222222222222,
              "#7201a8"
             ],
             [
              0.3333333333333333,
              "#9c179e"
             ],
             [
              0.4444444444444444,
              "#bd3786"
             ],
             [
              0.5555555555555556,
              "#d8576b"
             ],
             [
              0.6666666666666666,
              "#ed7953"
             ],
             [
              0.7777777777777778,
              "#fb9f3a"
             ],
             [
              0.8888888888888888,
              "#fdca26"
             ],
             [
              1,
              "#f0f921"
             ]
            ],
            "type": "histogram2dcontour"
           }
          ],
          "mesh3d": [
           {
            "colorbar": {
             "outlinewidth": 0,
             "ticks": ""
            },
            "type": "mesh3d"
           }
          ],
          "parcoords": [
           {
            "line": {
             "colorbar": {
              "outlinewidth": 0,
              "ticks": ""
             }
            },
            "type": "parcoords"
           }
          ],
          "pie": [
           {
            "automargin": true,
            "type": "pie"
           }
          ],
          "scatter": [
           {
            "fillpattern": {
             "fillmode": "overlay",
             "size": 10,
             "solidity": 0.2
            },
            "type": "scatter"
           }
          ],
          "scatter3d": [
           {
            "line": {
             "colorbar": {
              "outlinewidth": 0,
              "ticks": ""
             }
            },
            "marker": {
             "colorbar": {
              "outlinewidth": 0,
              "ticks": ""
             }
            },
            "type": "scatter3d"
           }
          ],
          "scattercarpet": [
           {
            "marker": {
             "colorbar": {
              "outlinewidth": 0,
              "ticks": ""
             }
            },
            "type": "scattercarpet"
           }
          ],
          "scattergeo": [
           {
            "marker": {
             "colorbar": {
              "outlinewidth": 0,
              "ticks": ""
             }
            },
            "type": "scattergeo"
           }
          ],
          "scattergl": [
           {
            "marker": {
             "colorbar": {
              "outlinewidth": 0,
              "ticks": ""
             }
            },
            "type": "scattergl"
           }
          ],
          "scattermapbox": [
           {
            "marker": {
             "colorbar": {
              "outlinewidth": 0,
              "ticks": ""
             }
            },
            "type": "scattermapbox"
           }
          ],
          "scatterpolar": [
           {
            "marker": {
             "colorbar": {
              "outlinewidth": 0,
              "ticks": ""
             }
            },
            "type": "scatterpolar"
           }
          ],
          "scatterpolargl": [
           {
            "marker": {
             "colorbar": {
              "outlinewidth": 0,
              "ticks": ""
             }
            },
            "type": "scatterpolargl"
           }
          ],
          "scatterternary": [
           {
            "marker": {
             "colorbar": {
              "outlinewidth": 0,
              "ticks": ""
             }
            },
            "type": "scatterternary"
           }
          ],
          "surface": [
           {
            "colorbar": {
             "outlinewidth": 0,
             "ticks": ""
            },
            "colorscale": [
             [
              0,
              "#0d0887"
             ],
             [
              0.1111111111111111,
              "#46039f"
             ],
             [
              0.2222222222222222,
              "#7201a8"
             ],
             [
              0.3333333333333333,
              "#9c179e"
             ],
             [
              0.4444444444444444,
              "#bd3786"
             ],
             [
              0.5555555555555556,
              "#d8576b"
             ],
             [
              0.6666666666666666,
              "#ed7953"
             ],
             [
              0.7777777777777778,
              "#fb9f3a"
             ],
             [
              0.8888888888888888,
              "#fdca26"
             ],
             [
              1,
              "#f0f921"
             ]
            ],
            "type": "surface"
           }
          ],
          "table": [
           {
            "cells": {
             "fill": {
              "color": "#EBF0F8"
             },
             "line": {
              "color": "white"
             }
            },
            "header": {
             "fill": {
              "color": "#C8D4E3"
             },
             "line": {
              "color": "white"
             }
            },
            "type": "table"
           }
          ]
         },
         "layout": {
          "annotationdefaults": {
           "arrowcolor": "#2a3f5f",
           "arrowhead": 0,
           "arrowwidth": 1
          },
          "autotypenumbers": "strict",
          "coloraxis": {
           "colorbar": {
            "outlinewidth": 0,
            "ticks": ""
           }
          },
          "colorscale": {
           "diverging": [
            [
             0,
             "#8e0152"
            ],
            [
             0.1,
             "#c51b7d"
            ],
            [
             0.2,
             "#de77ae"
            ],
            [
             0.3,
             "#f1b6da"
            ],
            [
             0.4,
             "#fde0ef"
            ],
            [
             0.5,
             "#f7f7f7"
            ],
            [
             0.6,
             "#e6f5d0"
            ],
            [
             0.7,
             "#b8e186"
            ],
            [
             0.8,
             "#7fbc41"
            ],
            [
             0.9,
             "#4d9221"
            ],
            [
             1,
             "#276419"
            ]
           ],
           "sequential": [
            [
             0,
             "#0d0887"
            ],
            [
             0.1111111111111111,
             "#46039f"
            ],
            [
             0.2222222222222222,
             "#7201a8"
            ],
            [
             0.3333333333333333,
             "#9c179e"
            ],
            [
             0.4444444444444444,
             "#bd3786"
            ],
            [
             0.5555555555555556,
             "#d8576b"
            ],
            [
             0.6666666666666666,
             "#ed7953"
            ],
            [
             0.7777777777777778,
             "#fb9f3a"
            ],
            [
             0.8888888888888888,
             "#fdca26"
            ],
            [
             1,
             "#f0f921"
            ]
           ],
           "sequentialminus": [
            [
             0,
             "#0d0887"
            ],
            [
             0.1111111111111111,
             "#46039f"
            ],
            [
             0.2222222222222222,
             "#7201a8"
            ],
            [
             0.3333333333333333,
             "#9c179e"
            ],
            [
             0.4444444444444444,
             "#bd3786"
            ],
            [
             0.5555555555555556,
             "#d8576b"
            ],
            [
             0.6666666666666666,
             "#ed7953"
            ],
            [
             0.7777777777777778,
             "#fb9f3a"
            ],
            [
             0.8888888888888888,
             "#fdca26"
            ],
            [
             1,
             "#f0f921"
            ]
           ]
          },
          "colorway": [
           "#636efa",
           "#EF553B",
           "#00cc96",
           "#ab63fa",
           "#FFA15A",
           "#19d3f3",
           "#FF6692",
           "#B6E880",
           "#FF97FF",
           "#FECB52"
          ],
          "font": {
           "color": "#2a3f5f"
          },
          "geo": {
           "bgcolor": "white",
           "lakecolor": "white",
           "landcolor": "#E5ECF6",
           "showlakes": true,
           "showland": true,
           "subunitcolor": "white"
          },
          "hoverlabel": {
           "align": "left"
          },
          "hovermode": "closest",
          "mapbox": {
           "style": "light"
          },
          "paper_bgcolor": "white",
          "plot_bgcolor": "#E5ECF6",
          "polar": {
           "angularaxis": {
            "gridcolor": "white",
            "linecolor": "white",
            "ticks": ""
           },
           "bgcolor": "#E5ECF6",
           "radialaxis": {
            "gridcolor": "white",
            "linecolor": "white",
            "ticks": ""
           }
          },
          "scene": {
           "xaxis": {
            "backgroundcolor": "#E5ECF6",
            "gridcolor": "white",
            "gridwidth": 2,
            "linecolor": "white",
            "showbackground": true,
            "ticks": "",
            "zerolinecolor": "white"
           },
           "yaxis": {
            "backgroundcolor": "#E5ECF6",
            "gridcolor": "white",
            "gridwidth": 2,
            "linecolor": "white",
            "showbackground": true,
            "ticks": "",
            "zerolinecolor": "white"
           },
           "zaxis": {
            "backgroundcolor": "#E5ECF6",
            "gridcolor": "white",
            "gridwidth": 2,
            "linecolor": "white",
            "showbackground": true,
            "ticks": "",
            "zerolinecolor": "white"
           }
          },
          "shapedefaults": {
           "line": {
            "color": "#2a3f5f"
           }
          },
          "ternary": {
           "aaxis": {
            "gridcolor": "white",
            "linecolor": "white",
            "ticks": ""
           },
           "baxis": {
            "gridcolor": "white",
            "linecolor": "white",
            "ticks": ""
           },
           "bgcolor": "#E5ECF6",
           "caxis": {
            "gridcolor": "white",
            "linecolor": "white",
            "ticks": ""
           }
          },
          "title": {
           "x": 0.05
          },
          "xaxis": {
           "automargin": true,
           "gridcolor": "white",
           "linecolor": "white",
           "ticks": "",
           "title": {
            "standoff": 15
           },
           "zerolinecolor": "white",
           "zerolinewidth": 2
          },
          "yaxis": {
           "automargin": true,
           "gridcolor": "white",
           "linecolor": "white",
           "ticks": "",
           "title": {
            "standoff": 15
           },
           "zerolinecolor": "white",
           "zerolinewidth": 2
          }
         }
        },
        "title": {
         "text": "Quarterly Net Income Trends"
        },
        "xaxis": {
         "title": {
          "text": "Quarter End Date"
         }
        },
        "yaxis": {
         "title": {
          "text": "Net Income (Millions USD)"
         }
        }
       }
      }
     },
     "metadata": {},
     "output_type": "display_data"
    }
   ],
   "source": [
    "# Compare net income trends\n",
    "fig = go.Figure()\n",
    "\n",
    "for reit in reits:\n",
    "    ni_df = reit_data[reit]['netincomeloss']\n",
    "    quarterly = ni_df[ni_df['fp'].str.startswith('Q')].copy()\n",
    "    quarterly = quarterly.sort_values('end')\n",
    "    \n",
    "    fig.add_trace(go.Scatter(\n",
    "        x=quarterly['end'],\n",
    "        y=quarterly['val'] / 1e6,\n",
    "        mode='lines+markers',\n",
    "        name=reit.upper(),\n",
    "        line=dict(width=3, color=colors[reit]),\n",
    "        marker=dict(size=6)\n",
    "    ))\n",
    "\n",
    "fig.update_layout(\n",
    "    title='Quarterly Net Income Trends',\n",
    "    xaxis_title='Quarter End Date',\n",
    "    yaxis_title='Net Income (Millions USD)',\n",
    "    hovermode='x unified',\n",
    "    height=500\n",
    ")\n",
    "\n",
    "fig.show()"
   ]
  },
  {
   "cell_type": "code",
   "execution_count": 9,
   "metadata": {},
   "outputs": [
    {
     "data": {
      "text/html": [
       "<div>\n",
       "<style scoped>\n",
       "    .dataframe tbody tr th:only-of-type {\n",
       "        vertical-align: middle;\n",
       "    }\n",
       "\n",
       "    .dataframe tbody tr th {\n",
       "        vertical-align: top;\n",
       "    }\n",
       "\n",
       "    .dataframe thead th {\n",
       "        text-align: right;\n",
       "    }\n",
       "</style>\n",
       "<table border=\"1\" class=\"dataframe\">\n",
       "  <thead>\n",
       "    <tr style=\"text-align: right;\">\n",
       "      <th></th>\n",
       "      <th>REIT</th>\n",
       "      <th>TTM Net Income ($M)</th>\n",
       "      <th>Net Margin (%)</th>\n",
       "      <th>Operating Margin (%)</th>\n",
       "      <th>ROE (%)</th>\n",
       "      <th>ROA (%)</th>\n",
       "    </tr>\n",
       "  </thead>\n",
       "  <tbody>\n",
       "    <tr>\n",
       "      <th>0</th>\n",
       "      <td>OHI</td>\n",
       "      <td>672.49</td>\n",
       "      <td>48.22</td>\n",
       "      <td>49.20</td>\n",
       "      <td>13.48</td>\n",
       "      <td>6.38</td>\n",
       "    </tr>\n",
       "    <tr>\n",
       "      <th>1</th>\n",
       "      <td>CTRE</td>\n",
       "      <td>341.64</td>\n",
       "      <td>54.44</td>\n",
       "      <td>NaN</td>\n",
       "      <td>10.35</td>\n",
       "      <td>7.34</td>\n",
       "    </tr>\n",
       "    <tr>\n",
       "      <th>2</th>\n",
       "      <td>SBRA</td>\n",
       "      <td>241.48</td>\n",
       "      <td>26.15</td>\n",
       "      <td>NaN</td>\n",
       "      <td>8.91</td>\n",
       "      <td>4.53</td>\n",
       "    </tr>\n",
       "  </tbody>\n",
       "</table>\n",
       "</div>"
      ],
      "text/plain": [
       "   REIT  TTM Net Income ($M)  Net Margin (%)  Operating Margin (%)  ROE (%)  \\\n",
       "0   OHI               672.49           48.22                 49.20    13.48   \n",
       "1  CTRE               341.64           54.44                   NaN    10.35   \n",
       "2  SBRA               241.48           26.15                   NaN     8.91   \n",
       "\n",
       "   ROA (%)  \n",
       "0     6.38  \n",
       "1     7.34  \n",
       "2     4.53  "
      ]
     },
     "execution_count": 9,
     "metadata": {},
     "output_type": "execute_result"
    }
   ],
   "source": [
    "# Calculate profit margins and profitability metrics\n",
    "profitability_analysis = []\n",
    "\n",
    "for reit in reits:\n",
    "    # Get latest TTM revenue\n",
    "    rev_df = reit_data[reit]['revenues']\n",
    "    quarterly_rev = rev_df[rev_df['fp'].str.startswith('Q')].copy()\n",
    "    quarterly_rev = quarterly_rev.sort_values('end', ascending=False)\n",
    "    \n",
    "    # Get latest TTM net income\n",
    "    ni_df = reit_data[reit]['netincomeloss']\n",
    "    quarterly_ni = ni_df[ni_df['fp'].str.startswith('Q')].copy()\n",
    "    quarterly_ni = quarterly_ni.sort_values('end', ascending=False)\n",
    "    \n",
    "    # Get latest operating income\n",
    "    oi_df = reit_data[reit]['operatingincomeloss']\n",
    "    quarterly_oi = oi_df[oi_df['fp'].str.startswith('Q')].copy() if len(oi_df) > 0 else pd.DataFrame()\n",
    "    \n",
    "    if len(quarterly_rev) >= 4 and len(quarterly_ni) >= 4:\n",
    "        ttm_revenue = quarterly_rev.iloc[0:4]['val'].sum()\n",
    "        ttm_net_income = quarterly_ni.iloc[0:4]['val'].sum()\n",
    "        \n",
    "        # Calculate margins\n",
    "        net_margin = (ttm_net_income / ttm_revenue) * 100\n",
    "        \n",
    "        # Operating margin (if available)\n",
    "        if len(quarterly_oi) >= 4:\n",
    "            quarterly_oi = quarterly_oi.sort_values('end', ascending=False)\n",
    "            ttm_operating_income = quarterly_oi.iloc[0:4]['val'].sum()\n",
    "            operating_margin = (ttm_operating_income / ttm_revenue) * 100\n",
    "        else:\n",
    "            operating_margin = None\n",
    "        \n",
    "        # Get equity for ROE calculation\n",
    "        equity_df = reit_data[reit]['stockholdersequity']\n",
    "        if len(equity_df) > 0:\n",
    "            latest_equity = equity_df.iloc[0]['val']\n",
    "            roe = (ttm_net_income / latest_equity) * 100\n",
    "        else:\n",
    "            roe = None\n",
    "        \n",
    "        # Get assets for ROA calculation\n",
    "        assets_df = reit_data[reit]['assets']\n",
    "        if len(assets_df) > 0:\n",
    "            latest_assets = assets_df.iloc[0]['val']\n",
    "            roa = (ttm_net_income / latest_assets) * 100\n",
    "        else:\n",
    "            roa = None\n",
    "        \n",
    "        profitability_analysis.append({\n",
    "            'REIT': reit.upper(),\n",
    "            'TTM Net Income ($M)': ttm_net_income / 1e6,\n",
    "            'Net Margin (%)': net_margin,\n",
    "            'Operating Margin (%)': operating_margin,\n",
    "            'ROE (%)': roe,\n",
    "            'ROA (%)': roa\n",
    "        })\n",
    "\n",
    "profit_df = pd.DataFrame(profitability_analysis)\n",
    "profit_df"
   ]
  },
  {
   "cell_type": "code",
   "execution_count": 10,
   "metadata": {},
   "outputs": [
    {
     "data": {
      "application/vnd.plotly.v1+json": {
       "config": {
        "plotlyServerURL": "https://plot.ly"
       },
       "data": [
        {
         "marker": {
          "color": "#1f77b4"
         },
         "showlegend": false,
         "type": "bar",
         "x": [
          "OHI",
          "CTRE",
          "SBRA"
         ],
         "xaxis": "x",
         "y": [
          48.220290977405874,
          54.44255340848607,
          26.15154859230204
         ],
         "yaxis": "y"
        },
        {
         "marker": {
          "color": "#ff7f0e"
         },
         "showlegend": false,
         "type": "bar",
         "x": [
          "OHI",
          "CTRE",
          "SBRA"
         ],
         "xaxis": "x2",
         "y": [
          49.19554570811911,
          null,
          null
         ],
         "yaxis": "y2"
        },
        {
         "marker": {
          "color": "#2ca02c"
         },
         "showlegend": false,
         "type": "bar",
         "x": [
          "OHI",
          "CTRE",
          "SBRA"
         ],
         "xaxis": "x3",
         "y": [
          13.48125422363584,
          10.351028258474694,
          8.905820980016484
         ],
         "yaxis": "y3"
        },
        {
         "marker": {
          "color": "#d62728"
         },
         "showlegend": false,
         "type": "bar",
         "x": [
          "OHI",
          "CTRE",
          "SBRA"
         ],
         "xaxis": "x4",
         "y": [
          6.376395300193163,
          7.336770656095708,
          4.5322848342444635
         ],
         "yaxis": "y4"
        }
       ],
       "layout": {
        "annotations": [
         {
          "font": {
           "size": 16
          },
          "showarrow": false,
          "text": "Net Margin",
          "x": 0.225,
          "xanchor": "center",
          "xref": "paper",
          "y": 1,
          "yanchor": "bottom",
          "yref": "paper"
         },
         {
          "font": {
           "size": 16
          },
          "showarrow": false,
          "text": "Operating Margin",
          "x": 0.775,
          "xanchor": "center",
          "xref": "paper",
          "y": 1,
          "yanchor": "bottom",
          "yref": "paper"
         },
         {
          "font": {
           "size": 16
          },
          "showarrow": false,
          "text": "Return on Equity (ROE)",
          "x": 0.225,
          "xanchor": "center",
          "xref": "paper",
          "y": 0.375,
          "yanchor": "bottom",
          "yref": "paper"
         },
         {
          "font": {
           "size": 16
          },
          "showarrow": false,
          "text": "Return on Assets (ROA)",
          "x": 0.775,
          "xanchor": "center",
          "xref": "paper",
          "y": 0.375,
          "yanchor": "bottom",
          "yref": "paper"
         }
        ],
        "height": 600,
        "template": {
         "data": {
          "bar": [
           {
            "error_x": {
             "color": "#2a3f5f"
            },
            "error_y": {
             "color": "#2a3f5f"
            },
            "marker": {
             "line": {
              "color": "#E5ECF6",
              "width": 0.5
             },
             "pattern": {
              "fillmode": "overlay",
              "size": 10,
              "solidity": 0.2
             }
            },
            "type": "bar"
           }
          ],
          "barpolar": [
           {
            "marker": {
             "line": {
              "color": "#E5ECF6",
              "width": 0.5
             },
             "pattern": {
              "fillmode": "overlay",
              "size": 10,
              "solidity": 0.2
             }
            },
            "type": "barpolar"
           }
          ],
          "carpet": [
           {
            "aaxis": {
             "endlinecolor": "#2a3f5f",
             "gridcolor": "white",
             "linecolor": "white",
             "minorgridcolor": "white",
             "startlinecolor": "#2a3f5f"
            },
            "baxis": {
             "endlinecolor": "#2a3f5f",
             "gridcolor": "white",
             "linecolor": "white",
             "minorgridcolor": "white",
             "startlinecolor": "#2a3f5f"
            },
            "type": "carpet"
           }
          ],
          "choropleth": [
           {
            "colorbar": {
             "outlinewidth": 0,
             "ticks": ""
            },
            "type": "choropleth"
           }
          ],
          "contour": [
           {
            "colorbar": {
             "outlinewidth": 0,
             "ticks": ""
            },
            "colorscale": [
             [
              0,
              "#0d0887"
             ],
             [
              0.1111111111111111,
              "#46039f"
             ],
             [
              0.2222222222222222,
              "#7201a8"
             ],
             [
              0.3333333333333333,
              "#9c179e"
             ],
             [
              0.4444444444444444,
              "#bd3786"
             ],
             [
              0.5555555555555556,
              "#d8576b"
             ],
             [
              0.6666666666666666,
              "#ed7953"
             ],
             [
              0.7777777777777778,
              "#fb9f3a"
             ],
             [
              0.8888888888888888,
              "#fdca26"
             ],
             [
              1,
              "#f0f921"
             ]
            ],
            "type": "contour"
           }
          ],
          "contourcarpet": [
           {
            "colorbar": {
             "outlinewidth": 0,
             "ticks": ""
            },
            "type": "contourcarpet"
           }
          ],
          "heatmap": [
           {
            "colorbar": {
             "outlinewidth": 0,
             "ticks": ""
            },
            "colorscale": [
             [
              0,
              "#0d0887"
             ],
             [
              0.1111111111111111,
              "#46039f"
             ],
             [
              0.2222222222222222,
              "#7201a8"
             ],
             [
              0.3333333333333333,
              "#9c179e"
             ],
             [
              0.4444444444444444,
              "#bd3786"
             ],
             [
              0.5555555555555556,
              "#d8576b"
             ],
             [
              0.6666666666666666,
              "#ed7953"
             ],
             [
              0.7777777777777778,
              "#fb9f3a"
             ],
             [
              0.8888888888888888,
              "#fdca26"
             ],
             [
              1,
              "#f0f921"
             ]
            ],
            "type": "heatmap"
           }
          ],
          "heatmapgl": [
           {
            "colorbar": {
             "outlinewidth": 0,
             "ticks": ""
            },
            "colorscale": [
             [
              0,
              "#0d0887"
             ],
             [
              0.1111111111111111,
              "#46039f"
             ],
             [
              0.2222222222222222,
              "#7201a8"
             ],
             [
              0.3333333333333333,
              "#9c179e"
             ],
             [
              0.4444444444444444,
              "#bd3786"
             ],
             [
              0.5555555555555556,
              "#d8576b"
             ],
             [
              0.6666666666666666,
              "#ed7953"
             ],
             [
              0.7777777777777778,
              "#fb9f3a"
             ],
             [
              0.8888888888888888,
              "#fdca26"
             ],
             [
              1,
              "#f0f921"
             ]
            ],
            "type": "heatmapgl"
           }
          ],
          "histogram": [
           {
            "marker": {
             "pattern": {
              "fillmode": "overlay",
              "size": 10,
              "solidity": 0.2
             }
            },
            "type": "histogram"
           }
          ],
          "histogram2d": [
           {
            "colorbar": {
             "outlinewidth": 0,
             "ticks": ""
            },
            "colorscale": [
             [
              0,
              "#0d0887"
             ],
             [
              0.1111111111111111,
              "#46039f"
             ],
             [
              0.2222222222222222,
              "#7201a8"
             ],
             [
              0.3333333333333333,
              "#9c179e"
             ],
             [
              0.4444444444444444,
              "#bd3786"
             ],
             [
              0.5555555555555556,
              "#d8576b"
             ],
             [
              0.6666666666666666,
              "#ed7953"
             ],
             [
              0.7777777777777778,
              "#fb9f3a"
             ],
             [
              0.8888888888888888,
              "#fdca26"
             ],
             [
              1,
              "#f0f921"
             ]
            ],
            "type": "histogram2d"
           }
          ],
          "histogram2dcontour": [
           {
            "colorbar": {
             "outlinewidth": 0,
             "ticks": ""
            },
            "colorscale": [
             [
              0,
              "#0d0887"
             ],
             [
              0.1111111111111111,
              "#46039f"
             ],
             [
              0.2222222222222222,
              "#7201a8"
             ],
             [
              0.3333333333333333,
              "#9c179e"
             ],
             [
              0.4444444444444444,
              "#bd3786"
             ],
             [
              0.5555555555555556,
              "#d8576b"
             ],
             [
              0.6666666666666666,
              "#ed7953"
             ],
             [
              0.7777777777777778,
              "#fb9f3a"
             ],
             [
              0.8888888888888888,
              "#fdca26"
             ],
             [
              1,
              "#f0f921"
             ]
            ],
            "type": "histogram2dcontour"
           }
          ],
          "mesh3d": [
           {
            "colorbar": {
             "outlinewidth": 0,
             "ticks": ""
            },
            "type": "mesh3d"
           }
          ],
          "parcoords": [
           {
            "line": {
             "colorbar": {
              "outlinewidth": 0,
              "ticks": ""
             }
            },
            "type": "parcoords"
           }
          ],
          "pie": [
           {
            "automargin": true,
            "type": "pie"
           }
          ],
          "scatter": [
           {
            "fillpattern": {
             "fillmode": "overlay",
             "size": 10,
             "solidity": 0.2
            },
            "type": "scatter"
           }
          ],
          "scatter3d": [
           {
            "line": {
             "colorbar": {
              "outlinewidth": 0,
              "ticks": ""
             }
            },
            "marker": {
             "colorbar": {
              "outlinewidth": 0,
              "ticks": ""
             }
            },
            "type": "scatter3d"
           }
          ],
          "scattercarpet": [
           {
            "marker": {
             "colorbar": {
              "outlinewidth": 0,
              "ticks": ""
             }
            },
            "type": "scattercarpet"
           }
          ],
          "scattergeo": [
           {
            "marker": {
             "colorbar": {
              "outlinewidth": 0,
              "ticks": ""
             }
            },
            "type": "scattergeo"
           }
          ],
          "scattergl": [
           {
            "marker": {
             "colorbar": {
              "outlinewidth": 0,
              "ticks": ""
             }
            },
            "type": "scattergl"
           }
          ],
          "scattermapbox": [
           {
            "marker": {
             "colorbar": {
              "outlinewidth": 0,
              "ticks": ""
             }
            },
            "type": "scattermapbox"
           }
          ],
          "scatterpolar": [
           {
            "marker": {
             "colorbar": {
              "outlinewidth": 0,
              "ticks": ""
             }
            },
            "type": "scatterpolar"
           }
          ],
          "scatterpolargl": [
           {
            "marker": {
             "colorbar": {
              "outlinewidth": 0,
              "ticks": ""
             }
            },
            "type": "scatterpolargl"
           }
          ],
          "scatterternary": [
           {
            "marker": {
             "colorbar": {
              "outlinewidth": 0,
              "ticks": ""
             }
            },
            "type": "scatterternary"
           }
          ],
          "surface": [
           {
            "colorbar": {
             "outlinewidth": 0,
             "ticks": ""
            },
            "colorscale": [
             [
              0,
              "#0d0887"
             ],
             [
              0.1111111111111111,
              "#46039f"
             ],
             [
              0.2222222222222222,
              "#7201a8"
             ],
             [
              0.3333333333333333,
              "#9c179e"
             ],
             [
              0.4444444444444444,
              "#bd3786"
             ],
             [
              0.5555555555555556,
              "#d8576b"
             ],
             [
              0.6666666666666666,
              "#ed7953"
             ],
             [
              0.7777777777777778,
              "#fb9f3a"
             ],
             [
              0.8888888888888888,
              "#fdca26"
             ],
             [
              1,
              "#f0f921"
             ]
            ],
            "type": "surface"
           }
          ],
          "table": [
           {
            "cells": {
             "fill": {
              "color": "#EBF0F8"
             },
             "line": {
              "color": "white"
             }
            },
            "header": {
             "fill": {
              "color": "#C8D4E3"
             },
             "line": {
              "color": "white"
             }
            },
            "type": "table"
           }
          ]
         },
         "layout": {
          "annotationdefaults": {
           "arrowcolor": "#2a3f5f",
           "arrowhead": 0,
           "arrowwidth": 1
          },
          "autotypenumbers": "strict",
          "coloraxis": {
           "colorbar": {
            "outlinewidth": 0,
            "ticks": ""
           }
          },
          "colorscale": {
           "diverging": [
            [
             0,
             "#8e0152"
            ],
            [
             0.1,
             "#c51b7d"
            ],
            [
             0.2,
             "#de77ae"
            ],
            [
             0.3,
             "#f1b6da"
            ],
            [
             0.4,
             "#fde0ef"
            ],
            [
             0.5,
             "#f7f7f7"
            ],
            [
             0.6,
             "#e6f5d0"
            ],
            [
             0.7,
             "#b8e186"
            ],
            [
             0.8,
             "#7fbc41"
            ],
            [
             0.9,
             "#4d9221"
            ],
            [
             1,
             "#276419"
            ]
           ],
           "sequential": [
            [
             0,
             "#0d0887"
            ],
            [
             0.1111111111111111,
             "#46039f"
            ],
            [
             0.2222222222222222,
             "#7201a8"
            ],
            [
             0.3333333333333333,
             "#9c179e"
            ],
            [
             0.4444444444444444,
             "#bd3786"
            ],
            [
             0.5555555555555556,
             "#d8576b"
            ],
            [
             0.6666666666666666,
             "#ed7953"
            ],
            [
             0.7777777777777778,
             "#fb9f3a"
            ],
            [
             0.8888888888888888,
             "#fdca26"
            ],
            [
             1,
             "#f0f921"
            ]
           ],
           "sequentialminus": [
            [
             0,
             "#0d0887"
            ],
            [
             0.1111111111111111,
             "#46039f"
            ],
            [
             0.2222222222222222,
             "#7201a8"
            ],
            [
             0.3333333333333333,
             "#9c179e"
            ],
            [
             0.4444444444444444,
             "#bd3786"
            ],
            [
             0.5555555555555556,
             "#d8576b"
            ],
            [
             0.6666666666666666,
             "#ed7953"
            ],
            [
             0.7777777777777778,
             "#fb9f3a"
            ],
            [
             0.8888888888888888,
             "#fdca26"
            ],
            [
             1,
             "#f0f921"
            ]
           ]
          },
          "colorway": [
           "#636efa",
           "#EF553B",
           "#00cc96",
           "#ab63fa",
           "#FFA15A",
           "#19d3f3",
           "#FF6692",
           "#B6E880",
           "#FF97FF",
           "#FECB52"
          ],
          "font": {
           "color": "#2a3f5f"
          },
          "geo": {
           "bgcolor": "white",
           "lakecolor": "white",
           "landcolor": "#E5ECF6",
           "showlakes": true,
           "showland": true,
           "subunitcolor": "white"
          },
          "hoverlabel": {
           "align": "left"
          },
          "hovermode": "closest",
          "mapbox": {
           "style": "light"
          },
          "paper_bgcolor": "white",
          "plot_bgcolor": "#E5ECF6",
          "polar": {
           "angularaxis": {
            "gridcolor": "white",
            "linecolor": "white",
            "ticks": ""
           },
           "bgcolor": "#E5ECF6",
           "radialaxis": {
            "gridcolor": "white",
            "linecolor": "white",
            "ticks": ""
           }
          },
          "scene": {
           "xaxis": {
            "backgroundcolor": "#E5ECF6",
            "gridcolor": "white",
            "gridwidth": 2,
            "linecolor": "white",
            "showbackground": true,
            "ticks": "",
            "zerolinecolor": "white"
           },
           "yaxis": {
            "backgroundcolor": "#E5ECF6",
            "gridcolor": "white",
            "gridwidth": 2,
            "linecolor": "white",
            "showbackground": true,
            "ticks": "",
            "zerolinecolor": "white"
           },
           "zaxis": {
            "backgroundcolor": "#E5ECF6",
            "gridcolor": "white",
            "gridwidth": 2,
            "linecolor": "white",
            "showbackground": true,
            "ticks": "",
            "zerolinecolor": "white"
           }
          },
          "shapedefaults": {
           "line": {
            "color": "#2a3f5f"
           }
          },
          "ternary": {
           "aaxis": {
            "gridcolor": "white",
            "linecolor": "white",
            "ticks": ""
           },
           "baxis": {
            "gridcolor": "white",
            "linecolor": "white",
            "ticks": ""
           },
           "bgcolor": "#E5ECF6",
           "caxis": {
            "gridcolor": "white",
            "linecolor": "white",
            "ticks": ""
           }
          },
          "title": {
           "x": 0.05
          },
          "xaxis": {
           "automargin": true,
           "gridcolor": "white",
           "linecolor": "white",
           "ticks": "",
           "title": {
            "standoff": 15
           },
           "zerolinecolor": "white",
           "zerolinewidth": 2
          },
          "yaxis": {
           "automargin": true,
           "gridcolor": "white",
           "linecolor": "white",
           "ticks": "",
           "title": {
            "standoff": 15
           },
           "zerolinecolor": "white",
           "zerolinewidth": 2
          }
         }
        },
        "title": {
         "text": "Profitability Metrics Comparison"
        },
        "xaxis": {
         "anchor": "y",
         "domain": [
          0,
          0.45
         ]
        },
        "xaxis2": {
         "anchor": "y2",
         "domain": [
          0.55,
          1
         ]
        },
        "xaxis3": {
         "anchor": "y3",
         "domain": [
          0,
          0.45
         ]
        },
        "xaxis4": {
         "anchor": "y4",
         "domain": [
          0.55,
          1
         ]
        },
        "yaxis": {
         "anchor": "x",
         "domain": [
          0.625,
          1
         ],
         "title": {
          "text": "%"
         }
        },
        "yaxis2": {
         "anchor": "x2",
         "domain": [
          0.625,
          1
         ],
         "title": {
          "text": "%"
         }
        },
        "yaxis3": {
         "anchor": "x3",
         "domain": [
          0,
          0.375
         ],
         "title": {
          "text": "%"
         }
        },
        "yaxis4": {
         "anchor": "x4",
         "domain": [
          0,
          0.375
         ],
         "title": {
          "text": "%"
         }
        }
       }
      }
     },
     "metadata": {},
     "output_type": "display_data"
    },
    {
     "name": "stdout",
     "output_type": "stream",
     "text": [
      "\n",
      "📊 Key Insights:\n",
      "Highest Net Margin: CTRE (54.4%)\n",
      "Highest ROE: OHI (13.5%)\n"
     ]
    }
   ],
   "source": [
    "# Visualize profitability metrics\n",
    "fig = make_subplots(\n",
    "    rows=2, cols=2,\n",
    "    subplot_titles=('Net Margin', 'Operating Margin', 'Return on Equity (ROE)', 'Return on Assets (ROA)'),\n",
    "    specs=[[{'type': 'bar'}, {'type': 'bar'}], [{'type': 'bar'}, {'type': 'bar'}]]\n",
    ")\n",
    "\n",
    "# Net Margin\n",
    "fig.add_trace(\n",
    "    go.Bar(x=profit_df['REIT'], y=profit_df['Net Margin (%)'], marker_color='#1f77b4', showlegend=False),\n",
    "    row=1, col=1\n",
    ")\n",
    "\n",
    "# Operating Margin\n",
    "fig.add_trace(\n",
    "    go.Bar(x=profit_df['REIT'], y=profit_df['Operating Margin (%)'], marker_color='#ff7f0e', showlegend=False),\n",
    "    row=1, col=2\n",
    ")\n",
    "\n",
    "# ROE\n",
    "fig.add_trace(\n",
    "    go.Bar(x=profit_df['REIT'], y=profit_df['ROE (%)'], marker_color='#2ca02c', showlegend=False),\n",
    "    row=2, col=1\n",
    ")\n",
    "\n",
    "# ROA\n",
    "fig.add_trace(\n",
    "    go.Bar(x=profit_df['REIT'], y=profit_df['ROA (%)'], marker_color='#d62728', showlegend=False),\n",
    "    row=2, col=2\n",
    ")\n",
    "\n",
    "fig.update_layout(height=600, title_text=\"Profitability Metrics Comparison\")\n",
    "fig.update_yaxes(title_text=\"%\", row=1, col=1)\n",
    "fig.update_yaxes(title_text=\"%\", row=1, col=2)\n",
    "fig.update_yaxes(title_text=\"%\", row=2, col=1)\n",
    "fig.update_yaxes(title_text=\"%\", row=2, col=2)\n",
    "\n",
    "fig.show()\n",
    "\n",
    "# Key insights\n",
    "highest_margin = profit_df.loc[profit_df['Net Margin (%)'].idxmax(), 'REIT']\n",
    "highest_roe = profit_df.loc[profit_df['ROE (%)'].idxmax(), 'REIT']\n",
    "\n",
    "print(f\"\\n📊 Key Insights:\")\n",
    "print(f\"Highest Net Margin: {highest_margin} ({profit_df[profit_df['REIT']==highest_margin]['Net Margin (%)'].values[0]:.1f}%)\")\n",
    "print(f\"Highest ROE: {highest_roe} ({profit_df[profit_df['REIT']==highest_roe]['ROE (%)'].values[0]:.1f}%)\")"
   ]
  },
  {
   "cell_type": "markdown",
   "metadata": {},
   "source": [
    "## 5. Balance Sheet Health\n",
    "\n",
    "Analyze leverage, debt levels, and equity strength."
   ]
  },
  {
   "cell_type": "code",
   "execution_count": 11,
   "metadata": {},
   "outputs": [
    {
     "data": {
      "text/html": [
       "<div>\n",
       "<style scoped>\n",
       "    .dataframe tbody tr th:only-of-type {\n",
       "        vertical-align: middle;\n",
       "    }\n",
       "\n",
       "    .dataframe tbody tr th {\n",
       "        vertical-align: top;\n",
       "    }\n",
       "\n",
       "    .dataframe thead th {\n",
       "        text-align: right;\n",
       "    }\n",
       "</style>\n",
       "<table border=\"1\" class=\"dataframe\">\n",
       "  <thead>\n",
       "    <tr style=\"text-align: right;\">\n",
       "      <th></th>\n",
       "      <th>REIT</th>\n",
       "      <th>Total Assets ($B)</th>\n",
       "      <th>Total Liabilities ($B)</th>\n",
       "      <th>Stockholders Equity ($B)</th>\n",
       "      <th>Long-term Debt ($B)</th>\n",
       "      <th>Debt/Equity Ratio</th>\n",
       "      <th>Debt/Assets (%)</th>\n",
       "      <th>Equity/Assets (%)</th>\n",
       "    </tr>\n",
       "  </thead>\n",
       "  <tbody>\n",
       "    <tr>\n",
       "      <th>0</th>\n",
       "      <td>OHI</td>\n",
       "      <td>10.55</td>\n",
       "      <td>5.36</td>\n",
       "      <td>4.99</td>\n",
       "      <td>5.00</td>\n",
       "      <td>1.00</td>\n",
       "      <td>47.41</td>\n",
       "      <td>47.30</td>\n",
       "    </tr>\n",
       "    <tr>\n",
       "      <th>1</th>\n",
       "      <td>CTRE</td>\n",
       "      <td>4.66</td>\n",
       "      <td>1.33</td>\n",
       "      <td>3.30</td>\n",
       "      <td>1.16</td>\n",
       "      <td>0.35</td>\n",
       "      <td>24.81</td>\n",
       "      <td>70.88</td>\n",
       "    </tr>\n",
       "    <tr>\n",
       "      <th>2</th>\n",
       "      <td>SBRA</td>\n",
       "      <td>5.33</td>\n",
       "      <td>2.62</td>\n",
       "      <td>2.71</td>\n",
       "      <td>2.48</td>\n",
       "      <td>0.91</td>\n",
       "      <td>46.54</td>\n",
       "      <td>50.89</td>\n",
       "    </tr>\n",
       "  </tbody>\n",
       "</table>\n",
       "</div>"
      ],
      "text/plain": [
       "   REIT  Total Assets ($B)  Total Liabilities ($B)  Stockholders Equity ($B)  \\\n",
       "0   OHI              10.55                    5.36                      4.99   \n",
       "1  CTRE               4.66                    1.33                      3.30   \n",
       "2  SBRA               5.33                    2.62                      2.71   \n",
       "\n",
       "   Long-term Debt ($B)  Debt/Equity Ratio  Debt/Assets (%)  Equity/Assets (%)  \n",
       "0                 5.00               1.00            47.41              47.30  \n",
       "1                 1.16               0.35            24.81              70.88  \n",
       "2                 2.48               0.91            46.54              50.89  "
      ]
     },
     "execution_count": 11,
     "metadata": {},
     "output_type": "execute_result"
    }
   ],
   "source": [
    "# Calculate balance sheet metrics\n",
    "balance_sheet_analysis = []\n",
    "\n",
    "for reit in reits:\n",
    "    # Get latest balance sheet items\n",
    "    assets_df = reit_data[reit]['assets']\n",
    "    liabilities_df = reit_data[reit]['liabilities']\n",
    "    equity_df = reit_data[reit]['stockholdersequity']\n",
    "    debt_df = reit_data[reit]['longtermdebt']\n",
    "    \n",
    "    if len(assets_df) > 0 and len(liabilities_df) > 0 and len(equity_df) > 0:\n",
    "        latest_assets = assets_df.iloc[0]['val']\n",
    "        latest_liabilities = liabilities_df.iloc[0]['val']\n",
    "        latest_equity = equity_df.iloc[0]['val']\n",
    "        \n",
    "        if len(debt_df) > 0:\n",
    "            latest_debt = debt_df.iloc[0]['val']\n",
    "        else:\n",
    "            latest_debt = None\n",
    "        \n",
    "        # Calculate ratios\n",
    "        debt_to_equity = (latest_debt / latest_equity) if latest_debt else None\n",
    "        debt_to_assets = (latest_debt / latest_assets) if latest_debt else None\n",
    "        equity_to_assets = (latest_equity / latest_assets)\n",
    "        \n",
    "        balance_sheet_analysis.append({\n",
    "            'REIT': reit.upper(),\n",
    "            'Total Assets ($B)': latest_assets / 1e9,\n",
    "            'Total Liabilities ($B)': latest_liabilities / 1e9,\n",
    "            'Stockholders Equity ($B)': latest_equity / 1e9,\n",
    "            'Long-term Debt ($B)': latest_debt / 1e9 if latest_debt else None,\n",
    "            'Debt/Equity Ratio': debt_to_equity,\n",
    "            'Debt/Assets (%)': debt_to_assets * 100 if debt_to_assets else None,\n",
    "            'Equity/Assets (%)': equity_to_assets * 100\n",
    "        })\n",
    "\n",
    "balance_df = pd.DataFrame(balance_sheet_analysis)\n",
    "balance_df"
   ]
  },
  {
   "cell_type": "code",
   "execution_count": 12,
   "metadata": {},
   "outputs": [
    {
     "data": {
      "application/vnd.plotly.v1+json": {
       "config": {
        "plotlyServerURL": "https://plot.ly"
       },
       "data": [
        {
         "marker": {
          "color": "#d62728"
         },
         "name": "Debt",
         "type": "bar",
         "x": [
          "OHI",
          "CTRE",
          "SBRA"
         ],
         "xaxis": "x",
         "y": [
          5.000433,
          1.15538,
          2.47966
         ],
         "yaxis": "y"
        },
        {
         "marker": {
          "color": "#2ca02c"
         },
         "name": "Equity",
         "type": "bar",
         "x": [
          "OHI",
          "CTRE",
          "SBRA"
         ],
         "xaxis": "x",
         "y": [
          4.988297,
          3.300532,
          2.711485
         ],
         "yaxis": "y"
        },
        {
         "marker": {
          "color": "#ff7f0e"
         },
         "showlegend": false,
         "type": "bar",
         "x": [
          "OHI",
          "CTRE",
          "SBRA"
         ],
         "xaxis": "x2",
         "y": [
          1.0024328944327092,
          0.3500587178067051,
          0.9145025696251317
         ],
         "yaxis": "y2"
        },
        {
         "marker": {
          "color": "#1f77b4"
         },
         "showlegend": false,
         "type": "bar",
         "x": [
          "OHI",
          "CTRE",
          "SBRA"
         ],
         "xaxis": "x3",
         "y": [
          47.41330658695853,
          24.812032820140143,
          46.54019137022787
         ],
         "yaxis": "y3"
        }
       ],
       "layout": {
        "annotations": [
         {
          "font": {
           "size": 16
          },
          "showarrow": false,
          "text": "Capital Structure ($B)",
          "x": 0.14444444444444446,
          "xanchor": "center",
          "xref": "paper",
          "y": 1,
          "yanchor": "bottom",
          "yref": "paper"
         },
         {
          "font": {
           "size": 16
          },
          "showarrow": false,
          "text": "Debt/Equity Ratio",
          "x": 0.5,
          "xanchor": "center",
          "xref": "paper",
          "y": 1,
          "yanchor": "bottom",
          "yref": "paper"
         },
         {
          "font": {
           "size": 16
          },
          "showarrow": false,
          "text": "Leverage (Debt/Assets)",
          "x": 0.8555555555555556,
          "xanchor": "center",
          "xref": "paper",
          "y": 1,
          "yanchor": "bottom",
          "yref": "paper"
         }
        ],
        "barmode": "stack",
        "height": 400,
        "template": {
         "data": {
          "bar": [
           {
            "error_x": {
             "color": "#2a3f5f"
            },
            "error_y": {
             "color": "#2a3f5f"
            },
            "marker": {
             "line": {
              "color": "#E5ECF6",
              "width": 0.5
             },
             "pattern": {
              "fillmode": "overlay",
              "size": 10,
              "solidity": 0.2
             }
            },
            "type": "bar"
           }
          ],
          "barpolar": [
           {
            "marker": {
             "line": {
              "color": "#E5ECF6",
              "width": 0.5
             },
             "pattern": {
              "fillmode": "overlay",
              "size": 10,
              "solidity": 0.2
             }
            },
            "type": "barpolar"
           }
          ],
          "carpet": [
           {
            "aaxis": {
             "endlinecolor": "#2a3f5f",
             "gridcolor": "white",
             "linecolor": "white",
             "minorgridcolor": "white",
             "startlinecolor": "#2a3f5f"
            },
            "baxis": {
             "endlinecolor": "#2a3f5f",
             "gridcolor": "white",
             "linecolor": "white",
             "minorgridcolor": "white",
             "startlinecolor": "#2a3f5f"
            },
            "type": "carpet"
           }
          ],
          "choropleth": [
           {
            "colorbar": {
             "outlinewidth": 0,
             "ticks": ""
            },
            "type": "choropleth"
           }
          ],
          "contour": [
           {
            "colorbar": {
             "outlinewidth": 0,
             "ticks": ""
            },
            "colorscale": [
             [
              0,
              "#0d0887"
             ],
             [
              0.1111111111111111,
              "#46039f"
             ],
             [
              0.2222222222222222,
              "#7201a8"
             ],
             [
              0.3333333333333333,
              "#9c179e"
             ],
             [
              0.4444444444444444,
              "#bd3786"
             ],
             [
              0.5555555555555556,
              "#d8576b"
             ],
             [
              0.6666666666666666,
              "#ed7953"
             ],
             [
              0.7777777777777778,
              "#fb9f3a"
             ],
             [
              0.8888888888888888,
              "#fdca26"
             ],
             [
              1,
              "#f0f921"
             ]
            ],
            "type": "contour"
           }
          ],
          "contourcarpet": [
           {
            "colorbar": {
             "outlinewidth": 0,
             "ticks": ""
            },
            "type": "contourcarpet"
           }
          ],
          "heatmap": [
           {
            "colorbar": {
             "outlinewidth": 0,
             "ticks": ""
            },
            "colorscale": [
             [
              0,
              "#0d0887"
             ],
             [
              0.1111111111111111,
              "#46039f"
             ],
             [
              0.2222222222222222,
              "#7201a8"
             ],
             [
              0.3333333333333333,
              "#9c179e"
             ],
             [
              0.4444444444444444,
              "#bd3786"
             ],
             [
              0.5555555555555556,
              "#d8576b"
             ],
             [
              0.6666666666666666,
              "#ed7953"
             ],
             [
              0.7777777777777778,
              "#fb9f3a"
             ],
             [
              0.8888888888888888,
              "#fdca26"
             ],
             [
              1,
              "#f0f921"
             ]
            ],
            "type": "heatmap"
           }
          ],
          "heatmapgl": [
           {
            "colorbar": {
             "outlinewidth": 0,
             "ticks": ""
            },
            "colorscale": [
             [
              0,
              "#0d0887"
             ],
             [
              0.1111111111111111,
              "#46039f"
             ],
             [
              0.2222222222222222,
              "#7201a8"
             ],
             [
              0.3333333333333333,
              "#9c179e"
             ],
             [
              0.4444444444444444,
              "#bd3786"
             ],
             [
              0.5555555555555556,
              "#d8576b"
             ],
             [
              0.6666666666666666,
              "#ed7953"
             ],
             [
              0.7777777777777778,
              "#fb9f3a"
             ],
             [
              0.8888888888888888,
              "#fdca26"
             ],
             [
              1,
              "#f0f921"
             ]
            ],
            "type": "heatmapgl"
           }
          ],
          "histogram": [
           {
            "marker": {
             "pattern": {
              "fillmode": "overlay",
              "size": 10,
              "solidity": 0.2
             }
            },
            "type": "histogram"
           }
          ],
          "histogram2d": [
           {
            "colorbar": {
             "outlinewidth": 0,
             "ticks": ""
            },
            "colorscale": [
             [
              0,
              "#0d0887"
             ],
             [
              0.1111111111111111,
              "#46039f"
             ],
             [
              0.2222222222222222,
              "#7201a8"
             ],
             [
              0.3333333333333333,
              "#9c179e"
             ],
             [
              0.4444444444444444,
              "#bd3786"
             ],
             [
              0.5555555555555556,
              "#d8576b"
             ],
             [
              0.6666666666666666,
              "#ed7953"
             ],
             [
              0.7777777777777778,
              "#fb9f3a"
             ],
             [
              0.8888888888888888,
              "#fdca26"
             ],
             [
              1,
              "#f0f921"
             ]
            ],
            "type": "histogram2d"
           }
          ],
          "histogram2dcontour": [
           {
            "colorbar": {
             "outlinewidth": 0,
             "ticks": ""
            },
            "colorscale": [
             [
              0,
              "#0d0887"
             ],
             [
              0.1111111111111111,
              "#46039f"
             ],
             [
              0.2222222222222222,
              "#7201a8"
             ],
             [
              0.3333333333333333,
              "#9c179e"
             ],
             [
              0.4444444444444444,
              "#bd3786"
             ],
             [
              0.5555555555555556,
              "#d8576b"
             ],
             [
              0.6666666666666666,
              "#ed7953"
             ],
             [
              0.7777777777777778,
              "#fb9f3a"
             ],
             [
              0.8888888888888888,
              "#fdca26"
             ],
             [
              1,
              "#f0f921"
             ]
            ],
            "type": "histogram2dcontour"
           }
          ],
          "mesh3d": [
           {
            "colorbar": {
             "outlinewidth": 0,
             "ticks": ""
            },
            "type": "mesh3d"
           }
          ],
          "parcoords": [
           {
            "line": {
             "colorbar": {
              "outlinewidth": 0,
              "ticks": ""
             }
            },
            "type": "parcoords"
           }
          ],
          "pie": [
           {
            "automargin": true,
            "type": "pie"
           }
          ],
          "scatter": [
           {
            "fillpattern": {
             "fillmode": "overlay",
             "size": 10,
             "solidity": 0.2
            },
            "type": "scatter"
           }
          ],
          "scatter3d": [
           {
            "line": {
             "colorbar": {
              "outlinewidth": 0,
              "ticks": ""
             }
            },
            "marker": {
             "colorbar": {
              "outlinewidth": 0,
              "ticks": ""
             }
            },
            "type": "scatter3d"
           }
          ],
          "scattercarpet": [
           {
            "marker": {
             "colorbar": {
              "outlinewidth": 0,
              "ticks": ""
             }
            },
            "type": "scattercarpet"
           }
          ],
          "scattergeo": [
           {
            "marker": {
             "colorbar": {
              "outlinewidth": 0,
              "ticks": ""
             }
            },
            "type": "scattergeo"
           }
          ],
          "scattergl": [
           {
            "marker": {
             "colorbar": {
              "outlinewidth": 0,
              "ticks": ""
             }
            },
            "type": "scattergl"
           }
          ],
          "scattermapbox": [
           {
            "marker": {
             "colorbar": {
              "outlinewidth": 0,
              "ticks": ""
             }
            },
            "type": "scattermapbox"
           }
          ],
          "scatterpolar": [
           {
            "marker": {
             "colorbar": {
              "outlinewidth": 0,
              "ticks": ""
             }
            },
            "type": "scatterpolar"
           }
          ],
          "scatterpolargl": [
           {
            "marker": {
             "colorbar": {
              "outlinewidth": 0,
              "ticks": ""
             }
            },
            "type": "scatterpolargl"
           }
          ],
          "scatterternary": [
           {
            "marker": {
             "colorbar": {
              "outlinewidth": 0,
              "ticks": ""
             }
            },
            "type": "scatterternary"
           }
          ],
          "surface": [
           {
            "colorbar": {
             "outlinewidth": 0,
             "ticks": ""
            },
            "colorscale": [
             [
              0,
              "#0d0887"
             ],
             [
              0.1111111111111111,
              "#46039f"
             ],
             [
              0.2222222222222222,
              "#7201a8"
             ],
             [
              0.3333333333333333,
              "#9c179e"
             ],
             [
              0.4444444444444444,
              "#bd3786"
             ],
             [
              0.5555555555555556,
              "#d8576b"
             ],
             [
              0.6666666666666666,
              "#ed7953"
             ],
             [
              0.7777777777777778,
              "#fb9f3a"
             ],
             [
              0.8888888888888888,
              "#fdca26"
             ],
             [
              1,
              "#f0f921"
             ]
            ],
            "type": "surface"
           }
          ],
          "table": [
           {
            "cells": {
             "fill": {
              "color": "#EBF0F8"
             },
             "line": {
              "color": "white"
             }
            },
            "header": {
             "fill": {
              "color": "#C8D4E3"
             },
             "line": {
              "color": "white"
             }
            },
            "type": "table"
           }
          ]
         },
         "layout": {
          "annotationdefaults": {
           "arrowcolor": "#2a3f5f",
           "arrowhead": 0,
           "arrowwidth": 1
          },
          "autotypenumbers": "strict",
          "coloraxis": {
           "colorbar": {
            "outlinewidth": 0,
            "ticks": ""
           }
          },
          "colorscale": {
           "diverging": [
            [
             0,
             "#8e0152"
            ],
            [
             0.1,
             "#c51b7d"
            ],
            [
             0.2,
             "#de77ae"
            ],
            [
             0.3,
             "#f1b6da"
            ],
            [
             0.4,
             "#fde0ef"
            ],
            [
             0.5,
             "#f7f7f7"
            ],
            [
             0.6,
             "#e6f5d0"
            ],
            [
             0.7,
             "#b8e186"
            ],
            [
             0.8,
             "#7fbc41"
            ],
            [
             0.9,
             "#4d9221"
            ],
            [
             1,
             "#276419"
            ]
           ],
           "sequential": [
            [
             0,
             "#0d0887"
            ],
            [
             0.1111111111111111,
             "#46039f"
            ],
            [
             0.2222222222222222,
             "#7201a8"
            ],
            [
             0.3333333333333333,
             "#9c179e"
            ],
            [
             0.4444444444444444,
             "#bd3786"
            ],
            [
             0.5555555555555556,
             "#d8576b"
            ],
            [
             0.6666666666666666,
             "#ed7953"
            ],
            [
             0.7777777777777778,
             "#fb9f3a"
            ],
            [
             0.8888888888888888,
             "#fdca26"
            ],
            [
             1,
             "#f0f921"
            ]
           ],
           "sequentialminus": [
            [
             0,
             "#0d0887"
            ],
            [
             0.1111111111111111,
             "#46039f"
            ],
            [
             0.2222222222222222,
             "#7201a8"
            ],
            [
             0.3333333333333333,
             "#9c179e"
            ],
            [
             0.4444444444444444,
             "#bd3786"
            ],
            [
             0.5555555555555556,
             "#d8576b"
            ],
            [
             0.6666666666666666,
             "#ed7953"
            ],
            [
             0.7777777777777778,
             "#fb9f3a"
            ],
            [
             0.8888888888888888,
             "#fdca26"
            ],
            [
             1,
             "#f0f921"
            ]
           ]
          },
          "colorway": [
           "#636efa",
           "#EF553B",
           "#00cc96",
           "#ab63fa",
           "#FFA15A",
           "#19d3f3",
           "#FF6692",
           "#B6E880",
           "#FF97FF",
           "#FECB52"
          ],
          "font": {
           "color": "#2a3f5f"
          },
          "geo": {
           "bgcolor": "white",
           "lakecolor": "white",
           "landcolor": "#E5ECF6",
           "showlakes": true,
           "showland": true,
           "subunitcolor": "white"
          },
          "hoverlabel": {
           "align": "left"
          },
          "hovermode": "closest",
          "mapbox": {
           "style": "light"
          },
          "paper_bgcolor": "white",
          "plot_bgcolor": "#E5ECF6",
          "polar": {
           "angularaxis": {
            "gridcolor": "white",
            "linecolor": "white",
            "ticks": ""
           },
           "bgcolor": "#E5ECF6",
           "radialaxis": {
            "gridcolor": "white",
            "linecolor": "white",
            "ticks": ""
           }
          },
          "scene": {
           "xaxis": {
            "backgroundcolor": "#E5ECF6",
            "gridcolor": "white",
            "gridwidth": 2,
            "linecolor": "white",
            "showbackground": true,
            "ticks": "",
            "zerolinecolor": "white"
           },
           "yaxis": {
            "backgroundcolor": "#E5ECF6",
            "gridcolor": "white",
            "gridwidth": 2,
            "linecolor": "white",
            "showbackground": true,
            "ticks": "",
            "zerolinecolor": "white"
           },
           "zaxis": {
            "backgroundcolor": "#E5ECF6",
            "gridcolor": "white",
            "gridwidth": 2,
            "linecolor": "white",
            "showbackground": true,
            "ticks": "",
            "zerolinecolor": "white"
           }
          },
          "shapedefaults": {
           "line": {
            "color": "#2a3f5f"
           }
          },
          "ternary": {
           "aaxis": {
            "gridcolor": "white",
            "linecolor": "white",
            "ticks": ""
           },
           "baxis": {
            "gridcolor": "white",
            "linecolor": "white",
            "ticks": ""
           },
           "bgcolor": "#E5ECF6",
           "caxis": {
            "gridcolor": "white",
            "linecolor": "white",
            "ticks": ""
           }
          },
          "title": {
           "x": 0.05
          },
          "xaxis": {
           "automargin": true,
           "gridcolor": "white",
           "linecolor": "white",
           "ticks": "",
           "title": {
            "standoff": 15
           },
           "zerolinecolor": "white",
           "zerolinewidth": 2
          },
          "yaxis": {
           "automargin": true,
           "gridcolor": "white",
           "linecolor": "white",
           "ticks": "",
           "title": {
            "standoff": 15
           },
           "zerolinecolor": "white",
           "zerolinewidth": 2
          }
         }
        },
        "title": {
         "text": "Balance Sheet & Leverage Analysis"
        },
        "xaxis": {
         "anchor": "y",
         "domain": [
          0,
          0.2888888888888889
         ]
        },
        "xaxis2": {
         "anchor": "y2",
         "domain": [
          0.35555555555555557,
          0.6444444444444445
         ]
        },
        "xaxis3": {
         "anchor": "y3",
         "domain": [
          0.7111111111111111,
          1
         ]
        },
        "yaxis": {
         "anchor": "x",
         "domain": [
          0,
          1
         ],
         "title": {
          "text": "Billions USD"
         }
        },
        "yaxis2": {
         "anchor": "x2",
         "domain": [
          0,
          1
         ],
         "title": {
          "text": "Ratio"
         }
        },
        "yaxis3": {
         "anchor": "x3",
         "domain": [
          0,
          1
         ],
         "title": {
          "text": "%"
         }
        }
       }
      }
     },
     "metadata": {},
     "output_type": "display_data"
    },
    {
     "name": "stdout",
     "output_type": "stream",
     "text": [
      "\n",
      "📊 Key Insights:\n",
      "Lowest Leverage (D/E): CTRE\n",
      "Strongest Equity Base: OHI\n",
      "\n",
      "Leverage Comparison:\n",
      "  OHI: 1.00x D/E, 47.4% Debt/Assets\n",
      "  CTRE: 0.35x D/E, 24.8% Debt/Assets\n",
      "  SBRA: 0.91x D/E, 46.5% Debt/Assets\n"
     ]
    }
   ],
   "source": [
    "# Visualize capital structure\n",
    "fig = make_subplots(\n",
    "    rows=1, cols=3,\n",
    "    subplot_titles=('Capital Structure ($B)', 'Debt/Equity Ratio', 'Leverage (Debt/Assets)'),\n",
    "    specs=[[{'type': 'bar'}, {'type': 'bar'}, {'type': 'bar'}]]\n",
    ")\n",
    "\n",
    "# Stacked bar chart for capital structure\n",
    "fig.add_trace(\n",
    "    go.Bar(x=balance_df['REIT'], y=balance_df['Long-term Debt ($B)'], name='Debt', marker_color='#d62728'),\n",
    "    row=1, col=1\n",
    ")\n",
    "fig.add_trace(\n",
    "    go.Bar(x=balance_df['REIT'], y=balance_df['Stockholders Equity ($B)'], name='Equity', marker_color='#2ca02c'),\n",
    "    row=1, col=1\n",
    ")\n",
    "\n",
    "# Debt/Equity ratio\n",
    "fig.add_trace(\n",
    "    go.Bar(x=balance_df['REIT'], y=balance_df['Debt/Equity Ratio'], marker_color='#ff7f0e', showlegend=False),\n",
    "    row=1, col=2\n",
    ")\n",
    "\n",
    "# Debt/Assets percentage\n",
    "fig.add_trace(\n",
    "    go.Bar(x=balance_df['REIT'], y=balance_df['Debt/Assets (%)'], marker_color='#1f77b4', showlegend=False),\n",
    "    row=1, col=3\n",
    ")\n",
    "\n",
    "fig.update_layout(height=400, title_text=\"Balance Sheet & Leverage Analysis\", barmode='stack')\n",
    "fig.update_yaxes(title_text=\"Billions USD\", row=1, col=1)\n",
    "fig.update_yaxes(title_text=\"Ratio\", row=1, col=2)\n",
    "fig.update_yaxes(title_text=\"%\", row=1, col=3)\n",
    "\n",
    "fig.show()\n",
    "\n",
    "# Key insights\n",
    "lowest_leverage = balance_df.loc[balance_df['Debt/Equity Ratio'].idxmin(), 'REIT']\n",
    "highest_equity = balance_df.loc[balance_df['Stockholders Equity ($B)'].idxmax(), 'REIT']\n",
    "\n",
    "print(f\"\\n📊 Key Insights:\")\n",
    "print(f\"Lowest Leverage (D/E): {lowest_leverage}\")\n",
    "print(f\"Strongest Equity Base: {highest_equity}\")\n",
    "print(f\"\\nLeverage Comparison:\")\n",
    "for _, row in balance_df.iterrows():\n",
    "    print(f\"  {row['REIT']}: {row['Debt/Equity Ratio']:.2f}x D/E, {row['Debt/Assets (%)']:.1f}% Debt/Assets\")"
   ]
  },
  {
   "cell_type": "code",
   "execution_count": 13,
   "metadata": {},
   "outputs": [
    {
     "data": {
      "application/vnd.plotly.v1+json": {
       "config": {
        "plotlyServerURL": "https://plot.ly"
       },
       "data": [
        {
         "line": {
          "color": "#1f77b4",
          "width": 3
         },
         "marker": {
          "size": 6
         },
         "mode": "lines+markers",
         "name": "OHI",
         "type": "scatter",
         "x": [
          "2010-12-31T00:00:00",
          "2010-12-31T00:00:00",
          "2010-12-31T00:00:00",
          "2011-06-30T00:00:00",
          "2011-09-30T00:00:00",
          "2011-12-31T00:00:00",
          "2011-12-31T00:00:00",
          "2011-12-31T00:00:00",
          "2011-12-31T00:00:00",
          "2012-03-31T00:00:00",
          "2012-06-30T00:00:00",
          "2012-09-30T00:00:00",
          "2012-12-31T00:00:00",
          "2012-12-31T00:00:00",
          "2012-12-31T00:00:00",
          "2012-12-31T00:00:00",
          "2013-03-31T00:00:00",
          "2013-06-30T00:00:00",
          "2013-09-30T00:00:00",
          "2013-12-31T00:00:00",
          "2013-12-31T00:00:00",
          "2013-12-31T00:00:00",
          "2013-12-31T00:00:00",
          "2013-12-31T00:00:00",
          "2014-03-31T00:00:00",
          "2014-06-30T00:00:00",
          "2014-09-30T00:00:00",
          "2014-12-31T00:00:00",
          "2014-12-31T00:00:00",
          "2014-12-31T00:00:00",
          "2014-12-31T00:00:00",
          "2014-12-31T00:00:00",
          "2015-03-31T00:00:00",
          "2015-06-30T00:00:00",
          "2015-09-30T00:00:00",
          "2015-12-31T00:00:00",
          "2015-12-31T00:00:00",
          "2016-03-31T00:00:00",
          "2016-12-31T00:00:00",
          "2016-12-31T00:00:00",
          "2016-12-31T00:00:00",
          "2016-12-31T00:00:00",
          "2017-03-31T00:00:00",
          "2017-06-30T00:00:00",
          "2017-09-30T00:00:00",
          "2017-12-31T00:00:00",
          "2017-12-31T00:00:00",
          "2017-12-31T00:00:00",
          "2017-12-31T00:00:00",
          "2017-12-31T00:00:00",
          "2018-03-31T00:00:00",
          "2018-06-30T00:00:00",
          "2018-09-30T00:00:00",
          "2018-12-31T00:00:00",
          "2018-12-31T00:00:00",
          "2018-12-31T00:00:00",
          "2018-12-31T00:00:00",
          "2018-12-31T00:00:00",
          "2019-03-31T00:00:00",
          "2019-06-30T00:00:00",
          "2019-09-30T00:00:00",
          "2019-12-31T00:00:00",
          "2019-12-31T00:00:00",
          "2019-12-31T00:00:00",
          "2019-12-31T00:00:00",
          "2019-12-31T00:00:00",
          "2020-03-31T00:00:00",
          "2020-06-30T00:00:00",
          "2020-09-30T00:00:00",
          "2020-12-31T00:00:00",
          "2020-12-31T00:00:00",
          "2020-12-31T00:00:00",
          "2020-12-31T00:00:00",
          "2020-12-31T00:00:00",
          "2021-03-31T00:00:00",
          "2021-06-30T00:00:00",
          "2021-09-30T00:00:00",
          "2021-12-31T00:00:00",
          "2021-12-31T00:00:00",
          "2021-12-31T00:00:00",
          "2021-12-31T00:00:00",
          "2021-12-31T00:00:00",
          "2022-03-31T00:00:00",
          "2022-06-30T00:00:00",
          "2022-09-30T00:00:00",
          "2022-12-31T00:00:00",
          "2022-12-31T00:00:00",
          "2022-12-31T00:00:00",
          "2022-12-31T00:00:00",
          "2022-12-31T00:00:00",
          "2023-03-31T00:00:00",
          "2023-06-30T00:00:00",
          "2023-09-30T00:00:00",
          "2023-12-31T00:00:00",
          "2023-12-31T00:00:00",
          "2023-12-31T00:00:00",
          "2023-12-31T00:00:00",
          "2023-12-31T00:00:00",
          "2024-03-31T00:00:00",
          "2024-06-30T00:00:00",
          "2024-09-30T00:00:00",
          "2024-12-31T00:00:00",
          "2024-12-31T00:00:00",
          "2024-12-31T00:00:00",
          "2025-03-31T00:00:00",
          "2025-06-30T00:00:00"
         ],
         "y": [
          1.176965,
          1.176965,
          1.176965,
          1.227931,
          1.21891,
          1.5514,
          1.5514,
          1.5514,
          1.5514,
          1.530004,
          1.489991,
          1.588539,
          1.824932,
          1.824932,
          1.824932,
          1.824932,
          1.765694,
          1.706665,
          1.700047,
          2.024418,
          2.024418,
          2.024418,
          2.024418,
          2.024418,
          2.091122,
          2.359613,
          2.30138,
          2.378503,
          2.378503,
          2.378503,
          2.378503,
          2.378503,
          2.627376,
          3.447924,
          4.244917,
          3.569086,
          3.569086,
          4.219192,
          4.366854,
          4.366854,
          4.366854,
          4.366854,
          4.300865,
          4.429887,
          4.644528,
          4.572158,
          4.572158,
          4.572158,
          4.572158,
          4.572158,
          4.643679,
          4.448057,
          4.58824,
          4.540622,
          4.540622,
          4.540622,
          4.540622,
          4.540622,
          4.42902,
          4.732784,
          4.619253,
          5.13614,
          5.13614,
          5.13614,
          5.13614,
          5.13614,
          5.519649,
          5.225558,
          5.172961,
          5.169252,
          5.169252,
          5.169252,
          5.169252,
          5.169252,
          5.407885,
          5.272565,
          5.273053,
          5.253536,
          5.253536,
          5.253536,
          5.253536,
          5.253536,
          5.628371,
          5.312046,
          5.284875,
          5.286834,
          5.286834,
          5.286834,
          5.286834,
          5.286834,
          5.287934,
          5.286878,
          5.291272,
          5.067316,
          5.067316,
          5.067316,
          5.067316,
          5.067316,
          5.028152,
          4.660604,
          4.858202,
          4.838859,
          4.838859,
          4.838859,
          4.446263,
          5.000433
         ]
        },
        {
         "line": {
          "color": "#ff7f0e",
          "width": 3
         },
         "marker": {
          "size": 6
         },
         "mode": "lines+markers",
         "name": "CTRE",
         "type": "scatter",
         "x": [
          "2013-12-31T00:00:00",
          "2013-12-31T00:00:00",
          "2013-12-31T00:00:00",
          "2014-06-30T00:00:00",
          "2014-09-30T00:00:00",
          "2014-12-31T00:00:00",
          "2014-12-31T00:00:00",
          "2014-12-31T00:00:00",
          "2014-12-31T00:00:00",
          "2014-12-31T00:00:00",
          "2015-03-31T00:00:00",
          "2015-06-30T00:00:00",
          "2015-09-30T00:00:00",
          "2015-12-31T00:00:00",
          "2015-12-31T00:00:00",
          "2015-12-31T00:00:00",
          "2015-12-31T00:00:00",
          "2015-12-31T00:00:00",
          "2016-03-31T00:00:00",
          "2016-06-30T00:00:00",
          "2016-09-30T00:00:00",
          "2016-12-31T00:00:00",
          "2016-12-31T00:00:00",
          "2016-12-31T00:00:00",
          "2016-12-31T00:00:00",
          "2016-12-31T00:00:00",
          "2017-03-31T00:00:00",
          "2017-06-30T00:00:00",
          "2017-09-30T00:00:00",
          "2017-12-31T00:00:00",
          "2017-12-31T00:00:00",
          "2017-12-31T00:00:00",
          "2017-12-31T00:00:00",
          "2017-12-31T00:00:00",
          "2018-03-31T00:00:00",
          "2018-06-30T00:00:00",
          "2018-09-30T00:00:00",
          "2018-12-31T00:00:00",
          "2018-12-31T00:00:00",
          "2018-12-31T00:00:00",
          "2018-12-31T00:00:00",
          "2018-12-31T00:00:00",
          "2019-03-31T00:00:00",
          "2019-06-30T00:00:00",
          "2019-09-30T00:00:00",
          "2019-12-31T00:00:00",
          "2019-12-31T00:00:00",
          "2019-12-31T00:00:00",
          "2019-12-31T00:00:00",
          "2019-12-31T00:00:00",
          "2020-03-31T00:00:00",
          "2020-06-30T00:00:00",
          "2020-09-30T00:00:00",
          "2020-12-31T00:00:00",
          "2020-12-31T00:00:00",
          "2020-12-31T00:00:00",
          "2020-12-31T00:00:00",
          "2020-12-31T00:00:00",
          "2021-03-31T00:00:00",
          "2021-06-30T00:00:00",
          "2021-09-30T00:00:00",
          "2021-12-31T00:00:00",
          "2021-12-31T00:00:00",
          "2021-12-31T00:00:00",
          "2021-12-31T00:00:00",
          "2021-12-31T00:00:00",
          "2022-03-31T00:00:00",
          "2022-06-30T00:00:00",
          "2022-09-30T00:00:00",
          "2022-12-31T00:00:00",
          "2022-12-31T00:00:00",
          "2022-12-31T00:00:00",
          "2022-12-31T00:00:00",
          "2022-12-31T00:00:00",
          "2023-03-31T00:00:00",
          "2023-06-30T00:00:00",
          "2023-09-30T00:00:00",
          "2023-12-31T00:00:00",
          "2023-12-31T00:00:00",
          "2023-12-31T00:00:00",
          "2023-12-31T00:00:00",
          "2023-12-31T00:00:00",
          "2024-03-31T00:00:00",
          "2024-06-30T00:00:00",
          "2024-09-30T00:00:00",
          "2024-12-31T00:00:00",
          "2024-12-31T00:00:00",
          "2024-12-31T00:00:00",
          "2025-03-31T00:00:00",
          "2025-06-30T00:00:00"
         ],
         "y": [
          0.259307,
          0.259307,
          0.2593,
          0.359504,
          0.358867,
          0.358205,
          0.3582,
          0.3582,
          0.3582,
          0.350773,
          0.3575,
          0.3919,
          0.4007,
          0.393905,
          0.393905,
          0.393905,
          0.393905,
          0.393905,
          0.358856,
          0.422144,
          0.457426,
          0.449716,
          0.449716,
          0.449716,
          0.449716,
          0.449716,
          0.382006,
          0.393512,
          0.488714,
          0.558912,
          0.558912,
          0.558912,
          0.558912,
          0.558912,
          0.594124,
          0.544338,
          0.484551,
          0.489765,
          0.489765,
          0.489765,
          0.489765,
          0.489765,
          0.678897,
          0.53914,
          0.559382,
          0.554624,
          0.554624,
          0.554624,
          0.554624,
          0.554624,
          0.569866,
          0.495109,
          0.495351,
          0.545594,
          0.545594,
          0.545594,
          0.545594,
          0.545594,
          0.665836,
          0.939921,
          0.673147,
          0.673398,
          0.673398,
          0.673398,
          0.673398,
          0.673398,
          0.698673,
          0.798948,
          0.774223,
          0.719498,
          0.719498,
          0.719498,
          0.719498,
          0.719498,
          0.729773,
          0.875048,
          0.595323,
          0.595598,
          0.595598,
          0.595598,
          0.595598,
          0.595598,
          0.595873,
          0.671148,
          0.396705,
          0.396927,
          0.396927,
          0.396927,
          0.822149,
          1.15538
         ]
        },
        {
         "line": {
          "color": "#2ca02c",
          "width": 3
         },
         "marker": {
          "size": 6
         },
         "mode": "lines+markers",
         "name": "SBRA",
         "type": "scatter",
         "x": [
          "2012-06-30T00:00:00",
          "2012-09-30T00:00:00",
          "2012-12-31T00:00:00",
          "2013-03-31T00:00:00",
          "2013-06-30T00:00:00",
          "2013-09-30T00:00:00",
          "2013-12-31T00:00:00",
          "2014-03-31T00:00:00",
          "2014-06-30T00:00:00",
          "2014-09-30T00:00:00",
          "2014-12-31T00:00:00",
          "2015-03-31T00:00:00",
          "2015-06-30T00:00:00",
          "2015-09-30T00:00:00",
          "2015-12-31T00:00:00",
          "2016-03-31T00:00:00",
          "2016-06-30T00:00:00",
          "2016-09-30T00:00:00",
          "2016-12-31T00:00:00",
          "2017-03-31T00:00:00",
          "2017-06-30T00:00:00",
          "2017-09-30T00:00:00",
          "2017-12-31T00:00:00",
          "2018-03-31T00:00:00",
          "2018-06-30T00:00:00",
          "2018-09-30T00:00:00",
          "2018-12-31T00:00:00",
          "2019-03-31T00:00:00",
          "2019-06-30T00:00:00",
          "2019-09-30T00:00:00",
          "2019-12-31T00:00:00",
          "2020-03-31T00:00:00",
          "2020-06-30T00:00:00",
          "2020-09-30T00:00:00",
          "2020-12-31T00:00:00",
          "2021-03-31T00:00:00",
          "2021-06-30T00:00:00",
          "2021-09-30T00:00:00",
          "2021-12-31T00:00:00",
          "2022-03-31T00:00:00",
          "2022-06-30T00:00:00",
          "2022-09-30T00:00:00",
          "2022-12-31T00:00:00",
          "2023-03-31T00:00:00",
          "2023-06-30T00:00:00",
          "2023-09-30T00:00:00",
          "2023-12-31T00:00:00",
          "2024-03-31T00:00:00",
          "2024-06-30T00:00:00",
          "2024-09-30T00:00:00",
          "2024-12-31T00:00:00",
          "2025-03-31T00:00:00",
          "2025-06-30T00:00:00"
         ],
         "y": [
          0.42488,
          0.482025,
          0.569822,
          0.476333,
          0.554379,
          0.553491,
          0.688078,
          0.842106,
          0.6754,
          1.288714,
          1.092022,
          1.049325,
          1.237098,
          1.339721,
          1.39774,
          1.39801,
          1.199881,
          1.187378,
          1.210671,
          1.202376,
          1.220122,
          3.005454,
          3.39449,
          3.361106,
          3.423807,
          3.368594,
          3.232003,
          3.23023,
          2.685967,
          2.603111,
          2.402101,
          2.479346,
          2.455293,
          2.422984,
          2.372374,
          2.281578,
          2.266311,
          2.702087,
          2.394475,
          2.35753,
          2.480221,
          2.446942,
          2.506774,
          2.396618,
          2.420036,
          2.349478,
          2.414103,
          2.463385,
          2.446616,
          2.470207,
          2.417648,
          2.393902,
          2.47966
         ]
        }
       ],
       "layout": {
        "height": 500,
        "hovermode": "x unified",
        "template": {
         "data": {
          "bar": [
           {
            "error_x": {
             "color": "#2a3f5f"
            },
            "error_y": {
             "color": "#2a3f5f"
            },
            "marker": {
             "line": {
              "color": "#E5ECF6",
              "width": 0.5
             },
             "pattern": {
              "fillmode": "overlay",
              "size": 10,
              "solidity": 0.2
             }
            },
            "type": "bar"
           }
          ],
          "barpolar": [
           {
            "marker": {
             "line": {
              "color": "#E5ECF6",
              "width": 0.5
             },
             "pattern": {
              "fillmode": "overlay",
              "size": 10,
              "solidity": 0.2
             }
            },
            "type": "barpolar"
           }
          ],
          "carpet": [
           {
            "aaxis": {
             "endlinecolor": "#2a3f5f",
             "gridcolor": "white",
             "linecolor": "white",
             "minorgridcolor": "white",
             "startlinecolor": "#2a3f5f"
            },
            "baxis": {
             "endlinecolor": "#2a3f5f",
             "gridcolor": "white",
             "linecolor": "white",
             "minorgridcolor": "white",
             "startlinecolor": "#2a3f5f"
            },
            "type": "carpet"
           }
          ],
          "choropleth": [
           {
            "colorbar": {
             "outlinewidth": 0,
             "ticks": ""
            },
            "type": "choropleth"
           }
          ],
          "contour": [
           {
            "colorbar": {
             "outlinewidth": 0,
             "ticks": ""
            },
            "colorscale": [
             [
              0,
              "#0d0887"
             ],
             [
              0.1111111111111111,
              "#46039f"
             ],
             [
              0.2222222222222222,
              "#7201a8"
             ],
             [
              0.3333333333333333,
              "#9c179e"
             ],
             [
              0.4444444444444444,
              "#bd3786"
             ],
             [
              0.5555555555555556,
              "#d8576b"
             ],
             [
              0.6666666666666666,
              "#ed7953"
             ],
             [
              0.7777777777777778,
              "#fb9f3a"
             ],
             [
              0.8888888888888888,
              "#fdca26"
             ],
             [
              1,
              "#f0f921"
             ]
            ],
            "type": "contour"
           }
          ],
          "contourcarpet": [
           {
            "colorbar": {
             "outlinewidth": 0,
             "ticks": ""
            },
            "type": "contourcarpet"
           }
          ],
          "heatmap": [
           {
            "colorbar": {
             "outlinewidth": 0,
             "ticks": ""
            },
            "colorscale": [
             [
              0,
              "#0d0887"
             ],
             [
              0.1111111111111111,
              "#46039f"
             ],
             [
              0.2222222222222222,
              "#7201a8"
             ],
             [
              0.3333333333333333,
              "#9c179e"
             ],
             [
              0.4444444444444444,
              "#bd3786"
             ],
             [
              0.5555555555555556,
              "#d8576b"
             ],
             [
              0.6666666666666666,
              "#ed7953"
             ],
             [
              0.7777777777777778,
              "#fb9f3a"
             ],
             [
              0.8888888888888888,
              "#fdca26"
             ],
             [
              1,
              "#f0f921"
             ]
            ],
            "type": "heatmap"
           }
          ],
          "heatmapgl": [
           {
            "colorbar": {
             "outlinewidth": 0,
             "ticks": ""
            },
            "colorscale": [
             [
              0,
              "#0d0887"
             ],
             [
              0.1111111111111111,
              "#46039f"
             ],
             [
              0.2222222222222222,
              "#7201a8"
             ],
             [
              0.3333333333333333,
              "#9c179e"
             ],
             [
              0.4444444444444444,
              "#bd3786"
             ],
             [
              0.5555555555555556,
              "#d8576b"
             ],
             [
              0.6666666666666666,
              "#ed7953"
             ],
             [
              0.7777777777777778,
              "#fb9f3a"
             ],
             [
              0.8888888888888888,
              "#fdca26"
             ],
             [
              1,
              "#f0f921"
             ]
            ],
            "type": "heatmapgl"
           }
          ],
          "histogram": [
           {
            "marker": {
             "pattern": {
              "fillmode": "overlay",
              "size": 10,
              "solidity": 0.2
             }
            },
            "type": "histogram"
           }
          ],
          "histogram2d": [
           {
            "colorbar": {
             "outlinewidth": 0,
             "ticks": ""
            },
            "colorscale": [
             [
              0,
              "#0d0887"
             ],
             [
              0.1111111111111111,
              "#46039f"
             ],
             [
              0.2222222222222222,
              "#7201a8"
             ],
             [
              0.3333333333333333,
              "#9c179e"
             ],
             [
              0.4444444444444444,
              "#bd3786"
             ],
             [
              0.5555555555555556,
              "#d8576b"
             ],
             [
              0.6666666666666666,
              "#ed7953"
             ],
             [
              0.7777777777777778,
              "#fb9f3a"
             ],
             [
              0.8888888888888888,
              "#fdca26"
             ],
             [
              1,
              "#f0f921"
             ]
            ],
            "type": "histogram2d"
           }
          ],
          "histogram2dcontour": [
           {
            "colorbar": {
             "outlinewidth": 0,
             "ticks": ""
            },
            "colorscale": [
             [
              0,
              "#0d0887"
             ],
             [
              0.1111111111111111,
              "#46039f"
             ],
             [
              0.2222222222222222,
              "#7201a8"
             ],
             [
              0.3333333333333333,
              "#9c179e"
             ],
             [
              0.4444444444444444,
              "#bd3786"
             ],
             [
              0.5555555555555556,
              "#d8576b"
             ],
             [
              0.6666666666666666,
              "#ed7953"
             ],
             [
              0.7777777777777778,
              "#fb9f3a"
             ],
             [
              0.8888888888888888,
              "#fdca26"
             ],
             [
              1,
              "#f0f921"
             ]
            ],
            "type": "histogram2dcontour"
           }
          ],
          "mesh3d": [
           {
            "colorbar": {
             "outlinewidth": 0,
             "ticks": ""
            },
            "type": "mesh3d"
           }
          ],
          "parcoords": [
           {
            "line": {
             "colorbar": {
              "outlinewidth": 0,
              "ticks": ""
             }
            },
            "type": "parcoords"
           }
          ],
          "pie": [
           {
            "automargin": true,
            "type": "pie"
           }
          ],
          "scatter": [
           {
            "fillpattern": {
             "fillmode": "overlay",
             "size": 10,
             "solidity": 0.2
            },
            "type": "scatter"
           }
          ],
          "scatter3d": [
           {
            "line": {
             "colorbar": {
              "outlinewidth": 0,
              "ticks": ""
             }
            },
            "marker": {
             "colorbar": {
              "outlinewidth": 0,
              "ticks": ""
             }
            },
            "type": "scatter3d"
           }
          ],
          "scattercarpet": [
           {
            "marker": {
             "colorbar": {
              "outlinewidth": 0,
              "ticks": ""
             }
            },
            "type": "scattercarpet"
           }
          ],
          "scattergeo": [
           {
            "marker": {
             "colorbar": {
              "outlinewidth": 0,
              "ticks": ""
             }
            },
            "type": "scattergeo"
           }
          ],
          "scattergl": [
           {
            "marker": {
             "colorbar": {
              "outlinewidth": 0,
              "ticks": ""
             }
            },
            "type": "scattergl"
           }
          ],
          "scattermapbox": [
           {
            "marker": {
             "colorbar": {
              "outlinewidth": 0,
              "ticks": ""
             }
            },
            "type": "scattermapbox"
           }
          ],
          "scatterpolar": [
           {
            "marker": {
             "colorbar": {
              "outlinewidth": 0,
              "ticks": ""
             }
            },
            "type": "scatterpolar"
           }
          ],
          "scatterpolargl": [
           {
            "marker": {
             "colorbar": {
              "outlinewidth": 0,
              "ticks": ""
             }
            },
            "type": "scatterpolargl"
           }
          ],
          "scatterternary": [
           {
            "marker": {
             "colorbar": {
              "outlinewidth": 0,
              "ticks": ""
             }
            },
            "type": "scatterternary"
           }
          ],
          "surface": [
           {
            "colorbar": {
             "outlinewidth": 0,
             "ticks": ""
            },
            "colorscale": [
             [
              0,
              "#0d0887"
             ],
             [
              0.1111111111111111,
              "#46039f"
             ],
             [
              0.2222222222222222,
              "#7201a8"
             ],
             [
              0.3333333333333333,
              "#9c179e"
             ],
             [
              0.4444444444444444,
              "#bd3786"
             ],
             [
              0.5555555555555556,
              "#d8576b"
             ],
             [
              0.6666666666666666,
              "#ed7953"
             ],
             [
              0.7777777777777778,
              "#fb9f3a"
             ],
             [
              0.8888888888888888,
              "#fdca26"
             ],
             [
              1,
              "#f0f921"
             ]
            ],
            "type": "surface"
           }
          ],
          "table": [
           {
            "cells": {
             "fill": {
              "color": "#EBF0F8"
             },
             "line": {
              "color": "white"
             }
            },
            "header": {
             "fill": {
              "color": "#C8D4E3"
             },
             "line": {
              "color": "white"
             }
            },
            "type": "table"
           }
          ]
         },
         "layout": {
          "annotationdefaults": {
           "arrowcolor": "#2a3f5f",
           "arrowhead": 0,
           "arrowwidth": 1
          },
          "autotypenumbers": "strict",
          "coloraxis": {
           "colorbar": {
            "outlinewidth": 0,
            "ticks": ""
           }
          },
          "colorscale": {
           "diverging": [
            [
             0,
             "#8e0152"
            ],
            [
             0.1,
             "#c51b7d"
            ],
            [
             0.2,
             "#de77ae"
            ],
            [
             0.3,
             "#f1b6da"
            ],
            [
             0.4,
             "#fde0ef"
            ],
            [
             0.5,
             "#f7f7f7"
            ],
            [
             0.6,
             "#e6f5d0"
            ],
            [
             0.7,
             "#b8e186"
            ],
            [
             0.8,
             "#7fbc41"
            ],
            [
             0.9,
             "#4d9221"
            ],
            [
             1,
             "#276419"
            ]
           ],
           "sequential": [
            [
             0,
             "#0d0887"
            ],
            [
             0.1111111111111111,
             "#46039f"
            ],
            [
             0.2222222222222222,
             "#7201a8"
            ],
            [
             0.3333333333333333,
             "#9c179e"
            ],
            [
             0.4444444444444444,
             "#bd3786"
            ],
            [
             0.5555555555555556,
             "#d8576b"
            ],
            [
             0.6666666666666666,
             "#ed7953"
            ],
            [
             0.7777777777777778,
             "#fb9f3a"
            ],
            [
             0.8888888888888888,
             "#fdca26"
            ],
            [
             1,
             "#f0f921"
            ]
           ],
           "sequentialminus": [
            [
             0,
             "#0d0887"
            ],
            [
             0.1111111111111111,
             "#46039f"
            ],
            [
             0.2222222222222222,
             "#7201a8"
            ],
            [
             0.3333333333333333,
             "#9c179e"
            ],
            [
             0.4444444444444444,
             "#bd3786"
            ],
            [
             0.5555555555555556,
             "#d8576b"
            ],
            [
             0.6666666666666666,
             "#ed7953"
            ],
            [
             0.7777777777777778,
             "#fb9f3a"
            ],
            [
             0.8888888888888888,
             "#fdca26"
            ],
            [
             1,
             "#f0f921"
            ]
           ]
          },
          "colorway": [
           "#636efa",
           "#EF553B",
           "#00cc96",
           "#ab63fa",
           "#FFA15A",
           "#19d3f3",
           "#FF6692",
           "#B6E880",
           "#FF97FF",
           "#FECB52"
          ],
          "font": {
           "color": "#2a3f5f"
          },
          "geo": {
           "bgcolor": "white",
           "lakecolor": "white",
           "landcolor": "#E5ECF6",
           "showlakes": true,
           "showland": true,
           "subunitcolor": "white"
          },
          "hoverlabel": {
           "align": "left"
          },
          "hovermode": "closest",
          "mapbox": {
           "style": "light"
          },
          "paper_bgcolor": "white",
          "plot_bgcolor": "#E5ECF6",
          "polar": {
           "angularaxis": {
            "gridcolor": "white",
            "linecolor": "white",
            "ticks": ""
           },
           "bgcolor": "#E5ECF6",
           "radialaxis": {
            "gridcolor": "white",
            "linecolor": "white",
            "ticks": ""
           }
          },
          "scene": {
           "xaxis": {
            "backgroundcolor": "#E5ECF6",
            "gridcolor": "white",
            "gridwidth": 2,
            "linecolor": "white",
            "showbackground": true,
            "ticks": "",
            "zerolinecolor": "white"
           },
           "yaxis": {
            "backgroundcolor": "#E5ECF6",
            "gridcolor": "white",
            "gridwidth": 2,
            "linecolor": "white",
            "showbackground": true,
            "ticks": "",
            "zerolinecolor": "white"
           },
           "zaxis": {
            "backgroundcolor": "#E5ECF6",
            "gridcolor": "white",
            "gridwidth": 2,
            "linecolor": "white",
            "showbackground": true,
            "ticks": "",
            "zerolinecolor": "white"
           }
          },
          "shapedefaults": {
           "line": {
            "color": "#2a3f5f"
           }
          },
          "ternary": {
           "aaxis": {
            "gridcolor": "white",
            "linecolor": "white",
            "ticks": ""
           },
           "baxis": {
            "gridcolor": "white",
            "linecolor": "white",
            "ticks": ""
           },
           "bgcolor": "#E5ECF6",
           "caxis": {
            "gridcolor": "white",
            "linecolor": "white",
            "ticks": ""
           }
          },
          "title": {
           "x": 0.05
          },
          "xaxis": {
           "automargin": true,
           "gridcolor": "white",
           "linecolor": "white",
           "ticks": "",
           "title": {
            "standoff": 15
           },
           "zerolinecolor": "white",
           "zerolinewidth": 2
          },
          "yaxis": {
           "automargin": true,
           "gridcolor": "white",
           "linecolor": "white",
           "ticks": "",
           "title": {
            "standoff": 15
           },
           "zerolinecolor": "white",
           "zerolinewidth": 2
          }
         }
        },
        "title": {
         "text": "Long-term Debt Trends"
        },
        "xaxis": {
         "title": {
          "text": "Date"
         }
        },
        "yaxis": {
         "title": {
          "text": "Long-term Debt (Billions USD)"
         }
        }
       }
      }
     },
     "metadata": {},
     "output_type": "display_data"
    }
   ],
   "source": [
    "# Debt trend over time\n",
    "fig = go.Figure()\n",
    "\n",
    "for reit in reits:\n",
    "    debt_df = reit_data[reit]['longtermdebt']\n",
    "    if len(debt_df) > 0:\n",
    "        debt_df = debt_df.sort_values('end')\n",
    "        \n",
    "        fig.add_trace(go.Scatter(\n",
    "            x=debt_df['end'],\n",
    "            y=debt_df['val'] / 1e9,\n",
    "            mode='lines+markers',\n",
    "            name=reit.upper(),\n",
    "            line=dict(width=3, color=colors[reit]),\n",
    "            marker=dict(size=6)\n",
    "        ))\n",
    "\n",
    "fig.update_layout(\n",
    "    title='Long-term Debt Trends',\n",
    "    xaxis_title='Date',\n",
    "    yaxis_title='Long-term Debt (Billions USD)',\n",
    "    hovermode='x unified',\n",
    "    height=500\n",
    ")\n",
    "\n",
    "fig.show()"
   ]
  },
  {
   "cell_type": "markdown",
   "metadata": {},
   "source": [
    "## 6. Comprehensive REIT Scorecard\n",
    "\n",
    "Combine all metrics into a single comparison scorecard."
   ]
  },
  {
   "cell_type": "code",
   "execution_count": 14,
   "metadata": {},
   "outputs": [
    {
     "name": "stdout",
     "output_type": "stream",
     "text": [
      "\n",
      "================================================================================\n",
      "COMPREHENSIVE REIT SCORECARD\n",
      "================================================================================\n",
      "* Lower is better for these metrics\n",
      "\n"
     ]
    },
    {
     "data": {
      "text/html": [
       "<div>\n",
       "<style scoped>\n",
       "    .dataframe tbody tr th:only-of-type {\n",
       "        vertical-align: middle;\n",
       "    }\n",
       "\n",
       "    .dataframe tbody tr th {\n",
       "        vertical-align: top;\n",
       "    }\n",
       "\n",
       "    .dataframe thead th {\n",
       "        text-align: right;\n",
       "    }\n",
       "</style>\n",
       "<table border=\"1\" class=\"dataframe\">\n",
       "  <thead>\n",
       "    <tr style=\"text-align: right;\">\n",
       "      <th></th>\n",
       "      <th>Metric</th>\n",
       "      <th>OHI</th>\n",
       "      <th>CTRE</th>\n",
       "      <th>SBRA</th>\n",
       "    </tr>\n",
       "  </thead>\n",
       "  <tbody>\n",
       "    <tr>\n",
       "      <th>0</th>\n",
       "      <td>--- SIZE METRICS ---</td>\n",
       "      <td></td>\n",
       "      <td></td>\n",
       "      <td></td>\n",
       "    </tr>\n",
       "    <tr>\n",
       "      <th>1</th>\n",
       "      <td>Total Assets ($B)</td>\n",
       "      <td>10.55</td>\n",
       "      <td>4.66</td>\n",
       "      <td>5.33</td>\n",
       "    </tr>\n",
       "    <tr>\n",
       "      <th>2</th>\n",
       "      <td>Real Estate ($B)</td>\n",
       "      <td>6.80</td>\n",
       "      <td>3.26</td>\n",
       "      <td>4.48</td>\n",
       "    </tr>\n",
       "    <tr>\n",
       "      <th>3</th>\n",
       "      <td>TTM Revenue ($M)</td>\n",
       "      <td>1394.6</td>\n",
       "      <td>495.6</td>\n",
       "      <td>923.4</td>\n",
       "    </tr>\n",
       "    <tr>\n",
       "      <th>4</th>\n",
       "      <td></td>\n",
       "      <td></td>\n",
       "      <td></td>\n",
       "      <td></td>\n",
       "    </tr>\n",
       "    <tr>\n",
       "      <th>5</th>\n",
       "      <td>--- GROWTH METRICS ---</td>\n",
       "      <td></td>\n",
       "      <td></td>\n",
       "      <td></td>\n",
       "    </tr>\n",
       "    <tr>\n",
       "      <th>6</th>\n",
       "      <td>YoY Revenue Growth (%)</td>\n",
       "      <td>-21.37</td>\n",
       "      <td>80.78</td>\n",
       "      <td>-24.07</td>\n",
       "    </tr>\n",
       "    <tr>\n",
       "      <th>7</th>\n",
       "      <td>3-Year Revenue CAGR (%)</td>\n",
       "      <td>-13.18</td>\n",
       "      <td>24.99</td>\n",
       "      <td>-14.01</td>\n",
       "    </tr>\n",
       "    <tr>\n",
       "      <th>8</th>\n",
       "      <td>5-Year Revenue CAGR (%)</td>\n",
       "      <td>-0.51</td>\n",
       "      <td>16.25</td>\n",
       "      <td>0.45</td>\n",
       "    </tr>\n",
       "    <tr>\n",
       "      <th>9</th>\n",
       "      <td>Revenue Volatility (%) *</td>\n",
       "      <td>84.84</td>\n",
       "      <td>80.33</td>\n",
       "      <td>73.36</td>\n",
       "    </tr>\n",
       "    <tr>\n",
       "      <th>10</th>\n",
       "      <td></td>\n",
       "      <td></td>\n",
       "      <td></td>\n",
       "      <td></td>\n",
       "    </tr>\n",
       "    <tr>\n",
       "      <th>11</th>\n",
       "      <td>--- PROFITABILITY ---</td>\n",
       "      <td></td>\n",
       "      <td></td>\n",
       "      <td></td>\n",
       "    </tr>\n",
       "    <tr>\n",
       "      <th>12</th>\n",
       "      <td>TTM Net Income ($M)</td>\n",
       "      <td>672.5</td>\n",
       "      <td>341.6</td>\n",
       "      <td>241.5</td>\n",
       "    </tr>\n",
       "    <tr>\n",
       "      <th>13</th>\n",
       "      <td>Net Margin (%)</td>\n",
       "      <td>48.22</td>\n",
       "      <td>54.44</td>\n",
       "      <td>26.15</td>\n",
       "    </tr>\n",
       "    <tr>\n",
       "      <th>14</th>\n",
       "      <td>Return on Equity (%)</td>\n",
       "      <td>13.48</td>\n",
       "      <td>10.35</td>\n",
       "      <td>8.91</td>\n",
       "    </tr>\n",
       "    <tr>\n",
       "      <th>15</th>\n",
       "      <td>Return on Assets (%)</td>\n",
       "      <td>6.38</td>\n",
       "      <td>7.34</td>\n",
       "      <td>4.53</td>\n",
       "    </tr>\n",
       "    <tr>\n",
       "      <th>16</th>\n",
       "      <td></td>\n",
       "      <td></td>\n",
       "      <td></td>\n",
       "      <td></td>\n",
       "    </tr>\n",
       "    <tr>\n",
       "      <th>17</th>\n",
       "      <td>--- BALANCE SHEET ---</td>\n",
       "      <td></td>\n",
       "      <td></td>\n",
       "      <td></td>\n",
       "    </tr>\n",
       "    <tr>\n",
       "      <th>18</th>\n",
       "      <td>Stockholders Equity ($B)</td>\n",
       "      <td>4.99</td>\n",
       "      <td>3.30</td>\n",
       "      <td>2.71</td>\n",
       "    </tr>\n",
       "    <tr>\n",
       "      <th>19</th>\n",
       "      <td>Long-term Debt ($B)</td>\n",
       "      <td>5.00</td>\n",
       "      <td>1.16</td>\n",
       "      <td>2.48</td>\n",
       "    </tr>\n",
       "    <tr>\n",
       "      <th>20</th>\n",
       "      <td>Debt/Equity Ratio</td>\n",
       "      <td>1.00</td>\n",
       "      <td>0.35</td>\n",
       "      <td>0.91</td>\n",
       "    </tr>\n",
       "    <tr>\n",
       "      <th>21</th>\n",
       "      <td>Debt/Assets (%) *</td>\n",
       "      <td>47.4</td>\n",
       "      <td>24.8</td>\n",
       "      <td>46.5</td>\n",
       "    </tr>\n",
       "  </tbody>\n",
       "</table>\n",
       "</div>"
      ],
      "text/plain": [
       "                      Metric     OHI   CTRE    SBRA\n",
       "0       --- SIZE METRICS ---                       \n",
       "1          Total Assets ($B)   10.55   4.66    5.33\n",
       "2           Real Estate ($B)    6.80   3.26    4.48\n",
       "3           TTM Revenue ($M)  1394.6  495.6   923.4\n",
       "4                                                  \n",
       "5     --- GROWTH METRICS ---                       \n",
       "6     YoY Revenue Growth (%)  -21.37  80.78  -24.07\n",
       "7    3-Year Revenue CAGR (%)  -13.18  24.99  -14.01\n",
       "8    5-Year Revenue CAGR (%)   -0.51  16.25    0.45\n",
       "9   Revenue Volatility (%) *   84.84  80.33   73.36\n",
       "10                                                 \n",
       "11     --- PROFITABILITY ---                       \n",
       "12       TTM Net Income ($M)   672.5  341.6   241.5\n",
       "13            Net Margin (%)   48.22  54.44   26.15\n",
       "14      Return on Equity (%)   13.48  10.35    8.91\n",
       "15      Return on Assets (%)    6.38   7.34    4.53\n",
       "16                                                 \n",
       "17     --- BALANCE SHEET ---                       \n",
       "18  Stockholders Equity ($B)    4.99   3.30    2.71\n",
       "19       Long-term Debt ($B)    5.00   1.16    2.48\n",
       "20         Debt/Equity Ratio    1.00   0.35    0.91\n",
       "21         Debt/Assets (%) *    47.4   24.8    46.5"
      ]
     },
     "execution_count": 14,
     "metadata": {},
     "output_type": "execute_result"
    }
   ],
   "source": [
    "# Create comprehensive scorecard\n",
    "scorecard = pd.DataFrame({\n",
    "    'Metric': [\n",
    "        '--- SIZE METRICS ---',\n",
    "        'Total Assets ($B)',\n",
    "        'Real Estate ($B)',\n",
    "        'TTM Revenue ($M)',\n",
    "        '',\n",
    "        '--- GROWTH METRICS ---',\n",
    "        'YoY Revenue Growth (%)',\n",
    "        '3-Year Revenue CAGR (%)',\n",
    "        '5-Year Revenue CAGR (%)',\n",
    "        'Revenue Volatility (%) *',\n",
    "        '',\n",
    "        '--- PROFITABILITY ---',\n",
    "        'TTM Net Income ($M)',\n",
    "        'Net Margin (%)',\n",
    "        'Return on Equity (%)',\n",
    "        'Return on Assets (%)',\n",
    "        '',\n",
    "        '--- BALANCE SHEET ---',\n",
    "        'Stockholders Equity ($B)',\n",
    "        'Long-term Debt ($B)',\n",
    "        'Debt/Equity Ratio',\n",
    "        'Debt/Assets (%) *'\n",
    "    ]\n",
    "})\n",
    "\n",
    "# Populate with data\n",
    "for reit in reits:\n",
    "    reit_upper = reit.upper()\n",
    "    \n",
    "    scorecard[reit_upper] = [\n",
    "        '',  # Section header\n",
    "        f\"{size_df[size_df['REIT']==reit_upper]['Total Assets ($B)'].values[0]:.2f}\",\n",
    "        f\"{size_df[size_df['REIT']==reit_upper]['Real Estate ($B)'].values[0]:.2f}\",\n",
    "        f\"{size_df[size_df['REIT']==reit_upper]['TTM Revenue ($M)'].values[0]:.1f}\",\n",
    "        '',\n",
    "        '',  # Section header\n",
    "        f\"{growth_df[growth_df['REIT']==reit_upper]['YoY Growth (%)'].values[0]:.2f}\",\n",
    "        f\"{growth_df[growth_df['REIT']==reit_upper]['3Y CAGR (%)'].values[0]:.2f}\",\n",
    "        f\"{growth_df[growth_df['REIT']==reit_upper]['5Y CAGR (%)'].values[0]:.2f}\" if growth_df[growth_df['REIT']==reit_upper]['5Y CAGR (%)'].values[0] else 'N/A',\n",
    "        f\"{growth_df[growth_df['REIT']==reit_upper]['Revenue Volatility (%)'].values[0]:.2f}\",\n",
    "        '',\n",
    "        '',  # Section header\n",
    "        f\"{profit_df[profit_df['REIT']==reit_upper]['TTM Net Income ($M)'].values[0]:.1f}\",\n",
    "        f\"{profit_df[profit_df['REIT']==reit_upper]['Net Margin (%)'].values[0]:.2f}\",\n",
    "        f\"{profit_df[profit_df['REIT']==reit_upper]['ROE (%)'].values[0]:.2f}\" if profit_df[profit_df['REIT']==reit_upper]['ROE (%)'].values[0] else 'N/A',\n",
    "        f\"{profit_df[profit_df['REIT']==reit_upper]['ROA (%)'].values[0]:.2f}\" if profit_df[profit_df['REIT']==reit_upper]['ROA (%)'].values[0] else 'N/A',\n",
    "        '',\n",
    "        '',  # Section header\n",
    "        f\"{balance_df[balance_df['REIT']==reit_upper]['Stockholders Equity ($B)'].values[0]:.2f}\",\n",
    "        f\"{balance_df[balance_df['REIT']==reit_upper]['Long-term Debt ($B)'].values[0]:.2f}\" if balance_df[balance_df['REIT']==reit_upper]['Long-term Debt ($B)'].values[0] else 'N/A',\n",
    "        f\"{balance_df[balance_df['REIT']==reit_upper]['Debt/Equity Ratio'].values[0]:.2f}\" if balance_df[balance_df['REIT']==reit_upper]['Debt/Equity Ratio'].values[0] else 'N/A',\n",
    "        f\"{balance_df[balance_df['REIT']==reit_upper]['Debt/Assets (%)'].values[0]:.1f}\" if balance_df[balance_df['REIT']==reit_upper]['Debt/Assets (%)'].values[0] else 'N/A',\n",
    "    ]\n",
    "\n",
    "print(\"\\n\" + \"=\"*80)\n",
    "print(\"COMPREHENSIVE REIT SCORECARD\")\n",
    "print(\"=\"*80)\n",
    "print(\"* Lower is better for these metrics\\n\")\n",
    "scorecard"
   ]
  },
  {
   "cell_type": "markdown",
   "metadata": {},
   "source": [
    "## 7. Key Findings & Investment Implications\n",
    "\n",
    "Summary of the comparative analysis."
   ]
  },
  {
   "cell_type": "code",
   "execution_count": 15,
   "metadata": {},
   "outputs": [
    {
     "name": "stdout",
     "output_type": "stream",
     "text": [
      "\n",
      "================================================================================\n",
      "KEY FINDINGS\n",
      "================================================================================\n",
      "\n",
      "🏆 LEADERS BY CATEGORY:\n",
      "\n",
      "  Size (Assets)........................... OHI\n",
      "  Revenue Scale........................... OHI\n",
      "  Growth (3Y CAGR)........................ CTRE\n",
      "  Revenue Stability....................... SBRA\n",
      "  Profitability (Net Margin).............. CTRE\n",
      "  Return on Equity........................ OHI\n",
      "  Balance Sheet Strength (Low Leverage)... CTRE\n",
      "  Equity Strength......................... OHI\n",
      "\n",
      "================================================================================\n",
      "COMPARATIVE PROFILES\n",
      "================================================================================\n",
      "\n",
      "📊 OHI (Omega Healthcare):\n",
      "  - Largest REIT by assets and revenue\n",
      "  - Market leader position\n",
      "  - Mature, stable cash flows\n",
      "  - Lower growth but higher stability\n",
      "\n",
      "📊 CTRE (CareTrust):\n",
      "  - Smallest of the three by assets\n",
      "  - Higher growth profile\n",
      "  - More nimble and potentially more upside\n",
      "  - Balance sheet considerations\n",
      "\n",
      "📊 SBRA (Sabra Healthcare):\n",
      "  - Middle-market position\n",
      "  - Balanced growth and stability\n",
      "  - Diversified portfolio approach\n",
      "  - Moderate risk/return profile\n",
      "\n",
      "================================================================================\n",
      "NEXT STEPS FOR DEEPER ANALYSIS\n",
      "================================================================================\n",
      "\n",
      "1. Portfolio Quality Analysis\n",
      "   → Match properties to CMS quality ratings\n",
      "   → Calculate weighted average portfolio quality scores\n",
      "   → Identify concentration risks by geography and tenant\n",
      "\n",
      "2. Integrate BLS Economic Data\n",
      "   → Apply PPI growth forecasts to revenue projections\n",
      "   → Assess labor cost pressure on tenant margins\n",
      "   → Build forward-looking NOI estimates\n",
      "\n",
      "3. Build DCF Valuation Models\n",
      "   → Project 5-year cash flows using BLS indicators\n",
      "   → Risk-adjust discount rates based on portfolio quality\n",
      "   → Generate intrinsic value ranges for each REIT\n",
      "\n",
      "4. Scenario Analysis\n",
      "   → Base case: Current trends continue\n",
      "   → Bull case: PPI acceleration, wage moderation\n",
      "   → Bear case: Wage inflation, PPI stagnation\n",
      "\n"
     ]
    }
   ],
   "source": [
    "print(\"\\n\" + \"=\"*80)\n",
    "print(\"KEY FINDINGS\")\n",
    "print(\"=\"*80)\n",
    "\n",
    "print(\"\\n🏆 LEADERS BY CATEGORY:\\n\")\n",
    "\n",
    "categories = {\n",
    "    'Size (Assets)': size_df.loc[size_df['Total Assets ($B)'].idxmax(), 'REIT'],\n",
    "    'Revenue Scale': size_df.loc[size_df['TTM Revenue ($M)'].idxmax(), 'REIT'],\n",
    "    'Growth (3Y CAGR)': growth_df.loc[growth_df['3Y CAGR (%)'].idxmax(), 'REIT'],\n",
    "    'Revenue Stability': growth_df.loc[growth_df['Revenue Volatility (%)'].idxmin(), 'REIT'],\n",
    "    'Profitability (Net Margin)': profit_df.loc[profit_df['Net Margin (%)'].idxmax(), 'REIT'],\n",
    "    'Return on Equity': profit_df.loc[profit_df['ROE (%)'].idxmax(), 'REIT'],\n",
    "    'Balance Sheet Strength (Low Leverage)': balance_df.loc[balance_df['Debt/Equity Ratio'].idxmin(), 'REIT'],\n",
    "    'Equity Strength': balance_df.loc[balance_df['Stockholders Equity ($B)'].idxmax(), 'REIT']\n",
    "}\n",
    "\n",
    "for category, leader in categories.items():\n",
    "    print(f\"  {category:.<40} {leader}\")\n",
    "\n",
    "print(\"\\n\" + \"=\"*80)\n",
    "print(\"COMPARATIVE PROFILES\")\n",
    "print(\"=\"*80)\n",
    "\n",
    "print(\"\\n📊 OHI (Omega Healthcare):\")\n",
    "print(\"  - Largest REIT by assets and revenue\")\n",
    "print(\"  - Market leader position\")\n",
    "print(\"  - Mature, stable cash flows\")\n",
    "print(\"  - Lower growth but higher stability\")\n",
    "\n",
    "print(\"\\n📊 CTRE (CareTrust):\")\n",
    "print(\"  - Smallest of the three by assets\")\n",
    "print(\"  - Higher growth profile\")\n",
    "print(\"  - More nimble and potentially more upside\")\n",
    "print(\"  - Balance sheet considerations\")\n",
    "\n",
    "print(\"\\n📊 SBRA (Sabra Healthcare):\")\n",
    "print(\"  - Middle-market position\")\n",
    "print(\"  - Balanced growth and stability\")\n",
    "print(\"  - Diversified portfolio approach\")\n",
    "print(\"  - Moderate risk/return profile\")\n",
    "\n",
    "print(\"\\n\" + \"=\"*80)\n",
    "print(\"NEXT STEPS FOR DEEPER ANALYSIS\")\n",
    "print(\"=\"*80)\n",
    "print(\"\"\"\n",
    "1. Portfolio Quality Analysis\n",
    "   → Match properties to CMS quality ratings\n",
    "   → Calculate weighted average portfolio quality scores\n",
    "   → Identify concentration risks by geography and tenant\n",
    "\n",
    "2. Integrate BLS Economic Data\n",
    "   → Apply PPI growth forecasts to revenue projections\n",
    "   → Assess labor cost pressure on tenant margins\n",
    "   → Build forward-looking NOI estimates\n",
    "\n",
    "3. Build DCF Valuation Models\n",
    "   → Project 5-year cash flows using BLS indicators\n",
    "   → Risk-adjust discount rates based on portfolio quality\n",
    "   → Generate intrinsic value ranges for each REIT\n",
    "\n",
    "4. Scenario Analysis\n",
    "   → Base case: Current trends continue\n",
    "   → Bull case: PPI acceleration, wage moderation\n",
    "   → Bear case: Wage inflation, PPI stagnation\n",
    "\"\"\")"
   ]
  },
  {
   "cell_type": "markdown",
   "metadata": {},
   "source": [
    "## 8. Export Results for Further Analysis"
   ]
  },
  {
   "cell_type": "code",
   "execution_count": null,
   "metadata": {},
   "outputs": [],
   "source": [
    "# Save comprehensive scorecard\n",
    "output_path = Path('../../reports')\n",
    "output_path.mkdir(exist_ok=True)\n",
    "\n",
    "scorecard.to_csv(output_path / 'reit_comparison_scorecard.csv', index=False)\n",
    "print(f\"✅ Scorecard saved to {output_path / 'reit_comparison_scorecard.csv'}\")\n",
    "\n",
    "# Save individual metric tables\n",
    "size_df.to_csv(output_path / 'reit_size_metrics.csv', index=False)\n",
    "growth_df.to_csv(output_path / 'reit_growth_metrics.csv', index=False)\n",
    "profit_df.to_csv(output_path / 'reit_profitability_metrics.csv', index=False)\n",
    "balance_df.to_csv(output_path / 'reit_balance_sheet_metrics.csv', index=False)\n",
    "\n",
    "print(\"\\n✅ All analysis tables exported to reports/ directory\")"
   ]
  }
 ],
 "metadata": {
  "kernelspec": {
   "display_name": "Socrates",
   "language": "python",
   "name": "python3"
  },
  "language_info": {
   "codemirror_mode": {
    "name": "ipython",
    "version": 3
   },
   "file_extension": ".py",
   "mimetype": "text/x-python",
   "name": "python",
   "nbconvert_exporter": "python",
   "pygments_lexer": "ipython3",
   "version": "3.12.4"
  }
 },
 "nbformat": 4,
 "nbformat_minor": 4
}
